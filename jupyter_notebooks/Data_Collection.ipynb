{
 "cells": [
  {
   "cell_type": "markdown",
   "metadata": {},
   "source": [
    "# Data Collection\n",
    "\n",
    "## Objectives\n",
    "\n",
    "- Fetch and upload cherry leaves image dataset from Kaggle\n",
    "- Prepare data for analysis and modelling\n",
    "\n",
    "## Inputs\n",
    "\n",
    "- Kaggle authentification token [JSON file]\n",
    "- [Kaggle dataset](https://www.kaggle.com/codeinstitute/cherry-leaves)\n",
    "\n",
    "## Outputs\n",
    "\n",
    "- Dataset split: train, validation, test section\n",
    "- Datasets saved to train, validation, test folders (within inputs/datasets/cherry_leaves_raw_data)"
   ]
  },
  {
   "cell_type": "markdown",
   "metadata": {},
   "source": [
    "## Install dependencies"
   ]
  },
  {
   "cell_type": "code",
   "execution_count": 1,
   "metadata": {},
   "outputs": [
    {
     "name": "stdout",
     "output_type": "stream",
     "text": [
      "Requirement already satisfied: numpy==1.19.2 in /home/gitpod/.pyenv/versions/3.8.12/lib/python3.8/site-packages (from -r /workspace/mildew-detection/requirements.txt (line 1)) (1.19.2)\n",
      "Requirement already satisfied: pandas==1.1.2 in /home/gitpod/.pyenv/versions/3.8.12/lib/python3.8/site-packages (from -r /workspace/mildew-detection/requirements.txt (line 2)) (1.1.2)\n",
      "Requirement already satisfied: matplotlib==3.3.1 in /home/gitpod/.pyenv/versions/3.8.12/lib/python3.8/site-packages (from -r /workspace/mildew-detection/requirements.txt (line 3)) (3.3.1)\n",
      "Requirement already satisfied: seaborn==0.11.0 in /home/gitpod/.pyenv/versions/3.8.12/lib/python3.8/site-packages (from -r /workspace/mildew-detection/requirements.txt (line 4)) (0.11.0)\n",
      "Requirement already satisfied: plotly==4.12.0 in /home/gitpod/.pyenv/versions/3.8.12/lib/python3.8/site-packages (from -r /workspace/mildew-detection/requirements.txt (line 5)) (4.12.0)\n",
      "Requirement already satisfied: streamlit==0.85.0 in /home/gitpod/.pyenv/versions/3.8.12/lib/python3.8/site-packages (from -r /workspace/mildew-detection/requirements.txt (line 7)) (0.85.0)\n",
      "Requirement already satisfied: scikit-learn==0.24.2 in /home/gitpod/.pyenv/versions/3.8.12/lib/python3.8/site-packages (from -r /workspace/mildew-detection/requirements.txt (line 9)) (0.24.2)\n",
      "Requirement already satisfied: tensorflow-cpu==2.6.0 in /home/gitpod/.pyenv/versions/3.8.12/lib/python3.8/site-packages (from -r /workspace/mildew-detection/requirements.txt (line 10)) (2.6.0)\n",
      "Requirement already satisfied: keras==2.6.0 in /home/gitpod/.pyenv/versions/3.8.12/lib/python3.8/site-packages (from -r /workspace/mildew-detection/requirements.txt (line 11)) (2.6.0)\n",
      "Requirement already satisfied: protobuf==3.20 in /home/gitpod/.pyenv/versions/3.8.12/lib/python3.8/site-packages (from -r /workspace/mildew-detection/requirements.txt (line 12)) (3.20.0)\n",
      "Requirement already satisfied: altair<5 in /home/gitpod/.pyenv/versions/3.8.12/lib/python3.8/site-packages (from -r /workspace/mildew-detection/requirements.txt (line 13)) (4.2.2)\n",
      "Requirement already satisfied: python-dateutil>=2.7.3 in /home/gitpod/.pyenv/versions/3.8.12/lib/python3.8/site-packages (from pandas==1.1.2->-r /workspace/mildew-detection/requirements.txt (line 2)) (2.9.0.post0)\n",
      "Requirement already satisfied: pytz>=2017.2 in /home/gitpod/.pyenv/versions/3.8.12/lib/python3.8/site-packages (from pandas==1.1.2->-r /workspace/mildew-detection/requirements.txt (line 2)) (2024.1)\n",
      "Requirement already satisfied: kiwisolver>=1.0.1 in /home/gitpod/.pyenv/versions/3.8.12/lib/python3.8/site-packages (from matplotlib==3.3.1->-r /workspace/mildew-detection/requirements.txt (line 3)) (1.4.5)\n",
      "Requirement already satisfied: cycler>=0.10 in /home/gitpod/.pyenv/versions/3.8.12/lib/python3.8/site-packages (from matplotlib==3.3.1->-r /workspace/mildew-detection/requirements.txt (line 3)) (0.12.1)\n",
      "Requirement already satisfied: pillow>=6.2.0 in /home/gitpod/.pyenv/versions/3.8.12/lib/python3.8/site-packages (from matplotlib==3.3.1->-r /workspace/mildew-detection/requirements.txt (line 3)) (10.2.0)\n",
      "Requirement already satisfied: pyparsing!=2.0.4,!=2.1.2,!=2.1.6,>=2.0.3 in /home/gitpod/.pyenv/versions/3.8.12/lib/python3.8/site-packages (from matplotlib==3.3.1->-r /workspace/mildew-detection/requirements.txt (line 3)) (3.1.2)\n",
      "Requirement already satisfied: certifi>=2020.06.20 in /home/gitpod/.pyenv/versions/3.8.12/lib/python3.8/site-packages (from matplotlib==3.3.1->-r /workspace/mildew-detection/requirements.txt (line 3)) (2024.2.2)\n",
      "Requirement already satisfied: scipy>=1.0 in /home/gitpod/.pyenv/versions/3.8.12/lib/python3.8/site-packages (from seaborn==0.11.0->-r /workspace/mildew-detection/requirements.txt (line 4)) (1.9.3)\n",
      "Requirement already satisfied: retrying>=1.3.3 in /home/gitpod/.pyenv/versions/3.8.12/lib/python3.8/site-packages (from plotly==4.12.0->-r /workspace/mildew-detection/requirements.txt (line 5)) (1.3.4)\n",
      "Requirement already satisfied: six in /home/gitpod/.pyenv/versions/3.8.12/lib/python3.8/site-packages (from plotly==4.12.0->-r /workspace/mildew-detection/requirements.txt (line 5)) (1.15.0)\n",
      "Requirement already satisfied: cachetools>=4.0 in /home/gitpod/.pyenv/versions/3.8.12/lib/python3.8/site-packages (from streamlit==0.85.0->-r /workspace/mildew-detection/requirements.txt (line 7)) (5.3.3)\n",
      "Requirement already satisfied: watchdog in /home/gitpod/.pyenv/versions/3.8.12/lib/python3.8/site-packages (from streamlit==0.85.0->-r /workspace/mildew-detection/requirements.txt (line 7)) (4.0.0)\n",
      "Requirement already satisfied: tornado>=5.0 in /home/gitpod/.pyenv/versions/3.8.12/lib/python3.8/site-packages (from streamlit==0.85.0->-r /workspace/mildew-detection/requirements.txt (line 7)) (6.4)\n",
      "Requirement already satisfied: packaging in /home/gitpod/.pyenv/versions/3.8.12/lib/python3.8/site-packages (from streamlit==0.85.0->-r /workspace/mildew-detection/requirements.txt (line 7)) (23.2)\n",
      "Requirement already satisfied: blinker in /home/gitpod/.pyenv/versions/3.8.12/lib/python3.8/site-packages (from streamlit==0.85.0->-r /workspace/mildew-detection/requirements.txt (line 7)) (1.7.0)\n",
      "Requirement already satisfied: tzlocal in /home/gitpod/.pyenv/versions/3.8.12/lib/python3.8/site-packages (from streamlit==0.85.0->-r /workspace/mildew-detection/requirements.txt (line 7)) (5.2)\n",
      "Requirement already satisfied: validators in /home/gitpod/.pyenv/versions/3.8.12/lib/python3.8/site-packages (from streamlit==0.85.0->-r /workspace/mildew-detection/requirements.txt (line 7)) (0.22.0)\n",
      "Requirement already satisfied: toml in /home/gitpod/.pyenv/versions/3.8.12/lib/python3.8/site-packages (from streamlit==0.85.0->-r /workspace/mildew-detection/requirements.txt (line 7)) (0.10.2)\n",
      "Requirement already satisfied: base58 in /home/gitpod/.pyenv/versions/3.8.12/lib/python3.8/site-packages (from streamlit==0.85.0->-r /workspace/mildew-detection/requirements.txt (line 7)) (2.1.1)\n",
      "Requirement already satisfied: gitpython in /home/gitpod/.pyenv/versions/3.8.12/lib/python3.8/site-packages (from streamlit==0.85.0->-r /workspace/mildew-detection/requirements.txt (line 7)) (3.1.42)\n",
      "Requirement already satisfied: pyarrow in /home/gitpod/.pyenv/versions/3.8.12/lib/python3.8/site-packages (from streamlit==0.85.0->-r /workspace/mildew-detection/requirements.txt (line 7)) (15.0.1)\n",
      "Requirement already satisfied: attrs in /home/gitpod/.pyenv/versions/3.8.12/lib/python3.8/site-packages (from streamlit==0.85.0->-r /workspace/mildew-detection/requirements.txt (line 7)) (23.2.0)\n",
      "Requirement already satisfied: astor in /home/gitpod/.pyenv/versions/3.8.12/lib/python3.8/site-packages (from streamlit==0.85.0->-r /workspace/mildew-detection/requirements.txt (line 7)) (0.8.1)\n",
      "Requirement already satisfied: requests in /home/gitpod/.pyenv/versions/3.8.12/lib/python3.8/site-packages (from streamlit==0.85.0->-r /workspace/mildew-detection/requirements.txt (line 7)) (2.31.0)\n",
      "Requirement already satisfied: click<8.0,>=7.0 in /home/gitpod/.pyenv/versions/3.8.12/lib/python3.8/site-packages (from streamlit==0.85.0->-r /workspace/mildew-detection/requirements.txt (line 7)) (7.1.2)\n",
      "Requirement already satisfied: pydeck>=0.1.dev5 in /home/gitpod/.pyenv/versions/3.8.12/lib/python3.8/site-packages (from streamlit==0.85.0->-r /workspace/mildew-detection/requirements.txt (line 7)) (0.8.1b0)\n",
      "Requirement already satisfied: joblib>=0.11 in /home/gitpod/.pyenv/versions/3.8.12/lib/python3.8/site-packages (from scikit-learn==0.24.2->-r /workspace/mildew-detection/requirements.txt (line 9)) (1.3.2)\n",
      "Requirement already satisfied: threadpoolctl>=2.0.0 in /home/gitpod/.pyenv/versions/3.8.12/lib/python3.8/site-packages (from scikit-learn==0.24.2->-r /workspace/mildew-detection/requirements.txt (line 9)) (3.3.0)\n",
      "Requirement already satisfied: grpcio<2.0,>=1.37.0 in /home/gitpod/.pyenv/versions/3.8.12/lib/python3.8/site-packages (from tensorflow-cpu==2.6.0->-r /workspace/mildew-detection/requirements.txt (line 10)) (1.62.0)\n",
      "Requirement already satisfied: termcolor~=1.1.0 in /home/gitpod/.pyenv/versions/3.8.12/lib/python3.8/site-packages (from tensorflow-cpu==2.6.0->-r /workspace/mildew-detection/requirements.txt (line 10)) (1.1.0)\n",
      "Requirement already satisfied: tensorflow-estimator~=2.6 in /home/gitpod/.pyenv/versions/3.8.12/lib/python3.8/site-packages (from tensorflow-cpu==2.6.0->-r /workspace/mildew-detection/requirements.txt (line 10)) (2.15.0)\n",
      "Requirement already satisfied: wheel~=0.35 in /home/gitpod/.pyenv/versions/3.8.12/lib/python3.8/site-packages (from tensorflow-cpu==2.6.0->-r /workspace/mildew-detection/requirements.txt (line 10)) (0.42.0)\n",
      "Requirement already satisfied: wrapt~=1.12.1 in /home/gitpod/.pyenv/versions/3.8.12/lib/python3.8/site-packages (from tensorflow-cpu==2.6.0->-r /workspace/mildew-detection/requirements.txt (line 10)) (1.12.1)\n",
      "Requirement already satisfied: h5py~=3.1.0 in /home/gitpod/.pyenv/versions/3.8.12/lib/python3.8/site-packages (from tensorflow-cpu==2.6.0->-r /workspace/mildew-detection/requirements.txt (line 10)) (3.1.0)\n",
      "Requirement already satisfied: gast==0.4.0 in /home/gitpod/.pyenv/versions/3.8.12/lib/python3.8/site-packages (from tensorflow-cpu==2.6.0->-r /workspace/mildew-detection/requirements.txt (line 10)) (0.4.0)\n",
      "Requirement already satisfied: astunparse~=1.6.3 in /home/gitpod/.pyenv/versions/3.8.12/lib/python3.8/site-packages (from tensorflow-cpu==2.6.0->-r /workspace/mildew-detection/requirements.txt (line 10)) (1.6.3)\n",
      "Requirement already satisfied: typing-extensions~=3.7.4 in /home/gitpod/.pyenv/versions/3.8.12/lib/python3.8/site-packages (from tensorflow-cpu==2.6.0->-r /workspace/mildew-detection/requirements.txt (line 10)) (3.7.4.3)\n",
      "Requirement already satisfied: opt-einsum~=3.3.0 in /home/gitpod/.pyenv/versions/3.8.12/lib/python3.8/site-packages (from tensorflow-cpu==2.6.0->-r /workspace/mildew-detection/requirements.txt (line 10)) (3.3.0)\n",
      "Requirement already satisfied: clang~=5.0 in /home/gitpod/.pyenv/versions/3.8.12/lib/python3.8/site-packages (from tensorflow-cpu==2.6.0->-r /workspace/mildew-detection/requirements.txt (line 10)) (5.0)\n",
      "Requirement already satisfied: google-pasta~=0.2 in /home/gitpod/.pyenv/versions/3.8.12/lib/python3.8/site-packages (from tensorflow-cpu==2.6.0->-r /workspace/mildew-detection/requirements.txt (line 10)) (0.2.0)\n",
      "Requirement already satisfied: keras-preprocessing~=1.1.2 in /home/gitpod/.pyenv/versions/3.8.12/lib/python3.8/site-packages (from tensorflow-cpu==2.6.0->-r /workspace/mildew-detection/requirements.txt (line 10)) (1.1.2)\n",
      "Requirement already satisfied: flatbuffers~=1.12.0 in /home/gitpod/.pyenv/versions/3.8.12/lib/python3.8/site-packages (from tensorflow-cpu==2.6.0->-r /workspace/mildew-detection/requirements.txt (line 10)) (1.12)\n",
      "Requirement already satisfied: absl-py~=0.10 in /home/gitpod/.pyenv/versions/3.8.12/lib/python3.8/site-packages (from tensorflow-cpu==2.6.0->-r /workspace/mildew-detection/requirements.txt (line 10)) (0.15.0)\n",
      "Requirement already satisfied: tensorboard~=2.6 in /home/gitpod/.pyenv/versions/3.8.12/lib/python3.8/site-packages (from tensorflow-cpu==2.6.0->-r /workspace/mildew-detection/requirements.txt (line 10)) (2.14.0)\n",
      "Requirement already satisfied: jinja2 in /home/gitpod/.pyenv/versions/3.8.12/lib/python3.8/site-packages (from altair<5->-r /workspace/mildew-detection/requirements.txt (line 13)) (3.1.3)\n",
      "Requirement already satisfied: toolz in /home/gitpod/.pyenv/versions/3.8.12/lib/python3.8/site-packages (from altair<5->-r /workspace/mildew-detection/requirements.txt (line 13)) (0.12.1)\n",
      "Requirement already satisfied: entrypoints in /home/gitpod/.pyenv/versions/3.8.12/lib/python3.8/site-packages (from altair<5->-r /workspace/mildew-detection/requirements.txt (line 13)) (0.4)\n",
      "Requirement already satisfied: jsonschema>=3.0 in /home/gitpod/.pyenv/versions/3.8.12/lib/python3.8/site-packages (from altair<5->-r /workspace/mildew-detection/requirements.txt (line 13)) (4.21.1)\n",
      "Requirement already satisfied: importlib-resources>=1.4.0 in /home/gitpod/.pyenv/versions/3.8.12/lib/python3.8/site-packages (from jsonschema>=3.0->altair<5->-r /workspace/mildew-detection/requirements.txt (line 13)) (6.1.3)\n",
      "Requirement already satisfied: referencing>=0.28.4 in /home/gitpod/.pyenv/versions/3.8.12/lib/python3.8/site-packages (from jsonschema>=3.0->altair<5->-r /workspace/mildew-detection/requirements.txt (line 13)) (0.33.0)\n",
      "Requirement already satisfied: pkgutil-resolve-name>=1.3.10 in /home/gitpod/.pyenv/versions/3.8.12/lib/python3.8/site-packages (from jsonschema>=3.0->altair<5->-r /workspace/mildew-detection/requirements.txt (line 13)) (1.3.10)\n",
      "Requirement already satisfied: jsonschema-specifications>=2023.03.6 in /home/gitpod/.pyenv/versions/3.8.12/lib/python3.8/site-packages (from jsonschema>=3.0->altair<5->-r /workspace/mildew-detection/requirements.txt (line 13)) (2023.12.1)\n",
      "Requirement already satisfied: rpds-py>=0.7.1 in /home/gitpod/.pyenv/versions/3.8.12/lib/python3.8/site-packages (from jsonschema>=3.0->altair<5->-r /workspace/mildew-detection/requirements.txt (line 13)) (0.18.0)\n",
      "Requirement already satisfied: zipp>=3.1.0 in /home/gitpod/.pyenv/versions/3.8.12/lib/python3.8/site-packages (from importlib-resources>=1.4.0->jsonschema>=3.0->altair<5->-r /workspace/mildew-detection/requirements.txt (line 13)) (3.17.0)\n",
      "Requirement already satisfied: MarkupSafe>=2.0 in /home/gitpod/.pyenv/versions/3.8.12/lib/python3.8/site-packages (from jinja2->altair<5->-r /workspace/mildew-detection/requirements.txt (line 13)) (2.1.5)\n",
      "Requirement already satisfied: werkzeug>=1.0.1 in /home/gitpod/.pyenv/versions/3.8.12/lib/python3.8/site-packages (from tensorboard~=2.6->tensorflow-cpu==2.6.0->-r /workspace/mildew-detection/requirements.txt (line 10)) (3.0.1)\n",
      "Requirement already satisfied: markdown>=2.6.8 in /home/gitpod/.pyenv/versions/3.8.12/lib/python3.8/site-packages (from tensorboard~=2.6->tensorflow-cpu==2.6.0->-r /workspace/mildew-detection/requirements.txt (line 10)) (3.5.2)\n",
      "Requirement already satisfied: setuptools>=41.0.0 in /home/gitpod/.pyenv/versions/3.8.12/lib/python3.8/site-packages (from tensorboard~=2.6->tensorflow-cpu==2.6.0->-r /workspace/mildew-detection/requirements.txt (line 10)) (56.0.0)\n",
      "Requirement already satisfied: google-auth-oauthlib<1.1,>=0.5 in /home/gitpod/.pyenv/versions/3.8.12/lib/python3.8/site-packages (from tensorboard~=2.6->tensorflow-cpu==2.6.0->-r /workspace/mildew-detection/requirements.txt (line 10)) (1.0.0)\n",
      "Requirement already satisfied: google-auth<3,>=1.6.3 in /home/gitpod/.pyenv/versions/3.8.12/lib/python3.8/site-packages (from tensorboard~=2.6->tensorflow-cpu==2.6.0->-r /workspace/mildew-detection/requirements.txt (line 10)) (2.28.1)\n",
      "Requirement already satisfied: tensorboard-data-server<0.8.0,>=0.7.0 in /home/gitpod/.pyenv/versions/3.8.12/lib/python3.8/site-packages (from tensorboard~=2.6->tensorflow-cpu==2.6.0->-r /workspace/mildew-detection/requirements.txt (line 10)) (0.7.2)\n",
      "Requirement already satisfied: pyasn1-modules>=0.2.1 in /home/gitpod/.pyenv/versions/3.8.12/lib/python3.8/site-packages (from google-auth<3,>=1.6.3->tensorboard~=2.6->tensorflow-cpu==2.6.0->-r /workspace/mildew-detection/requirements.txt (line 10)) (0.3.0)\n",
      "Requirement already satisfied: rsa<5,>=3.1.4 in /home/gitpod/.pyenv/versions/3.8.12/lib/python3.8/site-packages (from google-auth<3,>=1.6.3->tensorboard~=2.6->tensorflow-cpu==2.6.0->-r /workspace/mildew-detection/requirements.txt (line 10)) (4.9)\n",
      "Requirement already satisfied: requests-oauthlib>=0.7.0 in /home/gitpod/.pyenv/versions/3.8.12/lib/python3.8/site-packages (from google-auth-oauthlib<1.1,>=0.5->tensorboard~=2.6->tensorflow-cpu==2.6.0->-r /workspace/mildew-detection/requirements.txt (line 10)) (1.3.1)\n",
      "Requirement already satisfied: importlib-metadata>=4.4 in /home/gitpod/.pyenv/versions/3.8.12/lib/python3.8/site-packages (from markdown>=2.6.8->tensorboard~=2.6->tensorflow-cpu==2.6.0->-r /workspace/mildew-detection/requirements.txt (line 10)) (7.0.1)\n",
      "Requirement already satisfied: pyasn1<0.6.0,>=0.4.6 in /home/gitpod/.pyenv/versions/3.8.12/lib/python3.8/site-packages (from pyasn1-modules>=0.2.1->google-auth<3,>=1.6.3->tensorboard~=2.6->tensorflow-cpu==2.6.0->-r /workspace/mildew-detection/requirements.txt (line 10)) (0.5.1)\n",
      "Requirement already satisfied: urllib3<3,>=1.21.1 in /home/gitpod/.pyenv/versions/3.8.12/lib/python3.8/site-packages (from requests->streamlit==0.85.0->-r /workspace/mildew-detection/requirements.txt (line 7)) (2.2.1)\n",
      "Requirement already satisfied: idna<4,>=2.5 in /home/gitpod/.pyenv/versions/3.8.12/lib/python3.8/site-packages (from requests->streamlit==0.85.0->-r /workspace/mildew-detection/requirements.txt (line 7)) (3.6)\n",
      "Requirement already satisfied: charset-normalizer<4,>=2 in /home/gitpod/.pyenv/versions/3.8.12/lib/python3.8/site-packages (from requests->streamlit==0.85.0->-r /workspace/mildew-detection/requirements.txt (line 7)) (3.3.2)\n",
      "Requirement already satisfied: oauthlib>=3.0.0 in /home/gitpod/.pyenv/versions/3.8.12/lib/python3.8/site-packages (from requests-oauthlib>=0.7.0->google-auth-oauthlib<1.1,>=0.5->tensorboard~=2.6->tensorflow-cpu==2.6.0->-r /workspace/mildew-detection/requirements.txt (line 10)) (3.2.2)\n",
      "Requirement already satisfied: gitdb<5,>=4.0.1 in /home/gitpod/.pyenv/versions/3.8.12/lib/python3.8/site-packages (from gitpython->streamlit==0.85.0->-r /workspace/mildew-detection/requirements.txt (line 7)) (4.0.11)\n",
      "Requirement already satisfied: smmap<6,>=3.0.1 in /home/gitpod/.pyenv/versions/3.8.12/lib/python3.8/site-packages (from gitdb<5,>=4.0.1->gitpython->streamlit==0.85.0->-r /workspace/mildew-detection/requirements.txt (line 7)) (5.0.1)\n",
      "Requirement already satisfied: backports.zoneinfo in /home/gitpod/.pyenv/versions/3.8.12/lib/python3.8/site-packages (from tzlocal->streamlit==0.85.0->-r /workspace/mildew-detection/requirements.txt (line 7)) (0.2.1)\n",
      "\u001b[33mWARNING: You are using pip version 21.1.1; however, version 24.0 is available.\n",
      "You should consider upgrading via the '/home/gitpod/.pyenv/versions/3.8.12/bin/python -m pip install --upgrade pip' command.\u001b[0m\n",
      "Note: you may need to restart the kernel to use updated packages.\n"
     ]
    }
   ],
   "source": [
    "pip install -r /workspace/mildew-detection/requirements.txt"
   ]
  },
  {
   "cell_type": "markdown",
   "metadata": {},
   "source": [
    "\n",
    "## Change working directory\n",
    "\n",
    "Change working directory from current to parent folder"
   ]
  },
  {
   "cell_type": "code",
   "execution_count": null,
   "metadata": {},
   "outputs": [],
   "source": [
    "import os\n",
    "current_dir = os.getcwd()\n",
    "current_dir"
   ]
  },
  {
   "cell_type": "code",
   "execution_count": null,
   "metadata": {},
   "outputs": [],
   "source": [
    "os.chdir(\"/workspace/mildew-detection\")\n",
    "print(\"You set a new current directory.\")"
   ]
  },
  {
   "cell_type": "markdown",
   "metadata": {},
   "source": [
    "Confirm new current directory"
   ]
  },
  {
   "cell_type": "code",
   "execution_count": null,
   "metadata": {},
   "outputs": [],
   "source": [
    "current_dir = os.getcwd()\n",
    "current_dir"
   ]
  },
  {
   "cell_type": "markdown",
   "metadata": {},
   "source": [
    "## Kaggle Installation"
   ]
  },
  {
   "cell_type": "code",
   "execution_count": null,
   "metadata": {},
   "outputs": [],
   "source": [
    "pip install kaggle"
   ]
  },
  {
   "cell_type": "code",
   "execution_count": null,
   "metadata": {},
   "outputs": [],
   "source": [
    "os.environ['KAGGLE_CONFIG_DIR'] = os.getcwd()\n",
    "! chmod 600 kaggle.json"
   ]
  },
  {
   "cell_type": "markdown",
   "metadata": {},
   "source": [
    "Get the dataset path from the !(Kaggle url)[https://www.kaggle.com/datasets/codeinstitute/cherry-leaves] and set the destination folder"
   ]
  },
  {
   "cell_type": "code",
   "execution_count": null,
   "metadata": {},
   "outputs": [],
   "source": [
    "KaggleDatasetPathway = \"codeinstitute/cherry-leaves\"\n",
    "DestinationFolder = \"inputs/cherry_leaves_raw_dataset\"\n",
    "! kaggle datasets download -d {KaggleDatasetPathway} -p {DestinationFolder}"
   ]
  },
  {
   "cell_type": "markdown",
   "metadata": {},
   "source": [
    "Unzip the data from the zipfile, and then delete the zipfile"
   ]
  },
  {
   "cell_type": "code",
   "execution_count": null,
   "metadata": {},
   "outputs": [],
   "source": [
    "import zipfile\n",
    "with zipfile.ZipFile(DestinationFolder + \"/\" + \"cherry-leaves.zip\", \"r\") as zip:\n",
    "    zip.extractall(DestinationFolder)\n",
    "os.remove(DestinationFolder + \"/\" + \"cherry-leaves.zip\")"
   ]
  },
  {
   "cell_type": "code",
   "execution_count": null,
   "metadata": {},
   "outputs": [],
   "source": [
    "!ls"
   ]
  },
  {
   "cell_type": "markdown",
   "metadata": {},
   "source": [
    "## Data Preparation"
   ]
  },
  {
   "cell_type": "markdown",
   "metadata": {},
   "source": [
    "Remove non-image files from the dataset"
   ]
  },
  {
   "cell_type": "code",
   "execution_count": null,
   "metadata": {},
   "outputs": [],
   "source": [
    "def remove_non_image_file(my_data_dir):\n",
    "    image_extension = ('.png', '.jpg', '.jpeg')\n",
    "    folders = os.listdir(my_data_dir) \n",
    "    for folder in folders:\n",
    "        files = os.listdir(my_data_dir + '/' + folder)\n",
    "        \n",
    "            #print(files)\n",
    "        i = []\n",
    "        j = []\n",
    "        for given_file in files:\n",
    "            if not given_file.lower().endswith(image_extension):\n",
    "                file_location = my_data_dir + '/' + folder + '/' + given_file\n",
    "                os.remove(file_location) # remove non image file\n",
    "                i.append(1)\n",
    "            else:\n",
    "                j.append(1)\n",
    "                pass\n",
    "        print(f\"Folder: {folder} - has image file\",len(j))\n",
    "        print(f\"Folder: {folder} - has non-image file\",len(i))"
   ]
  },
  {
   "cell_type": "code",
   "execution_count": null,
   "metadata": {},
   "outputs": [],
   "source": [
    "remove_non_image_file(my_data_dir='inputs/cherry_leaves_raw_dataset/cherry-leaves/')"
   ]
  },
  {
   "cell_type": "markdown",
   "metadata": {},
   "source": [
    "Split data into train, validation and test sets"
   ]
  },
  {
   "cell_type": "code",
   "execution_count": null,
   "metadata": {},
   "outputs": [],
   "source": [
    "import os\n",
    "import shutil\n",
    "import random\n",
    "import joblib\n",
    "\n",
    "def split_train_validation_test_images(my_data_dir, train_set_ratio, validation_set_ratio, test_set_ratio):\n",
    "\n",
    "    if train_set_ratio + validation_set_ratio + test_set_ratio != 1.0:\n",
    "        print(\"train_set_ratio + validation_set_ratio + test_set_ratio should sum to 1.0\")\n",
    "        return\n",
    "\n",
    "    # Gets class labels\n",
    "    labels = os.listdir(my_data_dir)  # retrieve folder names\n",
    "\n",
    "    if 'test' in labels:\n",
    "        pass\n",
    "    else:\n",
    "        # Create train, validation, and test folders with class label sub-folders\n",
    "        for folder in ['train', 'validation', 'test']:\n",
    "            for label in labels:\n",
    "                os.makedirs(name=os.path.join(my_data_dir, folder, label))\n",
    "\n",
    "        for label in labels:\n",
    "            files = os.listdir(os.path.join(my_data_dir, label))\n",
    "            random.shuffle(files)\n",
    "\n",
    "            train_set_files_qty = int(len(files) * train_set_ratio)\n",
    "            validation_set_files_qty = int(len(files) * validation_set_ratio)\n",
    "\n",
    "            count = 1\n",
    "            # Move files to train set until full, then validation set until full, then test set\n",
    "            for file_name in files:\n",
    "                if count <= train_set_files_qty:\n",
    "                    # Move a file to the train set\n",
    "                    shutil.move(os.path.join(my_data_dir, label, file_name),\n",
    "                                os.path.join(my_data_dir, 'train', label, file_name))\n",
    "\n",
    "                elif count <= (train_set_files_qty + validation_set_files_qty):\n",
    "                    # Move a file to the validation set\n",
    "                    shutil.move(os.path.join(my_data_dir, label, file_name),\n",
    "                                os.path.join(my_data_dir, 'validation', label, file_name))\n",
    "\n",
    "                else:\n",
    "                    # Move a file to the test set\n",
    "                    shutil.move(os.path.join(my_data_dir, label, file_name),\n",
    "                                os.path.join(my_data_dir, 'test', label, file_name))\n",
    "\n",
    "                count += 1\n",
    "\n",
    "            os.rmdir(os.path.join(my_data_dir, label))\n",
    "        \n",
    "        # Print the number of files in each set after splitting\n",
    "        print(\"Number of files in Train set:\")\n",
    "        for label in labels:\n",
    "            train_files = os.listdir(my_data_dir + '/train/' + label)\n",
    "            print(f\"Class {label}: {len(train_files)}\")\n",
    "\n",
    "        print(\"\\nNumber of files in Validation set:\")\n",
    "        for label in labels:\n",
    "            validation_files = os.listdir(my_data_dir + '/validation/' + label)\n",
    "            print(f\"Class {label}: {len(validation_files)}\")\n",
    "\n",
    "        print(\"\\nNumber of files in Test set:\")\n",
    "        for label in labels:\n",
    "            test_files = os.listdir(my_data_dir + '/test/' + label)\n",
    "            print(f\"Class {label}: {len(test_files)}\")"
   ]
  },
  {
   "cell_type": "markdown",
   "metadata": {},
   "source": [
    "A standard 70/10/20% split is used for train/validation/test sets."
   ]
  },
  {
   "cell_type": "code",
   "execution_count": null,
   "metadata": {},
   "outputs": [],
   "source": [
    "split_train_validation_test_images(my_data_dir=f\"/workspace/mildew-detection/inputs/cherry_leaves_raw_dataset/cherry-leaves\",\n",
    "                                   train_set_ratio=0.7,\n",
    "                                   validation_set_ratio=0.1,\n",
    "                                   test_set_ratio=0.2\n",
    "                                   )"
   ]
  },
  {
   "cell_type": "markdown",
   "metadata": {},
   "source": [
    "## Conclusions\n",
    "\n",
    "- The data has been uploaded, extracted, any non-image files removed, and split into train, validation and test sets to be used in the modelling process"
   ]
  },
  {
   "cell_type": "markdown",
   "metadata": {},
   "source": [
    "## Next steps\n",
    "\n",
    "- The data will be visualised "
   ]
  }
 ],
 "metadata": {
  "kernelspec": {
   "display_name": "Python 3",
   "language": "python",
   "name": "python3"
  },
  "language_info": {
   "codemirror_mode": {
    "name": "ipython",
    "version": 3
   },
   "file_extension": ".py",
   "mimetype": "text/x-python",
   "name": "python",
   "nbconvert_exporter": "python",
   "pygments_lexer": "ipython3",
   "version": "3.8.12"
  }
 },
 "nbformat": 4,
 "nbformat_minor": 2
}
