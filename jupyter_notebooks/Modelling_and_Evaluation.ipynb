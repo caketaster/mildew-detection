{
 "cells": [
  {
   "cell_type": "markdown",
   "metadata": {},
   "source": [
    "# Modelling and Evaluation\n",
    "\n",
    "## Objectives\n",
    "\n",
    "- Complete model to predict if a cherry leaf is infected with powdery mildew, which is the primary Business Requirement\n",
    "\n",
    "## Inputs\n",
    "\n",
    "- inputs/cherry_leaves_raw_dataset/cherry-leaves/train\n",
    "- inputs/cherry_leaves_raw_dataset/cherry-leaves/validation\n",
    "- inputs/cherry_leaves_raw_dataset/cherry-leaves/test\n",
    "Each folder has 2 subfolders: 'healthy' and 'powdery_mildew'\n",
    "- image_shape pkl [pickle] file\n",
    "\n",
    "\n",
    "## Outputs\n",
    "\n",
    "- Image distribution plot, train vs validation vs test\n",
    "- Class_indices.pkl\n",
    "- Machine learning model creation and training (mildew_detection_model)\n",
    "- evaluation.pkl\n",
    "- Plotting model performance, model_training_acc.png, model_training_losses.png\n",
    "- Prediction on selected image files"
   ]
  },
  {
   "cell_type": "markdown",
   "metadata": {},
   "source": [
    "## Install dependencies"
   ]
  },
  {
   "cell_type": "code",
   "execution_count": 3,
   "metadata": {},
   "outputs": [
    {
     "name": "stdout",
     "output_type": "stream",
     "text": [
      "Requirement already satisfied: numpy==1.19.2 in /home/gitpod/.pyenv/versions/3.8.12/lib/python3.8/site-packages (from -r /workspace/mildew-detection/requirements.txt (line 1)) (1.19.2)\n",
      "Requirement already satisfied: pandas==1.1.2 in /home/gitpod/.pyenv/versions/3.8.12/lib/python3.8/site-packages (from -r /workspace/mildew-detection/requirements.txt (line 2)) (1.1.2)\n",
      "Requirement already satisfied: matplotlib==3.3.1 in /home/gitpod/.pyenv/versions/3.8.12/lib/python3.8/site-packages (from -r /workspace/mildew-detection/requirements.txt (line 3)) (3.3.1)\n",
      "Requirement already satisfied: seaborn==0.11.0 in /home/gitpod/.pyenv/versions/3.8.12/lib/python3.8/site-packages (from -r /workspace/mildew-detection/requirements.txt (line 4)) (0.11.0)\n",
      "Requirement already satisfied: plotly==4.12.0 in /home/gitpod/.pyenv/versions/3.8.12/lib/python3.8/site-packages (from -r /workspace/mildew-detection/requirements.txt (line 5)) (4.12.0)\n",
      "Requirement already satisfied: streamlit==0.85.0 in /home/gitpod/.pyenv/versions/3.8.12/lib/python3.8/site-packages (from -r /workspace/mildew-detection/requirements.txt (line 7)) (0.85.0)\n",
      "Requirement already satisfied: scikit-learn==0.24.2 in /home/gitpod/.pyenv/versions/3.8.12/lib/python3.8/site-packages (from -r /workspace/mildew-detection/requirements.txt (line 9)) (0.24.2)\n",
      "Requirement already satisfied: tensorflow-cpu==2.6.0 in /home/gitpod/.pyenv/versions/3.8.12/lib/python3.8/site-packages (from -r /workspace/mildew-detection/requirements.txt (line 10)) (2.6.0)\n",
      "Requirement already satisfied: keras==2.6.0 in /home/gitpod/.pyenv/versions/3.8.12/lib/python3.8/site-packages (from -r /workspace/mildew-detection/requirements.txt (line 11)) (2.6.0)\n",
      "Requirement already satisfied: protobuf==3.20 in /home/gitpod/.pyenv/versions/3.8.12/lib/python3.8/site-packages (from -r /workspace/mildew-detection/requirements.txt (line 12)) (3.20.0)\n",
      "Requirement already satisfied: altair<5 in /home/gitpod/.pyenv/versions/3.8.12/lib/python3.8/site-packages (from -r /workspace/mildew-detection/requirements.txt (line 13)) (4.2.2)\n",
      "Requirement already satisfied: python-dateutil>=2.7.3 in /home/gitpod/.pyenv/versions/3.8.12/lib/python3.8/site-packages (from pandas==1.1.2->-r /workspace/mildew-detection/requirements.txt (line 2)) (2.9.0.post0)\n",
      "Requirement already satisfied: pytz>=2017.2 in /home/gitpod/.pyenv/versions/3.8.12/lib/python3.8/site-packages (from pandas==1.1.2->-r /workspace/mildew-detection/requirements.txt (line 2)) (2024.1)\n",
      "Requirement already satisfied: pillow>=6.2.0 in /home/gitpod/.pyenv/versions/3.8.12/lib/python3.8/site-packages (from matplotlib==3.3.1->-r /workspace/mildew-detection/requirements.txt (line 3)) (10.2.0)\n",
      "Requirement already satisfied: pyparsing!=2.0.4,!=2.1.2,!=2.1.6,>=2.0.3 in /home/gitpod/.pyenv/versions/3.8.12/lib/python3.8/site-packages (from matplotlib==3.3.1->-r /workspace/mildew-detection/requirements.txt (line 3)) (3.1.2)\n",
      "Requirement already satisfied: cycler>=0.10 in /home/gitpod/.pyenv/versions/3.8.12/lib/python3.8/site-packages (from matplotlib==3.3.1->-r /workspace/mildew-detection/requirements.txt (line 3)) (0.12.1)\n",
      "Requirement already satisfied: kiwisolver>=1.0.1 in /home/gitpod/.pyenv/versions/3.8.12/lib/python3.8/site-packages (from matplotlib==3.3.1->-r /workspace/mildew-detection/requirements.txt (line 3)) (1.4.5)\n",
      "Requirement already satisfied: certifi>=2020.06.20 in /home/gitpod/.pyenv/versions/3.8.12/lib/python3.8/site-packages (from matplotlib==3.3.1->-r /workspace/mildew-detection/requirements.txt (line 3)) (2024.2.2)\n",
      "Requirement already satisfied: scipy>=1.0 in /home/gitpod/.pyenv/versions/3.8.12/lib/python3.8/site-packages (from seaborn==0.11.0->-r /workspace/mildew-detection/requirements.txt (line 4)) (1.9.3)\n",
      "Requirement already satisfied: six in /home/gitpod/.pyenv/versions/3.8.12/lib/python3.8/site-packages (from plotly==4.12.0->-r /workspace/mildew-detection/requirements.txt (line 5)) (1.15.0)\n",
      "Requirement already satisfied: retrying>=1.3.3 in /home/gitpod/.pyenv/versions/3.8.12/lib/python3.8/site-packages (from plotly==4.12.0->-r /workspace/mildew-detection/requirements.txt (line 5)) (1.3.4)\n",
      "Requirement already satisfied: watchdog in /home/gitpod/.pyenv/versions/3.8.12/lib/python3.8/site-packages (from streamlit==0.85.0->-r /workspace/mildew-detection/requirements.txt (line 7)) (4.0.0)\n",
      "Requirement already satisfied: tornado>=5.0 in /home/gitpod/.pyenv/versions/3.8.12/lib/python3.8/site-packages (from streamlit==0.85.0->-r /workspace/mildew-detection/requirements.txt (line 7)) (6.4)\n",
      "Requirement already satisfied: blinker in /home/gitpod/.pyenv/versions/3.8.12/lib/python3.8/site-packages (from streamlit==0.85.0->-r /workspace/mildew-detection/requirements.txt (line 7)) (1.7.0)\n",
      "Requirement already satisfied: validators in /home/gitpod/.pyenv/versions/3.8.12/lib/python3.8/site-packages (from streamlit==0.85.0->-r /workspace/mildew-detection/requirements.txt (line 7)) (0.22.0)\n",
      "Requirement already satisfied: pydeck>=0.1.dev5 in /home/gitpod/.pyenv/versions/3.8.12/lib/python3.8/site-packages (from streamlit==0.85.0->-r /workspace/mildew-detection/requirements.txt (line 7)) (0.8.1b0)\n",
      "Requirement already satisfied: requests in /home/gitpod/.pyenv/versions/3.8.12/lib/python3.8/site-packages (from streamlit==0.85.0->-r /workspace/mildew-detection/requirements.txt (line 7)) (2.31.0)\n",
      "Requirement already satisfied: pyarrow in /home/gitpod/.pyenv/versions/3.8.12/lib/python3.8/site-packages (from streamlit==0.85.0->-r /workspace/mildew-detection/requirements.txt (line 7)) (15.0.1)\n",
      "Requirement already satisfied: attrs in /home/gitpod/.pyenv/versions/3.8.12/lib/python3.8/site-packages (from streamlit==0.85.0->-r /workspace/mildew-detection/requirements.txt (line 7)) (23.2.0)\n",
      "Requirement already satisfied: packaging in /home/gitpod/.pyenv/versions/3.8.12/lib/python3.8/site-packages (from streamlit==0.85.0->-r /workspace/mildew-detection/requirements.txt (line 7)) (23.2)\n",
      "Requirement already satisfied: base58 in /home/gitpod/.pyenv/versions/3.8.12/lib/python3.8/site-packages (from streamlit==0.85.0->-r /workspace/mildew-detection/requirements.txt (line 7)) (2.1.1)\n",
      "Requirement already satisfied: gitpython in /home/gitpod/.pyenv/versions/3.8.12/lib/python3.8/site-packages (from streamlit==0.85.0->-r /workspace/mildew-detection/requirements.txt (line 7)) (3.1.42)\n",
      "Requirement already satisfied: click<8.0,>=7.0 in /home/gitpod/.pyenv/versions/3.8.12/lib/python3.8/site-packages (from streamlit==0.85.0->-r /workspace/mildew-detection/requirements.txt (line 7)) (7.1.2)\n",
      "Requirement already satisfied: cachetools>=4.0 in /home/gitpod/.pyenv/versions/3.8.12/lib/python3.8/site-packages (from streamlit==0.85.0->-r /workspace/mildew-detection/requirements.txt (line 7)) (5.3.3)\n",
      "Requirement already satisfied: toml in /home/gitpod/.pyenv/versions/3.8.12/lib/python3.8/site-packages (from streamlit==0.85.0->-r /workspace/mildew-detection/requirements.txt (line 7)) (0.10.2)\n",
      "Requirement already satisfied: astor in /home/gitpod/.pyenv/versions/3.8.12/lib/python3.8/site-packages (from streamlit==0.85.0->-r /workspace/mildew-detection/requirements.txt (line 7)) (0.8.1)\n",
      "Requirement already satisfied: tzlocal in /home/gitpod/.pyenv/versions/3.8.12/lib/python3.8/site-packages (from streamlit==0.85.0->-r /workspace/mildew-detection/requirements.txt (line 7)) (5.2)\n",
      "Requirement already satisfied: joblib>=0.11 in /home/gitpod/.pyenv/versions/3.8.12/lib/python3.8/site-packages (from scikit-learn==0.24.2->-r /workspace/mildew-detection/requirements.txt (line 9)) (1.3.2)\n",
      "Requirement already satisfied: threadpoolctl>=2.0.0 in /home/gitpod/.pyenv/versions/3.8.12/lib/python3.8/site-packages (from scikit-learn==0.24.2->-r /workspace/mildew-detection/requirements.txt (line 9)) (3.3.0)\n",
      "Requirement already satisfied: flatbuffers~=1.12.0 in /home/gitpod/.pyenv/versions/3.8.12/lib/python3.8/site-packages (from tensorflow-cpu==2.6.0->-r /workspace/mildew-detection/requirements.txt (line 10)) (1.12)\n",
      "Requirement already satisfied: absl-py~=0.10 in /home/gitpod/.pyenv/versions/3.8.12/lib/python3.8/site-packages (from tensorflow-cpu==2.6.0->-r /workspace/mildew-detection/requirements.txt (line 10)) (0.15.0)\n",
      "Requirement already satisfied: clang~=5.0 in /home/gitpod/.pyenv/versions/3.8.12/lib/python3.8/site-packages (from tensorflow-cpu==2.6.0->-r /workspace/mildew-detection/requirements.txt (line 10)) (5.0)\n",
      "Requirement already satisfied: wrapt~=1.12.1 in /home/gitpod/.pyenv/versions/3.8.12/lib/python3.8/site-packages (from tensorflow-cpu==2.6.0->-r /workspace/mildew-detection/requirements.txt (line 10)) (1.12.1)\n",
      "Requirement already satisfied: astunparse~=1.6.3 in /home/gitpod/.pyenv/versions/3.8.12/lib/python3.8/site-packages (from tensorflow-cpu==2.6.0->-r /workspace/mildew-detection/requirements.txt (line 10)) (1.6.3)\n",
      "Requirement already satisfied: keras-preprocessing~=1.1.2 in /home/gitpod/.pyenv/versions/3.8.12/lib/python3.8/site-packages (from tensorflow-cpu==2.6.0->-r /workspace/mildew-detection/requirements.txt (line 10)) (1.1.2)\n",
      "Requirement already satisfied: tensorboard~=2.6 in /home/gitpod/.pyenv/versions/3.8.12/lib/python3.8/site-packages (from tensorflow-cpu==2.6.0->-r /workspace/mildew-detection/requirements.txt (line 10)) (2.14.0)\n",
      "Requirement already satisfied: typing-extensions~=3.7.4 in /home/gitpod/.pyenv/versions/3.8.12/lib/python3.8/site-packages (from tensorflow-cpu==2.6.0->-r /workspace/mildew-detection/requirements.txt (line 10)) (3.7.4.3)\n",
      "Requirement already satisfied: termcolor~=1.1.0 in /home/gitpod/.pyenv/versions/3.8.12/lib/python3.8/site-packages (from tensorflow-cpu==2.6.0->-r /workspace/mildew-detection/requirements.txt (line 10)) (1.1.0)\n",
      "Requirement already satisfied: opt-einsum~=3.3.0 in /home/gitpod/.pyenv/versions/3.8.12/lib/python3.8/site-packages (from tensorflow-cpu==2.6.0->-r /workspace/mildew-detection/requirements.txt (line 10)) (3.3.0)\n",
      "Requirement already satisfied: gast==0.4.0 in /home/gitpod/.pyenv/versions/3.8.12/lib/python3.8/site-packages (from tensorflow-cpu==2.6.0->-r /workspace/mildew-detection/requirements.txt (line 10)) (0.4.0)\n",
      "Requirement already satisfied: grpcio<2.0,>=1.37.0 in /home/gitpod/.pyenv/versions/3.8.12/lib/python3.8/site-packages (from tensorflow-cpu==2.6.0->-r /workspace/mildew-detection/requirements.txt (line 10)) (1.62.0)\n",
      "Requirement already satisfied: google-pasta~=0.2 in /home/gitpod/.pyenv/versions/3.8.12/lib/python3.8/site-packages (from tensorflow-cpu==2.6.0->-r /workspace/mildew-detection/requirements.txt (line 10)) (0.2.0)\n",
      "Requirement already satisfied: h5py~=3.1.0 in /home/gitpod/.pyenv/versions/3.8.12/lib/python3.8/site-packages (from tensorflow-cpu==2.6.0->-r /workspace/mildew-detection/requirements.txt (line 10)) (3.1.0)\n",
      "Requirement already satisfied: wheel~=0.35 in /home/gitpod/.pyenv/versions/3.8.12/lib/python3.8/site-packages (from tensorflow-cpu==2.6.0->-r /workspace/mildew-detection/requirements.txt (line 10)) (0.42.0)\n",
      "Requirement already satisfied: tensorflow-estimator~=2.6 in /home/gitpod/.pyenv/versions/3.8.12/lib/python3.8/site-packages (from tensorflow-cpu==2.6.0->-r /workspace/mildew-detection/requirements.txt (line 10)) (2.15.0)\n",
      "Requirement already satisfied: jsonschema>=3.0 in /home/gitpod/.pyenv/versions/3.8.12/lib/python3.8/site-packages (from altair<5->-r /workspace/mildew-detection/requirements.txt (line 13)) (4.21.1)\n",
      "Requirement already satisfied: entrypoints in /home/gitpod/.pyenv/versions/3.8.12/lib/python3.8/site-packages (from altair<5->-r /workspace/mildew-detection/requirements.txt (line 13)) (0.4)\n",
      "Requirement already satisfied: toolz in /home/gitpod/.pyenv/versions/3.8.12/lib/python3.8/site-packages (from altair<5->-r /workspace/mildew-detection/requirements.txt (line 13)) (0.12.1)\n",
      "Requirement already satisfied: jinja2 in /home/gitpod/.pyenv/versions/3.8.12/lib/python3.8/site-packages (from altair<5->-r /workspace/mildew-detection/requirements.txt (line 13)) (3.1.3)\n",
      "Requirement already satisfied: referencing>=0.28.4 in /home/gitpod/.pyenv/versions/3.8.12/lib/python3.8/site-packages (from jsonschema>=3.0->altair<5->-r /workspace/mildew-detection/requirements.txt (line 13)) (0.33.0)\n",
      "Requirement already satisfied: rpds-py>=0.7.1 in /home/gitpod/.pyenv/versions/3.8.12/lib/python3.8/site-packages (from jsonschema>=3.0->altair<5->-r /workspace/mildew-detection/requirements.txt (line 13)) (0.18.0)\n",
      "Requirement already satisfied: importlib-resources>=1.4.0 in /home/gitpod/.pyenv/versions/3.8.12/lib/python3.8/site-packages (from jsonschema>=3.0->altair<5->-r /workspace/mildew-detection/requirements.txt (line 13)) (6.1.3)\n",
      "Requirement already satisfied: jsonschema-specifications>=2023.03.6 in /home/gitpod/.pyenv/versions/3.8.12/lib/python3.8/site-packages (from jsonschema>=3.0->altair<5->-r /workspace/mildew-detection/requirements.txt (line 13)) (2023.12.1)\n",
      "Requirement already satisfied: pkgutil-resolve-name>=1.3.10 in /home/gitpod/.pyenv/versions/3.8.12/lib/python3.8/site-packages (from jsonschema>=3.0->altair<5->-r /workspace/mildew-detection/requirements.txt (line 13)) (1.3.10)\n",
      "Requirement already satisfied: zipp>=3.1.0 in /home/gitpod/.pyenv/versions/3.8.12/lib/python3.8/site-packages (from importlib-resources>=1.4.0->jsonschema>=3.0->altair<5->-r /workspace/mildew-detection/requirements.txt (line 13)) (3.17.0)\n",
      "Requirement already satisfied: MarkupSafe>=2.0 in /home/gitpod/.pyenv/versions/3.8.12/lib/python3.8/site-packages (from jinja2->altair<5->-r /workspace/mildew-detection/requirements.txt (line 13)) (2.1.5)\n",
      "Requirement already satisfied: setuptools>=41.0.0 in /home/gitpod/.pyenv/versions/3.8.12/lib/python3.8/site-packages (from tensorboard~=2.6->tensorflow-cpu==2.6.0->-r /workspace/mildew-detection/requirements.txt (line 10)) (56.0.0)\n",
      "Requirement already satisfied: tensorboard-data-server<0.8.0,>=0.7.0 in /home/gitpod/.pyenv/versions/3.8.12/lib/python3.8/site-packages (from tensorboard~=2.6->tensorflow-cpu==2.6.0->-r /workspace/mildew-detection/requirements.txt (line 10)) (0.7.2)\n",
      "Requirement already satisfied: google-auth<3,>=1.6.3 in /home/gitpod/.pyenv/versions/3.8.12/lib/python3.8/site-packages (from tensorboard~=2.6->tensorflow-cpu==2.6.0->-r /workspace/mildew-detection/requirements.txt (line 10)) (2.28.1)\n",
      "Requirement already satisfied: google-auth-oauthlib<1.1,>=0.5 in /home/gitpod/.pyenv/versions/3.8.12/lib/python3.8/site-packages (from tensorboard~=2.6->tensorflow-cpu==2.6.0->-r /workspace/mildew-detection/requirements.txt (line 10)) (1.0.0)\n",
      "Requirement already satisfied: markdown>=2.6.8 in /home/gitpod/.pyenv/versions/3.8.12/lib/python3.8/site-packages (from tensorboard~=2.6->tensorflow-cpu==2.6.0->-r /workspace/mildew-detection/requirements.txt (line 10)) (3.5.2)\n",
      "Requirement already satisfied: werkzeug>=1.0.1 in /home/gitpod/.pyenv/versions/3.8.12/lib/python3.8/site-packages (from tensorboard~=2.6->tensorflow-cpu==2.6.0->-r /workspace/mildew-detection/requirements.txt (line 10)) (3.0.1)\n",
      "Requirement already satisfied: pyasn1-modules>=0.2.1 in /home/gitpod/.pyenv/versions/3.8.12/lib/python3.8/site-packages (from google-auth<3,>=1.6.3->tensorboard~=2.6->tensorflow-cpu==2.6.0->-r /workspace/mildew-detection/requirements.txt (line 10)) (0.3.0)\n",
      "Requirement already satisfied: rsa<5,>=3.1.4 in /home/gitpod/.pyenv/versions/3.8.12/lib/python3.8/site-packages (from google-auth<3,>=1.6.3->tensorboard~=2.6->tensorflow-cpu==2.6.0->-r /workspace/mildew-detection/requirements.txt (line 10)) (4.9)\n",
      "Requirement already satisfied: requests-oauthlib>=0.7.0 in /home/gitpod/.pyenv/versions/3.8.12/lib/python3.8/site-packages (from google-auth-oauthlib<1.1,>=0.5->tensorboard~=2.6->tensorflow-cpu==2.6.0->-r /workspace/mildew-detection/requirements.txt (line 10)) (1.3.1)\n",
      "Requirement already satisfied: importlib-metadata>=4.4 in /home/gitpod/.pyenv/versions/3.8.12/lib/python3.8/site-packages (from markdown>=2.6.8->tensorboard~=2.6->tensorflow-cpu==2.6.0->-r /workspace/mildew-detection/requirements.txt (line 10)) (7.0.1)\n",
      "Requirement already satisfied: pyasn1<0.6.0,>=0.4.6 in /home/gitpod/.pyenv/versions/3.8.12/lib/python3.8/site-packages (from pyasn1-modules>=0.2.1->google-auth<3,>=1.6.3->tensorboard~=2.6->tensorflow-cpu==2.6.0->-r /workspace/mildew-detection/requirements.txt (line 10)) (0.5.1)\n",
      "Requirement already satisfied: charset-normalizer<4,>=2 in /home/gitpod/.pyenv/versions/3.8.12/lib/python3.8/site-packages (from requests->streamlit==0.85.0->-r /workspace/mildew-detection/requirements.txt (line 7)) (3.3.2)\n",
      "Requirement already satisfied: idna<4,>=2.5 in /home/gitpod/.pyenv/versions/3.8.12/lib/python3.8/site-packages (from requests->streamlit==0.85.0->-r /workspace/mildew-detection/requirements.txt (line 7)) (3.6)\n",
      "Requirement already satisfied: urllib3<3,>=1.21.1 in /home/gitpod/.pyenv/versions/3.8.12/lib/python3.8/site-packages (from requests->streamlit==0.85.0->-r /workspace/mildew-detection/requirements.txt (line 7)) (2.2.1)\n",
      "Requirement already satisfied: oauthlib>=3.0.0 in /home/gitpod/.pyenv/versions/3.8.12/lib/python3.8/site-packages (from requests-oauthlib>=0.7.0->google-auth-oauthlib<1.1,>=0.5->tensorboard~=2.6->tensorflow-cpu==2.6.0->-r /workspace/mildew-detection/requirements.txt (line 10)) (3.2.2)\n",
      "Requirement already satisfied: gitdb<5,>=4.0.1 in /home/gitpod/.pyenv/versions/3.8.12/lib/python3.8/site-packages (from gitpython->streamlit==0.85.0->-r /workspace/mildew-detection/requirements.txt (line 7)) (4.0.11)\n",
      "Requirement already satisfied: smmap<6,>=3.0.1 in /home/gitpod/.pyenv/versions/3.8.12/lib/python3.8/site-packages (from gitdb<5,>=4.0.1->gitpython->streamlit==0.85.0->-r /workspace/mildew-detection/requirements.txt (line 7)) (5.0.1)\n",
      "Requirement already satisfied: backports.zoneinfo in /home/gitpod/.pyenv/versions/3.8.12/lib/python3.8/site-packages (from tzlocal->streamlit==0.85.0->-r /workspace/mildew-detection/requirements.txt (line 7)) (0.2.1)\n",
      "\u001b[33mWARNING: You are using pip version 21.1.1; however, version 24.0 is available.\n",
      "You should consider upgrading via the '/home/gitpod/.pyenv/versions/3.8.12/bin/python -m pip install --upgrade pip' command.\u001b[0m\n",
      "Note: you may need to restart the kernel to use updated packages.\n"
     ]
    }
   ],
   "source": [
    "pip install -r /workspace/mildew-detection/requirements.txt"
   ]
  },
  {
   "cell_type": "code",
   "execution_count": 4,
   "metadata": {},
   "outputs": [],
   "source": [
    "import os\n",
    "import pandas as pd\n",
    "import numpy as np\n",
    "import matplotlib.pyplot as plt\n",
    "import seaborn as sns\n",
    "from matplotlib.image import imread"
   ]
  },
  {
   "cell_type": "markdown",
   "metadata": {},
   "source": [
    "\n",
    "## Change working directory\n",
    "\n",
    "Change working directory from current to parent folder."
   ]
  },
  {
   "cell_type": "code",
   "execution_count": 5,
   "metadata": {},
   "outputs": [
    {
     "data": {
      "text/plain": [
       "'/workspace/mildew-detection/jupyter_notebooks'"
      ]
     },
     "execution_count": 5,
     "metadata": {},
     "output_type": "execute_result"
    }
   ],
   "source": [
    "import os\n",
    "current_dir = os.getcwd()\n",
    "current_dir"
   ]
  },
  {
   "cell_type": "code",
   "execution_count": 6,
   "metadata": {},
   "outputs": [
    {
     "name": "stdout",
     "output_type": "stream",
     "text": [
      "You set a new current directory.\n"
     ]
    }
   ],
   "source": [
    "os.chdir(\"/workspace/mildew-detection\")\n",
    "print(\"You set a new current directory.\")"
   ]
  },
  {
   "cell_type": "code",
   "execution_count": 7,
   "metadata": {},
   "outputs": [
    {
     "data": {
      "text/plain": [
       "'/workspace/mildew-detection'"
      ]
     },
     "execution_count": 7,
     "metadata": {},
     "output_type": "execute_result"
    }
   ],
   "source": [
    "current_dir = os.getcwd()\n",
    "current_dir"
   ]
  },
  {
   "cell_type": "markdown",
   "metadata": {},
   "source": [
    "## Set input directories"
   ]
  },
  {
   "cell_type": "code",
   "execution_count": 8,
   "metadata": {},
   "outputs": [],
   "source": [
    "data_dir = \"inputs/cherry_leaves_raw_dataset/cherry-leaves\"\n",
    "train_dir = data_dir + \"/train\"\n",
    "val_dir = data_dir + \"/validation\"\n",
    "test_dir = data_dir + \"/test\""
   ]
  },
  {
   "cell_type": "markdown",
   "metadata": {},
   "source": [
    "## Set output directories"
   ]
  },
  {
   "cell_type": "code",
   "execution_count": 9,
   "metadata": {},
   "outputs": [
    {
     "name": "stdout",
     "output_type": "stream",
     "text": [
      "This directory already exists, please create a new version if required.\n"
     ]
    }
   ],
   "source": [
    "version = \"v1\"\n",
    "file_path = f\"outputs/{version}\"\n",
    "if \"outputs\" in os.listdir(current_dir) and version in os.listdir(current_dir + \"/outputs\"):\n",
    "    print(\"This directory already exists, please create a new version if required.\")\n",
    "else:\n",
    "    os.makedirs(name=file_path)"
   ]
  },
  {
   "cell_type": "markdown",
   "metadata": {},
   "source": [
    "## Set label names"
   ]
  },
  {
   "cell_type": "code",
   "execution_count": 10,
   "metadata": {},
   "outputs": [
    {
     "name": "stdout",
     "output_type": "stream",
     "text": [
      "The image labels are  ['healthy', 'powdery_mildew']\n"
     ]
    }
   ],
   "source": [
    "labels = os.listdir(train_dir)\n",
    "print(\"The image labels are \", labels)"
   ]
  },
  {
   "cell_type": "markdown",
   "metadata": {},
   "source": [
    "Set image shape"
   ]
  },
  {
   "cell_type": "code",
   "execution_count": 11,
   "metadata": {},
   "outputs": [
    {
     "data": {
      "text/plain": [
       "(80, 80, 3)"
      ]
     },
     "execution_count": 11,
     "metadata": {},
     "output_type": "execute_result"
    }
   ],
   "source": [
    "import joblib\n",
    "version = 'v1'\n",
    "image_shape = joblib.load(filename=f\"outputs/{version}/image_shape.pkl\")\n",
    "image_shape"
   ]
  },
  {
   "cell_type": "markdown",
   "metadata": {},
   "source": [
    "## Check number of images in the respective sets"
   ]
  },
  {
   "cell_type": "markdown",
   "metadata": {},
   "source": [
    "Set size will be plotted and the image saved to outputs, pre-image pool augmentation"
   ]
  },
  {
   "cell_type": "code",
   "execution_count": 12,
   "metadata": {},
   "outputs": [
    {
     "name": "stdout",
     "output_type": "stream",
     "text": [
      "* train - healthy: 1472 images\n",
      "* train - powdery_mildew: 1472 images\n",
      "* validation - healthy: 210 images\n",
      "* validation - powdery_mildew: 210 images\n",
      "* test - healthy: 422 images\n",
      "* test - powdery_mildew: 422 images\n"
     ]
    },
    {
     "data": {
      "image/png": "[encoded data removed]",
      "text/plain": [
       "<Figure size 800x500 with 1 Axes>"
      ]
     },
     "metadata": {},
     "output_type": "display_data"
    }
   ],
   "source": [
    "# A dataframe is initialised to store the data\n",
    "df_freq = pd.DataFrame(columns=['Set', 'Label', 'Frequency'])\n",
    "\n",
    "folders = ['train', 'validation', 'test']\n",
    "\n",
    "# Iterate through folders, labels, and count the images present\n",
    "for folder in folders:\n",
    "    for label in labels:\n",
    "        folder_path = os.path.join(data_dir, folder, label)\n",
    "        num_images = len(os.listdir(folder_path))\n",
    "        df_freq = df_freq.append({'Set': folder, 'Label': label, 'Frequency': num_images}, ignore_index=True)\n",
    "        print(f\"* {folder} - {label}: {num_images} images\")\n",
    "\n",
    "# Plot label distribution\n",
    "sns.set_style(\"whitegrid\")\n",
    "plt.figure(figsize=(8,5))\n",
    "sns.barplot(data=df_freq, x='Set', y='Frequency', hue='Label')\n",
    "plt.savefig(f'{file_path}/label_distrib_pre_augmentation.png', bbox_inches='tight', dpi=150)\n",
    "plt.show()"
   ]
  },
  {
   "cell_type": "markdown",
   "metadata": {},
   "source": [
    "## Display distribution: Pie chart"
   ]
  },
  {
   "cell_type": "markdown",
   "metadata": {},
   "source": [
    "For simpler visualisation of the plit of sets, a pie chart of image distribution is created and saved"
   ]
  },
  {
   "cell_type": "code",
   "execution_count": 13,
   "metadata": {},
   "outputs": [
    {
     "data": {
      "image/png": "[encoded data removed]",
      "text/plain": [
       "<Figure size 1000x500 with 1 Axes>"
      ]
     },
     "metadata": {},
     "output_type": "display_data"
    }
   ],
   "source": [
    "folders = os.listdir(data_dir)\n",
    "data=[]\n",
    "for folder in folders:\n",
    "    for label in labels:\n",
    "        n=int(len(os.listdir(data_dir + '/' + folder + '/' + label)))\n",
    "        n+=n\n",
    "    data.append(n)\n",
    "\n",
    "px = 1/plt.rcParams['figure.dpi'] \n",
    "plt.subplots(figsize=(10,5))\n",
    "colors = sns.color_palette('muted')[0:9]\n",
    "plt.pie(data, labels = folders, colors = colors, autopct='%.1f%%')\n",
    "plt.title(f'Dataset image distribution\\n')\n",
    "plt.savefig(f'{file_path}/image_distribution_pie.png', bbox_inches='tight', dpi=150)\n",
    "plt.show()"
   ]
  },
  {
   "cell_type": "markdown",
   "metadata": {},
   "source": [
    "It can be seen that they're split 70/10/20 to the nearest percent"
   ]
  },
  {
   "cell_type": "markdown",
   "metadata": {},
   "source": [
    "## Image augmentation"
   ]
  },
  {
   "cell_type": "markdown",
   "metadata": {},
   "source": [
    "ImageDataGenerator will be used to augment the image pool, hopefully leading to greater accuracy\n",
    "\n",
    "The ImageDataGenerator is imported and initialised"
   ]
  },
  {
   "cell_type": "code",
   "execution_count": 14,
   "metadata": {},
   "outputs": [],
   "source": [
    "from tensorflow.keras.preprocessing.image import ImageDataGenerator\n",
    "\n",
    "augmented_image_data = ImageDataGenerator(rotation_range=20,\n",
    "                                          width_shift_range=0.10,\n",
    "                                          height_shift_range=0.10,\n",
    "                                          shear_range=0.1,\n",
    "                                          zoom_range=0.1,\n",
    "                                          horizontal_flip=True,\n",
    "                                          vertical_flip=True,\n",
    "                                          fill_mode='nearest',\n",
    "                                          rescale=1./255\n",
    "                                          )"
   ]
  },
  {
   "cell_type": "markdown",
   "metadata": {},
   "source": [
    "And the image pool for each set is augmented"
   ]
  },
  {
   "cell_type": "markdown",
   "metadata": {},
   "source": [
    "### Train set"
   ]
  },
  {
   "cell_type": "code",
   "execution_count": 15,
   "metadata": {},
   "outputs": [
    {
     "name": "stdout",
     "output_type": "stream",
     "text": [
      "Found 2944 images belonging to 2 classes.\n"
     ]
    },
    {
     "data": {
      "text/plain": [
       "{'healthy': 0, 'powdery_mildew': 1}"
      ]
     },
     "execution_count": 15,
     "metadata": {},
     "output_type": "execute_result"
    }
   ],
   "source": [
    "batch_size = 32\n",
    "train_set = augmented_image_data.flow_from_directory(train_dir, # Take images from 'train' folder\n",
    "                                                    target_size=image_shape[:2], \n",
    "                                                    color_mode='rgb',\n",
    "                                                    batch_size=batch_size, \n",
    "                                                    class_mode='binary', \n",
    "                                                    shuffle=True # Shuffle the images\n",
    "                                                    )\n",
    "train_set.class_indices    "
   ]
  },
  {
   "cell_type": "markdown",
   "metadata": {},
   "source": [
    "### Validation set"
   ]
  },
  {
   "cell_type": "code",
   "execution_count": 16,
   "metadata": {},
   "outputs": [
    {
     "name": "stdout",
     "output_type": "stream",
     "text": [
      "Found 420 images belonging to 2 classes.\n"
     ]
    },
    {
     "data": {
      "text/plain": [
       "{'healthy': 0, 'powdery_mildew': 1}"
      ]
     },
     "execution_count": 16,
     "metadata": {},
     "output_type": "execute_result"
    }
   ],
   "source": [
    "validation_set = ImageDataGenerator(rescale=1./255).flow_from_directory(val_dir,\n",
    "                                                                        target_size=image_shape[:2],\n",
    "                                                                        color_mode='rgb',\n",
    "                                                                        batch_size=batch_size,\n",
    "                                                                        class_mode='binary',\n",
    "                                                                        shuffle=False\n",
    "                                                                        )\n",
    "\n",
    "validation_set.class_indices"
   ]
  },
  {
   "cell_type": "markdown",
   "metadata": {},
   "source": [
    "### Test set"
   ]
  },
  {
   "cell_type": "code",
   "execution_count": 17,
   "metadata": {},
   "outputs": [
    {
     "name": "stdout",
     "output_type": "stream",
     "text": [
      "Found 844 images belonging to 2 classes.\n"
     ]
    },
    {
     "data": {
      "text/plain": [
       "{'healthy': 0, 'powdery_mildew': 1}"
      ]
     },
     "execution_count": 17,
     "metadata": {},
     "output_type": "execute_result"
    }
   ],
   "source": [
    "test_set = ImageDataGenerator(rescale=1./255).flow_from_directory(test_dir,\n",
    "                                                                  target_size=image_shape[:2],\n",
    "                                                                  color_mode='rgb',\n",
    "                                                                  batch_size=batch_size,\n",
    "                                                                  class_mode='binary',\n",
    "                                                                  shuffle=False\n",
    "                                                                  )\n",
    "\n",
    "test_set.class_indices"
   ]
  },
  {
   "cell_type": "markdown",
   "metadata": {},
   "source": [
    "Save class_indices as a pkl file "
   ]
  },
  {
   "cell_type": "code",
   "execution_count": 112,
   "metadata": {},
   "outputs": [
    {
     "data": {
      "text/plain": [
       "['outputs/v1/class_indices.pkl']"
      ]
     },
     "execution_count": 112,
     "metadata": {},
     "output_type": "execute_result"
    }
   ],
   "source": [
    "joblib.dump(value=train_set.class_indices,\n",
    "            filename=f\"{file_path}/class_indices.pkl\")"
   ]
  },
  {
   "cell_type": "markdown",
   "metadata": {},
   "source": [
    "## Plot augmented images for each set (showing 3 sample images from each)"
   ]
  },
  {
   "cell_type": "markdown",
   "metadata": {},
   "source": [
    "### Train set"
   ]
  },
  {
   "cell_type": "code",
   "execution_count": null,
   "metadata": {},
   "outputs": [],
   "source": [
    "for _ in range(3):\n",
    "    img, label = train_set.next()\n",
    "    print(img.shape)  \n",
    "    plt.imshow(img[0])\n",
    "    plt.show()"
   ]
  },
  {
   "cell_type": "markdown",
   "metadata": {},
   "source": [
    "### Validation set"
   ]
  },
  {
   "cell_type": "code",
   "execution_count": null,
   "metadata": {},
   "outputs": [],
   "source": [
    "for _ in range(3):\n",
    "    img, label = validation_set.next()\n",
    "    print(img.shape)\n",
    "    plt.imshow(img[0])\n",
    "    plt.show()"
   ]
  },
  {
   "cell_type": "markdown",
   "metadata": {},
   "source": [
    "### Test set"
   ]
  },
  {
   "cell_type": "code",
   "execution_count": null,
   "metadata": {},
   "outputs": [],
   "source": [
    "for _ in range(3):\n",
    "    img, label = test_set.next()\n",
    "    print(img.shape)\n",
    "    plt.imshow(img[0])\n",
    "    plt.show()"
   ]
  },
  {
   "cell_type": "markdown",
   "metadata": {},
   "source": [
    "# Machine Learning Model Creation"
   ]
  },
  {
   "cell_type": "markdown",
   "metadata": {},
   "source": [
    "Create model"
   ]
  },
  {
   "cell_type": "code",
   "execution_count": 93,
   "metadata": {},
   "outputs": [],
   "source": [
    "import tensorflow as tf\n",
    "from tensorflow.keras.models import Sequential\n",
    "from tensorflow.keras.layers import Conv2D, MaxPooling2D, Flatten, Dense, Dropout\n",
    "from tensorflow.keras.optimizers import Nadam\n",
    "from tensorflow.keras.callbacks import LearningRateScheduler\n",
    "\n",
    "# Initial learning rate\n",
    "initial_learning_rate = 1e-3\n",
    "\n",
    "# Learning rate schedule function\n",
    "def lr_schedule(epoch, learning_rate):\n",
    "    if epoch < 8:\n",
    "        return learning_rate  # Initial learning rate for first 8 epochs\n",
    "    else:\n",
    "        return learning_rate * tf.math.exp(-0.1)  # Exponentially decay the learning rate each 8 epochs\n",
    "\n",
    "# learning rate scheduler callback\n",
    "lr_scheduler = LearningRateScheduler(lr_schedule)\n",
    "\n",
    "def create_model(learning_rate=initial_learning_rate):\n",
    "    model = Sequential()\n",
    "\n",
    "    # input layer\n",
    "    model.add(Conv2D(filters=32, kernel_size=(3,3), input_shape=image_shape, activation='relu',))\n",
    "    model.add(MaxPooling2D(pool_size=(2,2)))\n",
    "\n",
    "    # convolution layers\n",
    "    model.add(Conv2D(filters=128, kernel_size=(3,3), activation='relu'))\n",
    "    model.add(MaxPooling2D(pool_size=(2,2)))\n",
    "\n",
    "    model.add(Conv2D(filters=64, kernel_size=(3,3), activation='relu'))\n",
    "    model.add(MaxPooling2D(pool_size=(2,2)))\n",
    "\n",
    "    model.add(Flatten())\n",
    "    model.add(Dense(128, activation = 'relu'))\n",
    "\n",
    "    model.add(Dropout(0.5))\n",
    "\n",
    "    # output\n",
    "    model.add(Dense(1, activation = 'sigmoid'))\n",
    "\n",
    "    # create optimizer with dynamic learning rate using lr_schedule function\n",
    "    optimizer = Nadam(learning_rate=learning_rate)\n",
    "\n",
    "    model.compile(loss='binary_crossentropy',\n",
    "                optimizer=optimizer,\n",
    "                metrics=['accuracy'])\n",
    "\n",
    "    return model, lr_scheduler  # return the model and lr_scheduler callback\n"
   ]
  },
  {
   "cell_type": "markdown",
   "metadata": {},
   "source": [
    "Show a summary of the model"
   ]
  },
  {
   "cell_type": "code",
   "execution_count": 111,
   "metadata": {},
   "outputs": [
    {
     "name": "stdout",
     "output_type": "stream",
     "text": [
      "Model: \"sequential_34\"\n",
      "_________________________________________________________________\n",
      "Layer (type)                 Output Shape              Param #   \n",
      "=================================================================\n",
      "conv2d_105 (Conv2D)          (None, 78, 78, 32)        896       \n",
      "_________________________________________________________________\n",
      "max_pooling2d_105 (MaxPoolin (None, 39, 39, 32)        0         \n",
      "_________________________________________________________________\n",
      "conv2d_106 (Conv2D)          (None, 37, 37, 128)       36992     \n",
      "_________________________________________________________________\n",
      "max_pooling2d_106 (MaxPoolin (None, 18, 18, 128)       0         \n",
      "_________________________________________________________________\n",
      "conv2d_107 (Conv2D)          (None, 16, 16, 64)        73792     \n",
      "_________________________________________________________________\n",
      "max_pooling2d_107 (MaxPoolin (None, 8, 8, 64)          0         \n",
      "_________________________________________________________________\n",
      "flatten_34 (Flatten)         (None, 4096)              0         \n",
      "_________________________________________________________________\n",
      "dense_68 (Dense)             (None, 128)               524416    \n",
      "_________________________________________________________________\n",
      "dropout_34 (Dropout)         (None, 128)               0         \n",
      "_________________________________________________________________\n",
      "dense_69 (Dense)             (None, 1)                 129       \n",
      "=================================================================\n",
      "Total params: 636,225\n",
      "Trainable params: 636,225\n",
      "Non-trainable params: 0\n",
      "_________________________________________________________________\n"
     ]
    }
   ],
   "source": [
    "model, _ = create_model()\n",
    "model.summary()"
   ]
  },
  {
   "cell_type": "markdown",
   "metadata": {},
   "source": [
    "## Early stopping"
   ]
  },
  {
   "cell_type": "markdown",
   "metadata": {},
   "source": [
    "Early stopping is included to stop the model once it starts to overfit"
   ]
  },
  {
   "cell_type": "code",
   "execution_count": 47,
   "metadata": {},
   "outputs": [],
   "source": [
    "from tensorflow.keras.callbacks import EarlyStopping\n",
    "early_stop = EarlyStopping(monitor='val_loss', patience=3)"
   ]
  },
  {
   "cell_type": "markdown",
   "metadata": {},
   "source": [
    "## Fit model for training"
   ]
  },
  {
   "cell_type": "code",
   "execution_count": 98,
   "metadata": {},
   "outputs": [
    {
     "name": "stdout",
     "output_type": "stream",
     "text": [
      "Epoch 1/40\n",
      "92/92 [==============================] - 18s 182ms/step - loss: 0.4310 - accuracy: 0.7877 - val_loss: 0.3133 - val_accuracy: 0.8690\n",
      "Epoch 2/40\n",
      "92/92 [==============================] - 17s 185ms/step - loss: 0.1607 - accuracy: 0.9436 - val_loss: 0.0348 - val_accuracy: 0.9905\n",
      "Epoch 3/40\n",
      "92/92 [==============================] - 17s 190ms/step - loss: 0.0985 - accuracy: 0.9667 - val_loss: 0.0276 - val_accuracy: 0.9976\n",
      "Epoch 4/40\n",
      "92/92 [==============================] - 17s 187ms/step - loss: 0.0632 - accuracy: 0.9820 - val_loss: 0.0150 - val_accuracy: 0.9976\n",
      "Epoch 5/40\n",
      "92/92 [==============================] - 17s 186ms/step - loss: 0.0308 - accuracy: 0.9885 - val_loss: 0.0189 - val_accuracy: 0.9952\n",
      "Epoch 6/40\n",
      "92/92 [==============================] - 17s 180ms/step - loss: 0.0344 - accuracy: 0.9871 - val_loss: 0.0081 - val_accuracy: 1.0000\n",
      "Epoch 7/40\n",
      "92/92 [==============================] - 17s 181ms/step - loss: 0.0376 - accuracy: 0.9871 - val_loss: 0.0036 - val_accuracy: 0.9976\n",
      "Epoch 8/40\n",
      "92/92 [==============================] - 21s 234ms/step - loss: 0.0145 - accuracy: 0.9973 - val_loss: 0.0013 - val_accuracy: 1.0000\n",
      "Epoch 9/40\n",
      "92/92 [==============================] - 19s 207ms/step - loss: 0.0173 - accuracy: 0.9969 - val_loss: 1.5173e-04 - val_accuracy: 1.0000\n",
      "Epoch 10/40\n",
      "92/92 [==============================] - 16s 177ms/step - loss: 0.0100 - accuracy: 0.9969 - val_loss: 5.4136e-04 - val_accuracy: 1.0000\n",
      "Epoch 11/40\n",
      "92/92 [==============================] - 17s 179ms/step - loss: 0.0033 - accuracy: 0.9997 - val_loss: 0.0164 - val_accuracy: 0.9952\n",
      "Epoch 12/40\n",
      "92/92 [==============================] - 17s 186ms/step - loss: 0.0103 - accuracy: 0.9969 - val_loss: 4.8100e-04 - val_accuracy: 1.0000\n"
     ]
    },
    {
     "data": {
      "text/plain": [
       "<keras.callbacks.History at 0x7fb496be1be0>"
      ]
     },
     "execution_count": 98,
     "metadata": {},
     "output_type": "execute_result"
    }
   ],
   "source": [
    "model, lr_scheduler = create_model()\n",
    "lr_scheduler = LearningRateScheduler(lr_schedule)\n",
    "\n",
    "model.fit(train_set, epochs=40, \n",
    "        steps_per_epoch=len(train_set.classes) // batch_size,\n",
    "        validation_data=validation_set,\n",
    "        callbacks=[early_stop, lr_scheduler],\n",
    "        verbose=1\n",
    "        )"
   ]
  },
  {
   "cell_type": "markdown",
   "metadata": {},
   "source": [
    "### Save the model"
   ]
  },
  {
   "cell_type": "code",
   "execution_count": 99,
   "metadata": {},
   "outputs": [],
   "source": [
    "model.save('outputs/v1/mildew_detection_model_2.h5')"
   ]
  },
  {
   "cell_type": "markdown",
   "metadata": {},
   "source": [
    "# Model performance"
   ]
  },
  {
   "cell_type": "markdown",
   "metadata": {},
   "source": [
    "## Model learning curve"
   ]
  },
  {
   "cell_type": "code",
   "execution_count": 100,
   "metadata": {},
   "outputs": [
    {
     "data": {
      "image/png": "[encoded data removed]",
      "text/plain": [
       "<Figure size 640x480 with 1 Axes>"
      ]
     },
     "metadata": {},
     "output_type": "display_data"
    },
    {
     "name": "stdout",
     "output_type": "stream",
     "text": [
      "\n",
      "\n"
     ]
    },
    {
     "data": {
      "image/png": "[encoded data removed]",
      "text/plain": [
       "<Figure size 640x480 with 1 Axes>"
      ]
     },
     "metadata": {},
     "output_type": "display_data"
    }
   ],
   "source": [
    "losses = pd.DataFrame(model.history.history)\n",
    "\n",
    "sns.set_style(\"dark\")\n",
    "losses[['loss','val_loss']].plot(style='.-')\n",
    "plt.title(\"Loss\")\n",
    "plt.savefig(f'{file_path}/model_training_losses.png', bbox_inches='tight', dpi=150)\n",
    "plt.show()\n",
    "\n",
    "print(\"\\n\")\n",
    "\n",
    "losses[['accuracy','val_accuracy']].plot(style='.-')\n",
    "plt.title(\"Accuracy\")\n",
    "plt.savefig(f'{file_path}/model_training_acc.png', bbox_inches='tight', dpi=150)\n",
    "plt.show()"
   ]
  },
  {
   "cell_type": "markdown",
   "metadata": {},
   "source": [
    "## Model evaluation"
   ]
  },
  {
   "cell_type": "markdown",
   "metadata": {},
   "source": [
    "Load saved model"
   ]
  },
  {
   "cell_type": "code",
   "execution_count": 115,
   "metadata": {},
   "outputs": [],
   "source": [
    "from keras.models import load_model\n",
    "model = load_model('outputs/v1/mildew_detection_model_2.h5')"
   ]
  },
  {
   "cell_type": "markdown",
   "metadata": {},
   "source": [
    "Check model performance on test set"
   ]
  },
  {
   "cell_type": "code",
   "execution_count": 103,
   "metadata": {},
   "outputs": [
    {
     "name": "stdout",
     "output_type": "stream",
     "text": [
      " 4/27 [===>..........................] - ETA: 0s - loss: 0.0508 - accuracy: 0.9922    "
     ]
    },
    {
     "name": "stdout",
     "output_type": "stream",
     "text": [
      "27/27 [==============================] - 1s 44ms/step - loss: 0.0083 - accuracy: 0.9988\n",
      "Model accuracy: 99.88%\n",
      "Model Loss: 0.0083%\n"
     ]
    }
   ],
   "source": [
    "evaluation = model.evaluate(test_set, batch_size=batch_size)\n",
    "print(\"Model accuracy: {:.2f}%\".format(evaluation[1] * 100))\n",
    "print(\"Model Loss: {:.4f}%\".format(evaluation[0]))"
   ]
  },
  {
   "cell_type": "markdown",
   "metadata": {},
   "source": [
    "The model performs with over 99.8% accuracy, easily meeting the business requirement of 97%"
   ]
  },
  {
   "cell_type": "markdown",
   "metadata": {},
   "source": [
    "## Confusion Matrix"
   ]
  },
  {
   "cell_type": "markdown",
   "metadata": {},
   "source": [
    "Create a confusion matrix for the test set"
   ]
  },
  {
   "cell_type": "code",
   "execution_count": 154,
   "metadata": {},
   "outputs": [
    {
     "data": {
      "image/png": "[encoded data removed]",
      "text/plain": [
       "<Figure size 700x400 with 1 Axes>"
      ]
     },
     "metadata": {},
     "output_type": "display_data"
    }
   ],
   "source": [
    "from sklearn.metrics import confusion_matrix\n",
    "\n",
    "x_correct, y_correct = next(test_set)\n",
    "predict = np.argmax(model.predict(test_set), axis=1)\n",
    "y_predict = np.rint(predict)\n",
    "y_correct = test_set.labels\n",
    "\n",
    "con_mat = confusion_matrix(y_correct,y_predict)\n",
    "\n",
    "classes=list(test_set.class_indices.keys()) \n",
    "length=2\n",
    "plt.figure(figsize=(7, 4))\n",
    "sns.heatmap(con_mat, annot=False, vmin=0, fmt='g', cmap='crest', cbar=False)       \n",
    "plt.xticks(np.arange(length)+ 0.5, classes, rotation=0, fontsize=9)\n",
    "plt.yticks(np.arange(length)+ 0.2, classes, rotation=90, fontsize=9)\n",
    "plt.xlabel(\"Predicted\")\n",
    "plt.ylabel(\"Actual\")\n",
    "plt.title(f\"Test set: Confusion Matrix\\n\")\n",
    "\n",
    "# For some reason the figures in the bottom row are on opposite sides to what they should be -\n",
    "# I can only assume that the indices saved in a different order than expected?\n",
    "\n",
    "# Swap the bottom row figures\n",
    "con_mat_swap = con_mat.copy()\n",
    "con_mat_swap[1, 0], con_mat_swap[1, 1] = con_mat_swap[1, 1], con_mat_swap[1, 0]\n",
    "\n",
    "# Plot the swapped confusion matrix\n",
    "classes = list(test_set.class_indices.keys()) \n",
    "sns.heatmap(con_mat_swap, annot=True, vmin=0, fmt='g', cmap='crest', cbar=False)\n",
    "plt.xticks(np.arange(2) + 0.5, classes, rotation=0, fontsize=9)\n",
    "plt.yticks(np.arange(2) + 0.2, classes, rotation=90, fontsize=9)\n",
    "plt.xlabel(\"Predicted\")\n",
    "plt.ylabel(\"Actual\")\n",
    "plt.title(\"Test set: Confusion Matrix\\n\")\n",
    "\n",
    "plt.savefig(f'{file_path}/test_set_confusion_matrix.png', bbox_inches='tight', dpi=150)\n",
    "\n",
    "plt.show()\n"
   ]
  },
  {
   "cell_type": "markdown",
   "metadata": {},
   "source": [
    "Save evaluation pkl file"
   ]
  },
  {
   "cell_type": "code",
   "execution_count": 104,
   "metadata": {},
   "outputs": [
    {
     "data": {
      "text/plain": [
       "['outputs/v1/evaluation.pkl']"
      ]
     },
     "execution_count": 104,
     "metadata": {},
     "output_type": "execute_result"
    }
   ],
   "source": [
    "joblib.dump(value=evaluation, filename=f\"outputs/v1/evaluation.pkl\")"
   ]
  },
  {
   "cell_type": "markdown",
   "metadata": {},
   "source": [
    "## Predict on new data"
   ]
  },
  {
   "cell_type": "markdown",
   "metadata": {},
   "source": [
    "An image from the 'healthy' label is fed into the model to randomly check accuracy"
   ]
  },
  {
   "cell_type": "code",
   "execution_count": 105,
   "metadata": {},
   "outputs": [
    {
     "name": "stdout",
     "output_type": "stream",
     "text": [
      "Image shape: (80, 80), Image mode: RGB\n"
     ]
    },
    {
     "data": {
      "image/jpeg": "[encoded data removed]",
      "image/png": "[encoded data removed]",
      "text/plain": [
       "<PIL.Image.Image image mode=RGB size=80x80>"
      ]
     },
     "execution_count": 105,
     "metadata": {},
     "output_type": "execute_result"
    }
   ],
   "source": [
    "from tensorflow.keras.preprocessing import image\n",
    "\n",
    "pointer = 66\n",
    "label = labels[0]  # label '0' = 'healthy'\n",
    "\n",
    "pil_image = image.load_img(test_dir + '/' + label + '/' + os.listdir(test_dir+'/' + label)[pointer],\n",
    "                           target_size=image_shape, color_mode='rgb')\n",
    "print(f'Image shape: {pil_image.size}, Image mode: {pil_image.mode}')\n",
    "pil_image"
   ]
  },
  {
   "cell_type": "markdown",
   "metadata": {},
   "source": [
    "Convert image to an array for prediction"
   ]
  },
  {
   "cell_type": "code",
   "execution_count": 106,
   "metadata": {},
   "outputs": [
    {
     "name": "stdout",
     "output_type": "stream",
     "text": [
      "(1, 80, 80, 3)\n"
     ]
    }
   ],
   "source": [
    "my_image = image.img_to_array(pil_image)\n",
    "my_image = np.expand_dims(my_image, axis=0)/255\n",
    "print(my_image.shape)"
   ]
  },
  {
   "cell_type": "markdown",
   "metadata": {},
   "source": [
    "The prediction is run"
   ]
  },
  {
   "cell_type": "code",
   "execution_count": 107,
   "metadata": {},
   "outputs": [
    {
     "name": "stdout",
     "output_type": "stream",
     "text": [
      "0.9999999043798127\n",
      "healthy\n"
     ]
    }
   ],
   "source": [
    "prediction_probability = model.predict(my_image)[0, 0]\n",
    "\n",
    "target_map = {v: k for k, v in train_set.class_indices.items()}\n",
    "prediction_class = target_map[prediction_probability > 0.5]\n",
    "\n",
    "if prediction_class == target_map[0]:\n",
    "    prediction_probability = 1 - prediction_probability\n",
    "\n",
    "print(prediction_probability)\n",
    "print(prediction_class)"
   ]
  },
  {
   "cell_type": "markdown",
   "metadata": {},
   "source": [
    "The steps above are repeated for a random infected image as a second check"
   ]
  },
  {
   "cell_type": "code",
   "execution_count": 108,
   "metadata": {},
   "outputs": [
    {
     "name": "stdout",
     "output_type": "stream",
     "text": [
      "Image shape: (80, 80), Image mode: RGB\n"
     ]
    },
    {
     "data": {
      "image/jpeg": "[encoded data removed]",
      "image/png": "[encoded data removed]",
      "text/plain": [
       "<PIL.Image.Image image mode=RGB size=80x80>"
      ]
     },
     "execution_count": 108,
     "metadata": {},
     "output_type": "execute_result"
    }
   ],
   "source": [
    "from tensorflow.keras.preprocessing import image\n",
    "\n",
    "pointer = 66\n",
    "label = labels[1]  # label '1' = 'powdery_mildew'\n",
    "\n",
    "pil_image = image.load_img(test_dir + '/' + label + '/' + os.listdir(test_dir+'/' + label)[pointer],\n",
    "                           target_size=image_shape, color_mode='rgb')\n",
    "print(f'Image shape: {pil_image.size}, Image mode: {pil_image.mode}')\n",
    "pil_image"
   ]
  },
  {
   "cell_type": "code",
   "execution_count": 109,
   "metadata": {},
   "outputs": [
    {
     "name": "stdout",
     "output_type": "stream",
     "text": [
      "(1, 80, 80, 3)\n"
     ]
    }
   ],
   "source": [
    "my_image = image.img_to_array(pil_image)\n",
    "my_image = np.expand_dims(my_image, axis=0)/255\n",
    "print(my_image.shape)"
   ]
  },
  {
   "cell_type": "code",
   "execution_count": 110,
   "metadata": {},
   "outputs": [
    {
     "name": "stdout",
     "output_type": "stream",
     "text": [
      "0.99999857\n",
      "powdery_mildew\n"
     ]
    }
   ],
   "source": [
    "prediction_probability = model.predict(my_image)[0, 0]\n",
    "\n",
    "target_map = {v: k for k, v in train_set.class_indices.items()}\n",
    "prediction_class = target_map[prediction_probability > 0.5]\n",
    "\n",
    "if prediction_class == target_map[0]:\n",
    "    prediction_probability = 1 - prediction_probability\n",
    "\n",
    "print(prediction_probability)\n",
    "print(prediction_class)"
   ]
  },
  {
   "cell_type": "markdown",
   "metadata": {},
   "source": [
    "Put sensitive datafiles into .gitignore"
   ]
  },
  {
   "cell_type": "code",
   "execution_count": 117,
   "metadata": {},
   "outputs": [
    {
     "name": "stdout",
     "output_type": "stream",
     "text": [
      "core.Microsoft*\n",
      "core.mongo*\n",
      "core.python*\n",
      "env.py\n",
      "__pycache__/\n",
      "*.py[cod]\n",
      "node_modules/\n",
      ".github/\n",
      "cloudinary_python.txt\n",
      "kaggle.json"
     ]
    }
   ],
   "source": [
    "!cat .gitignore"
   ]
  },
  {
   "cell_type": "markdown",
   "metadata": {},
   "source": [
    "# Conclusions"
   ]
  },
  {
   "cell_type": "markdown",
   "metadata": {},
   "source": [
    "- A model was created and the parameters/hyperparameters tuned using different numbers of nodes, loss metrics, epochs and optimizers and emerged as extremely accurate (>99%). As seen in the confusion matrix, it correctly predicted every single image in the test set\n",
    "- A larger dataset, as well as further tuning of hyperparameters may help to refine accuracy somewhat, though the model already performs far above the required 97% - there's not a lot of room to improve further\n",
    "- Files were moved to .gitignore to fulfil Business Requirement 3 - not sharing official Farmy & Foods data"
   ]
  },
  {
   "cell_type": "markdown",
   "metadata": {},
   "source": [
    "## Next steps"
   ]
  },
  {
   "cell_type": "markdown",
   "metadata": {},
   "source": [
    "- A Streamlit Dashboard will be constructed to fulfil Business Requirement 2"
   ]
  }
 ],
 "metadata": {
  "kernelspec": {
   "display_name": "Python 3",
   "language": "python",
   "name": "python3"
  },
  "language_info": {
   "codemirror_mode": {
    "name": "ipython",
    "version": 3
   },
   "file_extension": ".py",
   "mimetype": "text/x-python",
   "name": "python",
   "nbconvert_exporter": "python",
   "pygments_lexer": "ipython3",
   "version": "3.8.12"
  }
 },
 "nbformat": 4,
 "nbformat_minor": 2
}
