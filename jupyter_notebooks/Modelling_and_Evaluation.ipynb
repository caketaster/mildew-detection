{
 "cells": [
  {
   "cell_type": "markdown",
   "metadata": {},
   "source": [
    "# Modelling and Evaluation\n",
    "\n",
    "## Objectives\n",
    "\n",
    "- Complete model to predict if a cherry leaf is infected with powdery mildew.\n",
    "\n",
    "## Inputs\n",
    "\n",
    "- inputs/cherry_leaves_raw_dataset/cherry-leaves/train\n",
    "- inputs/cherry_leaves_raw_dataset/cherry-leaves/validation\n",
    "- inputs/cherry_leaves_raw_dataset/cherry-leaves/test\n",
    "Each folder has 2 subfolders: 'healthy' and 'powdery_mildew'\n",
    "- image_shape pkl [pickle] file\n",
    "\n",
    "\n",
    "## Outputs\n",
    "\n",
    "- Image distribution plot, train vs validation vs test.\n",
    "- Machine learning model creation and training.\n",
    "- Plotting model performance.\n",
    "- Prediction of a selected image file."
   ]
  },
  {
   "cell_type": "markdown",
   "metadata": {},
   "source": [
    "## Install dependencies"
   ]
  },
  {
   "cell_type": "code",
   "execution_count": 14,
   "metadata": {},
   "outputs": [
    {
     "name": "stdout",
     "output_type": "stream",
     "text": [
      "Requirement already satisfied: numpy==1.19.2 in /home/gitpod/.pyenv/versions/3.8.12/lib/python3.8/site-packages (from -r ./requirements.txt (line 1)) (1.19.2)\n",
      "Requirement already satisfied: pandas==1.1.2 in /home/gitpod/.pyenv/versions/3.8.12/lib/python3.8/site-packages (from -r ./requirements.txt (line 2)) (1.1.2)\n",
      "Requirement already satisfied: matplotlib==3.3.1 in /home/gitpod/.pyenv/versions/3.8.12/lib/python3.8/site-packages (from -r ./requirements.txt (line 3)) (3.3.1)\n",
      "Requirement already satisfied: seaborn==0.11.0 in /home/gitpod/.pyenv/versions/3.8.12/lib/python3.8/site-packages (from -r ./requirements.txt (line 4)) (0.11.0)\n",
      "Requirement already satisfied: plotly==4.12.0 in /home/gitpod/.pyenv/versions/3.8.12/lib/python3.8/site-packages (from -r ./requirements.txt (line 5)) (4.12.0)\n",
      "Requirement already satisfied: streamlit==0.85.0 in /home/gitpod/.pyenv/versions/3.8.12/lib/python3.8/site-packages (from -r ./requirements.txt (line 7)) (0.85.0)\n",
      "Requirement already satisfied: scikit-learn==0.24.2 in /home/gitpod/.pyenv/versions/3.8.12/lib/python3.8/site-packages (from -r ./requirements.txt (line 9)) (0.24.2)\n",
      "Requirement already satisfied: tensorflow-cpu==2.6.0 in /home/gitpod/.pyenv/versions/3.8.12/lib/python3.8/site-packages (from -r ./requirements.txt (line 10)) (2.6.0)\n",
      "Requirement already satisfied: keras==2.6.0 in /home/gitpod/.pyenv/versions/3.8.12/lib/python3.8/site-packages (from -r ./requirements.txt (line 11)) (2.6.0)\n",
      "Requirement already satisfied: protobuf==3.20 in /home/gitpod/.pyenv/versions/3.8.12/lib/python3.8/site-packages (from -r ./requirements.txt (line 12)) (3.20.0)\n",
      "Requirement already satisfied: altair<5 in /home/gitpod/.pyenv/versions/3.8.12/lib/python3.8/site-packages (from -r ./requirements.txt (line 13)) (4.2.2)\n",
      "Requirement already satisfied: pytz>=2017.2 in /home/gitpod/.pyenv/versions/3.8.12/lib/python3.8/site-packages (from pandas==1.1.2->-r ./requirements.txt (line 2)) (2024.1)\n",
      "Requirement already satisfied: python-dateutil>=2.7.3 in /home/gitpod/.pyenv/versions/3.8.12/lib/python3.8/site-packages (from pandas==1.1.2->-r ./requirements.txt (line 2)) (2.9.0.post0)\n",
      "Requirement already satisfied: pillow>=6.2.0 in /home/gitpod/.pyenv/versions/3.8.12/lib/python3.8/site-packages (from matplotlib==3.3.1->-r ./requirements.txt (line 3)) (10.2.0)\n",
      "Requirement already satisfied: kiwisolver>=1.0.1 in /home/gitpod/.pyenv/versions/3.8.12/lib/python3.8/site-packages (from matplotlib==3.3.1->-r ./requirements.txt (line 3)) (1.4.5)\n",
      "Requirement already satisfied: certifi>=2020.06.20 in /home/gitpod/.pyenv/versions/3.8.12/lib/python3.8/site-packages (from matplotlib==3.3.1->-r ./requirements.txt (line 3)) (2024.2.2)\n",
      "Requirement already satisfied: pyparsing!=2.0.4,!=2.1.2,!=2.1.6,>=2.0.3 in /home/gitpod/.pyenv/versions/3.8.12/lib/python3.8/site-packages (from matplotlib==3.3.1->-r ./requirements.txt (line 3)) (3.1.2)\n",
      "Requirement already satisfied: cycler>=0.10 in /home/gitpod/.pyenv/versions/3.8.12/lib/python3.8/site-packages (from matplotlib==3.3.1->-r ./requirements.txt (line 3)) (0.12.1)\n",
      "Requirement already satisfied: scipy>=1.0 in /home/gitpod/.pyenv/versions/3.8.12/lib/python3.8/site-packages (from seaborn==0.11.0->-r ./requirements.txt (line 4)) (1.9.3)\n",
      "Requirement already satisfied: retrying>=1.3.3 in /home/gitpod/.pyenv/versions/3.8.12/lib/python3.8/site-packages (from plotly==4.12.0->-r ./requirements.txt (line 5)) (1.3.4)\n",
      "Requirement already satisfied: six in /home/gitpod/.pyenv/versions/3.8.12/lib/python3.8/site-packages (from plotly==4.12.0->-r ./requirements.txt (line 5)) (1.15.0)\n",
      "Requirement already satisfied: tornado>=5.0 in /home/gitpod/.pyenv/versions/3.8.12/lib/python3.8/site-packages (from streamlit==0.85.0->-r ./requirements.txt (line 7)) (6.4)\n",
      "Requirement already satisfied: blinker in /home/gitpod/.pyenv/versions/3.8.12/lib/python3.8/site-packages (from streamlit==0.85.0->-r ./requirements.txt (line 7)) (1.7.0)\n",
      "Requirement already satisfied: attrs in /home/gitpod/.pyenv/versions/3.8.12/lib/python3.8/site-packages (from streamlit==0.85.0->-r ./requirements.txt (line 7)) (23.2.0)\n",
      "Requirement already satisfied: validators in /home/gitpod/.pyenv/versions/3.8.12/lib/python3.8/site-packages (from streamlit==0.85.0->-r ./requirements.txt (line 7)) (0.22.0)\n",
      "Requirement already satisfied: packaging in /home/gitpod/.pyenv/versions/3.8.12/lib/python3.8/site-packages (from streamlit==0.85.0->-r ./requirements.txt (line 7)) (23.2)\n",
      "Requirement already satisfied: pydeck>=0.1.dev5 in /home/gitpod/.pyenv/versions/3.8.12/lib/python3.8/site-packages (from streamlit==0.85.0->-r ./requirements.txt (line 7)) (0.8.1b0)\n",
      "Requirement already satisfied: tzlocal in /home/gitpod/.pyenv/versions/3.8.12/lib/python3.8/site-packages (from streamlit==0.85.0->-r ./requirements.txt (line 7)) (5.2)\n",
      "Requirement already satisfied: toml in /home/gitpod/.pyenv/versions/3.8.12/lib/python3.8/site-packages (from streamlit==0.85.0->-r ./requirements.txt (line 7)) (0.10.2)\n",
      "Requirement already satisfied: pyarrow in /home/gitpod/.pyenv/versions/3.8.12/lib/python3.8/site-packages (from streamlit==0.85.0->-r ./requirements.txt (line 7)) (15.0.1)\n",
      "Requirement already satisfied: watchdog in /home/gitpod/.pyenv/versions/3.8.12/lib/python3.8/site-packages (from streamlit==0.85.0->-r ./requirements.txt (line 7)) (4.0.0)\n",
      "Requirement already satisfied: requests in /home/gitpod/.pyenv/versions/3.8.12/lib/python3.8/site-packages (from streamlit==0.85.0->-r ./requirements.txt (line 7)) (2.31.0)\n",
      "Requirement already satisfied: astor in /home/gitpod/.pyenv/versions/3.8.12/lib/python3.8/site-packages (from streamlit==0.85.0->-r ./requirements.txt (line 7)) (0.8.1)\n",
      "Requirement already satisfied: cachetools>=4.0 in /home/gitpod/.pyenv/versions/3.8.12/lib/python3.8/site-packages (from streamlit==0.85.0->-r ./requirements.txt (line 7)) (5.3.3)\n",
      "Requirement already satisfied: click<8.0,>=7.0 in /home/gitpod/.pyenv/versions/3.8.12/lib/python3.8/site-packages (from streamlit==0.85.0->-r ./requirements.txt (line 7)) (7.1.2)\n",
      "Requirement already satisfied: gitpython in /home/gitpod/.pyenv/versions/3.8.12/lib/python3.8/site-packages (from streamlit==0.85.0->-r ./requirements.txt (line 7)) (3.1.42)\n",
      "Requirement already satisfied: base58 in /home/gitpod/.pyenv/versions/3.8.12/lib/python3.8/site-packages (from streamlit==0.85.0->-r ./requirements.txt (line 7)) (2.1.1)\n",
      "Requirement already satisfied: threadpoolctl>=2.0.0 in /home/gitpod/.pyenv/versions/3.8.12/lib/python3.8/site-packages (from scikit-learn==0.24.2->-r ./requirements.txt (line 9)) (3.3.0)\n",
      "Requirement already satisfied: joblib>=0.11 in /home/gitpod/.pyenv/versions/3.8.12/lib/python3.8/site-packages (from scikit-learn==0.24.2->-r ./requirements.txt (line 9)) (1.3.2)\n",
      "Requirement already satisfied: h5py~=3.1.0 in /home/gitpod/.pyenv/versions/3.8.12/lib/python3.8/site-packages (from tensorflow-cpu==2.6.0->-r ./requirements.txt (line 10)) (3.1.0)\n",
      "Requirement already satisfied: tensorflow-estimator~=2.6 in /home/gitpod/.pyenv/versions/3.8.12/lib/python3.8/site-packages (from tensorflow-cpu==2.6.0->-r ./requirements.txt (line 10)) (2.15.0)\n",
      "Requirement already satisfied: grpcio<2.0,>=1.37.0 in /home/gitpod/.pyenv/versions/3.8.12/lib/python3.8/site-packages (from tensorflow-cpu==2.6.0->-r ./requirements.txt (line 10)) (1.62.0)\n",
      "Requirement already satisfied: keras-preprocessing~=1.1.2 in /home/gitpod/.pyenv/versions/3.8.12/lib/python3.8/site-packages (from tensorflow-cpu==2.6.0->-r ./requirements.txt (line 10)) (1.1.2)\n",
      "Requirement already satisfied: flatbuffers~=1.12.0 in /home/gitpod/.pyenv/versions/3.8.12/lib/python3.8/site-packages (from tensorflow-cpu==2.6.0->-r ./requirements.txt (line 10)) (1.12)\n",
      "Requirement already satisfied: tensorboard~=2.6 in /home/gitpod/.pyenv/versions/3.8.12/lib/python3.8/site-packages (from tensorflow-cpu==2.6.0->-r ./requirements.txt (line 10)) (2.14.0)\n",
      "Requirement already satisfied: astunparse~=1.6.3 in /home/gitpod/.pyenv/versions/3.8.12/lib/python3.8/site-packages (from tensorflow-cpu==2.6.0->-r ./requirements.txt (line 10)) (1.6.3)\n",
      "Requirement already satisfied: opt-einsum~=3.3.0 in /home/gitpod/.pyenv/versions/3.8.12/lib/python3.8/site-packages (from tensorflow-cpu==2.6.0->-r ./requirements.txt (line 10)) (3.3.0)\n",
      "Requirement already satisfied: clang~=5.0 in /home/gitpod/.pyenv/versions/3.8.12/lib/python3.8/site-packages (from tensorflow-cpu==2.6.0->-r ./requirements.txt (line 10)) (5.0)\n",
      "Requirement already satisfied: absl-py~=0.10 in /home/gitpod/.pyenv/versions/3.8.12/lib/python3.8/site-packages (from tensorflow-cpu==2.6.0->-r ./requirements.txt (line 10)) (0.15.0)\n",
      "Requirement already satisfied: wrapt~=1.12.1 in /home/gitpod/.pyenv/versions/3.8.12/lib/python3.8/site-packages (from tensorflow-cpu==2.6.0->-r ./requirements.txt (line 10)) (1.12.1)\n",
      "Requirement already satisfied: termcolor~=1.1.0 in /home/gitpod/.pyenv/versions/3.8.12/lib/python3.8/site-packages (from tensorflow-cpu==2.6.0->-r ./requirements.txt (line 10)) (1.1.0)\n",
      "Requirement already satisfied: gast==0.4.0 in /home/gitpod/.pyenv/versions/3.8.12/lib/python3.8/site-packages (from tensorflow-cpu==2.6.0->-r ./requirements.txt (line 10)) (0.4.0)\n",
      "Requirement already satisfied: google-pasta~=0.2 in /home/gitpod/.pyenv/versions/3.8.12/lib/python3.8/site-packages (from tensorflow-cpu==2.6.0->-r ./requirements.txt (line 10)) (0.2.0)\n",
      "Requirement already satisfied: wheel~=0.35 in /home/gitpod/.pyenv/versions/3.8.12/lib/python3.8/site-packages (from tensorflow-cpu==2.6.0->-r ./requirements.txt (line 10)) (0.42.0)\n",
      "Requirement already satisfied: typing-extensions~=3.7.4 in /home/gitpod/.pyenv/versions/3.8.12/lib/python3.8/site-packages (from tensorflow-cpu==2.6.0->-r ./requirements.txt (line 10)) (3.7.4.3)\n",
      "Requirement already satisfied: jsonschema>=3.0 in /home/gitpod/.pyenv/versions/3.8.12/lib/python3.8/site-packages (from altair<5->-r ./requirements.txt (line 13)) (4.21.1)\n",
      "Requirement already satisfied: entrypoints in /home/gitpod/.pyenv/versions/3.8.12/lib/python3.8/site-packages (from altair<5->-r ./requirements.txt (line 13)) (0.4)\n",
      "Requirement already satisfied: toolz in /home/gitpod/.pyenv/versions/3.8.12/lib/python3.8/site-packages (from altair<5->-r ./requirements.txt (line 13)) (0.12.1)\n",
      "Requirement already satisfied: jinja2 in /home/gitpod/.pyenv/versions/3.8.12/lib/python3.8/site-packages (from altair<5->-r ./requirements.txt (line 13)) (3.1.3)\n",
      "Requirement already satisfied: referencing>=0.28.4 in /home/gitpod/.pyenv/versions/3.8.12/lib/python3.8/site-packages (from jsonschema>=3.0->altair<5->-r ./requirements.txt (line 13)) (0.33.0)\n",
      "Requirement already satisfied: rpds-py>=0.7.1 in /home/gitpod/.pyenv/versions/3.8.12/lib/python3.8/site-packages (from jsonschema>=3.0->altair<5->-r ./requirements.txt (line 13)) (0.18.0)\n",
      "Requirement already satisfied: jsonschema-specifications>=2023.03.6 in /home/gitpod/.pyenv/versions/3.8.12/lib/python3.8/site-packages (from jsonschema>=3.0->altair<5->-r ./requirements.txt (line 13)) (2023.12.1)\n",
      "Requirement already satisfied: importlib-resources>=1.4.0 in /home/gitpod/.pyenv/versions/3.8.12/lib/python3.8/site-packages (from jsonschema>=3.0->altair<5->-r ./requirements.txt (line 13)) (6.1.3)\n",
      "Requirement already satisfied: pkgutil-resolve-name>=1.3.10 in /home/gitpod/.pyenv/versions/3.8.12/lib/python3.8/site-packages (from jsonschema>=3.0->altair<5->-r ./requirements.txt (line 13)) (1.3.10)\n",
      "Requirement already satisfied: zipp>=3.1.0 in /home/gitpod/.pyenv/versions/3.8.12/lib/python3.8/site-packages (from importlib-resources>=1.4.0->jsonschema>=3.0->altair<5->-r ./requirements.txt (line 13)) (3.17.0)\n",
      "Requirement already satisfied: MarkupSafe>=2.0 in /home/gitpod/.pyenv/versions/3.8.12/lib/python3.8/site-packages (from jinja2->altair<5->-r ./requirements.txt (line 13)) (2.1.5)\n",
      "Requirement already satisfied: google-auth-oauthlib<1.1,>=0.5 in /home/gitpod/.pyenv/versions/3.8.12/lib/python3.8/site-packages (from tensorboard~=2.6->tensorflow-cpu==2.6.0->-r ./requirements.txt (line 10)) (1.0.0)\n",
      "Requirement already satisfied: setuptools>=41.0.0 in /home/gitpod/.pyenv/versions/3.8.12/lib/python3.8/site-packages (from tensorboard~=2.6->tensorflow-cpu==2.6.0->-r ./requirements.txt (line 10)) (56.0.0)\n",
      "Requirement already satisfied: tensorboard-data-server<0.8.0,>=0.7.0 in /home/gitpod/.pyenv/versions/3.8.12/lib/python3.8/site-packages (from tensorboard~=2.6->tensorflow-cpu==2.6.0->-r ./requirements.txt (line 10)) (0.7.2)\n",
      "Requirement already satisfied: google-auth<3,>=1.6.3 in /home/gitpod/.pyenv/versions/3.8.12/lib/python3.8/site-packages (from tensorboard~=2.6->tensorflow-cpu==2.6.0->-r ./requirements.txt (line 10)) (2.28.1)\n",
      "Requirement already satisfied: markdown>=2.6.8 in /home/gitpod/.pyenv/versions/3.8.12/lib/python3.8/site-packages (from tensorboard~=2.6->tensorflow-cpu==2.6.0->-r ./requirements.txt (line 10)) (3.5.2)\n",
      "Requirement already satisfied: werkzeug>=1.0.1 in /home/gitpod/.pyenv/versions/3.8.12/lib/python3.8/site-packages (from tensorboard~=2.6->tensorflow-cpu==2.6.0->-r ./requirements.txt (line 10)) (3.0.1)\n",
      "Requirement already satisfied: rsa<5,>=3.1.4 in /home/gitpod/.pyenv/versions/3.8.12/lib/python3.8/site-packages (from google-auth<3,>=1.6.3->tensorboard~=2.6->tensorflow-cpu==2.6.0->-r ./requirements.txt (line 10)) (4.9)\n",
      "Requirement already satisfied: pyasn1-modules>=0.2.1 in /home/gitpod/.pyenv/versions/3.8.12/lib/python3.8/site-packages (from google-auth<3,>=1.6.3->tensorboard~=2.6->tensorflow-cpu==2.6.0->-r ./requirements.txt (line 10)) (0.3.0)\n",
      "Requirement already satisfied: requests-oauthlib>=0.7.0 in /home/gitpod/.pyenv/versions/3.8.12/lib/python3.8/site-packages (from google-auth-oauthlib<1.1,>=0.5->tensorboard~=2.6->tensorflow-cpu==2.6.0->-r ./requirements.txt (line 10)) (1.3.1)\n",
      "Requirement already satisfied: importlib-metadata>=4.4 in /home/gitpod/.pyenv/versions/3.8.12/lib/python3.8/site-packages (from markdown>=2.6.8->tensorboard~=2.6->tensorflow-cpu==2.6.0->-r ./requirements.txt (line 10)) (7.0.1)\n",
      "Requirement already satisfied: pyasn1<0.6.0,>=0.4.6 in /home/gitpod/.pyenv/versions/3.8.12/lib/python3.8/site-packages (from pyasn1-modules>=0.2.1->google-auth<3,>=1.6.3->tensorboard~=2.6->tensorflow-cpu==2.6.0->-r ./requirements.txt (line 10)) (0.5.1)\n",
      "Requirement already satisfied: charset-normalizer<4,>=2 in /home/gitpod/.pyenv/versions/3.8.12/lib/python3.8/site-packages (from requests->streamlit==0.85.0->-r ./requirements.txt (line 7)) (3.3.2)\n",
      "Requirement already satisfied: idna<4,>=2.5 in /home/gitpod/.pyenv/versions/3.8.12/lib/python3.8/site-packages (from requests->streamlit==0.85.0->-r ./requirements.txt (line 7)) (3.6)\n",
      "Requirement already satisfied: urllib3<3,>=1.21.1 in /home/gitpod/.pyenv/versions/3.8.12/lib/python3.8/site-packages (from requests->streamlit==0.85.0->-r ./requirements.txt (line 7)) (2.2.1)\n",
      "Requirement already satisfied: oauthlib>=3.0.0 in /home/gitpod/.pyenv/versions/3.8.12/lib/python3.8/site-packages (from requests-oauthlib>=0.7.0->google-auth-oauthlib<1.1,>=0.5->tensorboard~=2.6->tensorflow-cpu==2.6.0->-r ./requirements.txt (line 10)) (3.2.2)\n",
      "Requirement already satisfied: gitdb<5,>=4.0.1 in /home/gitpod/.pyenv/versions/3.8.12/lib/python3.8/site-packages (from gitpython->streamlit==0.85.0->-r ./requirements.txt (line 7)) (4.0.11)\n",
      "Requirement already satisfied: smmap<6,>=3.0.1 in /home/gitpod/.pyenv/versions/3.8.12/lib/python3.8/site-packages (from gitdb<5,>=4.0.1->gitpython->streamlit==0.85.0->-r ./requirements.txt (line 7)) (5.0.1)\n",
      "Requirement already satisfied: backports.zoneinfo in /home/gitpod/.pyenv/versions/3.8.12/lib/python3.8/site-packages (from tzlocal->streamlit==0.85.0->-r ./requirements.txt (line 7)) (0.2.1)\n",
      "\u001b[33mWARNING: You are using pip version 21.1.1; however, version 24.0 is available.\n",
      "You should consider upgrading via the '/home/gitpod/.pyenv/versions/3.8.12/bin/python -m pip install --upgrade pip' command.\u001b[0m\n",
      "Note: you may need to restart the kernel to use updated packages.\n"
     ]
    }
   ],
   "source": [
    "pip install -r ./requirements.txt"
   ]
  },
  {
   "cell_type": "code",
   "execution_count": 15,
   "metadata": {},
   "outputs": [],
   "source": [
    "import os\n",
    "import pandas as pd\n",
    "import numpy as np\n",
    "import matplotlib.pyplot as plt\n",
    "import seaborn as sns\n",
    "from matplotlib.image import imread"
   ]
  },
  {
   "cell_type": "markdown",
   "metadata": {},
   "source": [
    "\n",
    "## Change working directory\n",
    "\n",
    "Change working directory from current to parent folder."
   ]
  },
  {
   "cell_type": "code",
   "execution_count": 16,
   "metadata": {},
   "outputs": [
    {
     "data": {
      "text/plain": [
       "'/workspace/mildew-detection'"
      ]
     },
     "execution_count": 16,
     "metadata": {},
     "output_type": "execute_result"
    }
   ],
   "source": [
    "import os\n",
    "current_dir = os.getcwd()\n",
    "current_dir"
   ]
  },
  {
   "cell_type": "code",
   "execution_count": 17,
   "metadata": {},
   "outputs": [
    {
     "name": "stdout",
     "output_type": "stream",
     "text": [
      "You set a new current directory.\n"
     ]
    }
   ],
   "source": [
    "os.chdir(\"/workspace/mildew-detection\")\n",
    "print(\"You set a new current directory.\")"
   ]
  },
  {
   "cell_type": "code",
   "execution_count": 18,
   "metadata": {},
   "outputs": [
    {
     "data": {
      "text/plain": [
       "'/workspace/mildew-detection'"
      ]
     },
     "execution_count": 18,
     "metadata": {},
     "output_type": "execute_result"
    }
   ],
   "source": [
    "current_dir = os.getcwd()\n",
    "current_dir"
   ]
  },
  {
   "cell_type": "markdown",
   "metadata": {},
   "source": [
    "## Set input directories"
   ]
  },
  {
   "cell_type": "code",
   "execution_count": 19,
   "metadata": {},
   "outputs": [],
   "source": [
    "data_dir = \"inputs/cherry_leaves_raw_dataset/cherry-leaves\"\n",
    "train_dir = data_dir + \"/train\"\n",
    "val_dir = data_dir + \"/validation\"\n",
    "test_dir = data_dir + \"/test\""
   ]
  },
  {
   "cell_type": "markdown",
   "metadata": {},
   "source": [
    "## Set output directories"
   ]
  },
  {
   "cell_type": "code",
   "execution_count": 20,
   "metadata": {},
   "outputs": [
    {
     "name": "stdout",
     "output_type": "stream",
     "text": [
      "This directory already exists, please create a new version if required.\n"
     ]
    }
   ],
   "source": [
    "version = \"v1\"\n",
    "file_path = f\"outputs/{version}\"\n",
    "if \"outputs\" in os.listdir(current_dir) and version in os.listdir(current_dir + \"/outputs\"):\n",
    "    print(\"This directory already exists, please create a new version if required.\")\n",
    "else:\n",
    "    os.makedirs(name=file_path)"
   ]
  },
  {
   "cell_type": "markdown",
   "metadata": {},
   "source": [
    "## Set label names"
   ]
  },
  {
   "cell_type": "code",
   "execution_count": 21,
   "metadata": {},
   "outputs": [
    {
     "name": "stdout",
     "output_type": "stream",
     "text": [
      "The image labels are  ['healthy', 'powdery_mildew']\n"
     ]
    }
   ],
   "source": [
    "labels = os.listdir(train_dir)\n",
    "print(\"The image labels are \", labels)"
   ]
  },
  {
   "cell_type": "markdown",
   "metadata": {},
   "source": [
    "Set image shape"
   ]
  },
  {
   "cell_type": "code",
   "execution_count": 22,
   "metadata": {},
   "outputs": [
    {
     "data": {
      "text/plain": [
       "(80, 80, 3)"
      ]
     },
     "execution_count": 22,
     "metadata": {},
     "output_type": "execute_result"
    }
   ],
   "source": [
    "import joblib\n",
    "version = 'v1'\n",
    "image_shape = joblib.load(filename=f\"outputs/{version}/image_shape.pkl\")\n",
    "image_shape"
   ]
  },
  {
   "cell_type": "markdown",
   "metadata": {},
   "source": [
    "## Check number of images in the respective sets"
   ]
  },
  {
   "cell_type": "markdown",
   "metadata": {},
   "source": [
    "Set size will be plotted and the image saved to outputs, pre-image pool augmentation"
   ]
  },
  {
   "cell_type": "code",
   "execution_count": 23,
   "metadata": {},
   "outputs": [
    {
     "name": "stdout",
     "output_type": "stream",
     "text": [
      "* train - healthy: 1472 images\n",
      "* train - powdery_mildew: 1472 images\n",
      "* validation - healthy: 210 images\n",
      "* validation - powdery_mildew: 210 images\n",
      "* test - healthy: 422 images\n",
      "* test - powdery_mildew: 422 images\n"
     ]
    },
    {
     "data": {
      "image/png": "[encoded data removed]",
      "text/plain": [
       "<Figure size 800x500 with 1 Axes>"
      ]
     },
     "metadata": {},
     "output_type": "display_data"
    }
   ],
   "source": [
    "# A dataframe is initialised to store the data\n",
    "df_freq = pd.DataFrame(columns=['Set', 'Label', 'Frequency'])\n",
    "\n",
    "folders = ['train', 'validation', 'test']\n",
    "\n",
    "# Iterate through folders, labels, and count the images present\n",
    "for folder in folders:\n",
    "    for label in labels:\n",
    "        folder_path = os.path.join(data_dir, folder, label)\n",
    "        num_images = len(os.listdir(folder_path))\n",
    "        df_freq = df_freq.append({'Set': folder, 'Label': label, 'Frequency': num_images}, ignore_index=True)\n",
    "        print(f\"* {folder} - {label}: {num_images} images\")\n",
    "\n",
    "# Plot label distribution\n",
    "sns.set_style(\"whitegrid\")\n",
    "plt.figure(figsize=(8,5))\n",
    "sns.barplot(data=df_freq, x='Set', y='Frequency', hue='Label')\n",
    "plt.savefig(f'{file_path}/label_distrib_pre_augmentation.png', bbox_inches='tight', dpi=150)\n",
    "plt.show()"
   ]
  },
  {
   "cell_type": "markdown",
   "metadata": {},
   "source": [
    "## Display distribution: Pie chart"
   ]
  },
  {
   "cell_type": "markdown",
   "metadata": {},
   "source": [
    "For simpler visualisation, a pie chart of image distribution is created and saved"
   ]
  },
  {
   "cell_type": "code",
   "execution_count": 38,
   "metadata": {},
   "outputs": [
    {
     "data": {
      "image/png": "[encoded data removed]",
      "text/plain": [
       "<Figure size 1000x500 with 1 Axes>"
      ]
     },
     "metadata": {},
     "output_type": "display_data"
    }
   ],
   "source": [
    "folders = os.listdir(data_dir)\n",
    "data=[]\n",
    "for folder in folders:\n",
    "    for label in labels:\n",
    "        n=int(len(os.listdir(data_dir + '/' + folder + '/' + label)))\n",
    "        n+=n\n",
    "    data.append(n)\n",
    "\n",
    "px = 1/plt.rcParams['figure.dpi'] \n",
    "plt.subplots(figsize=(10,5))\n",
    "colors = sns.color_palette('muted')[0:9]\n",
    "plt.pie(data, labels = folders, colors = colors, autopct='%.1f%%')\n",
    "plt.title(f'Dataset image distribution\\n')\n",
    "plt.savefig(f'{file_path}/image_distribution_pie.png', bbox_inches='tight', dpi=150)\n",
    "plt.show()"
   ]
  },
  {
   "cell_type": "markdown",
   "metadata": {},
   "source": [
    "It can be seen that they're split 70/10/20 to the nearest percent"
   ]
  },
  {
   "cell_type": "markdown",
   "metadata": {},
   "source": [
    "## Image augmentation"
   ]
  },
  {
   "cell_type": "markdown",
   "metadata": {},
   "source": [
    "The dataset will be augmented to increase the image pool, hopefully leading to greater accuracy\n",
    "\n",
    "The ImageDataGenerator is imported and initialised"
   ]
  },
  {
   "cell_type": "code",
   "execution_count": 40,
   "metadata": {},
   "outputs": [],
   "source": [
    "from tensorflow.keras.preprocessing.image import ImageDataGenerator\n",
    "\n",
    "augmented_image_data = ImageDataGenerator(rotation_range=20,\n",
    "                                          width_shift_range=0.10,\n",
    "                                          height_shift_range=0.10,\n",
    "                                          shear_range=0.1,\n",
    "                                          zoom_range=0.1,\n",
    "                                          horizontal_flip=True,\n",
    "                                          vertical_flip=True,\n",
    "                                          fill_mode='nearest',\n",
    "                                          rescale=1./255\n",
    "                                          )"
   ]
  },
  {
   "cell_type": "markdown",
   "metadata": {},
   "source": [
    "And the image pool for each set is augmented"
   ]
  },
  {
   "cell_type": "markdown",
   "metadata": {},
   "source": [
    "### Train set"
   ]
  },
  {
   "cell_type": "code",
   "execution_count": 41,
   "metadata": {},
   "outputs": [
    {
     "name": "stdout",
     "output_type": "stream",
     "text": [
      "Found 2944 images belonging to 2 classes.\n"
     ]
    },
    {
     "data": {
      "text/plain": [
       "{'healthy': 0, 'powdery_mildew': 1}"
      ]
     },
     "execution_count": 41,
     "metadata": {},
     "output_type": "execute_result"
    }
   ],
   "source": [
    "batch_size = 32\n",
    "train_set = augmented_image_data.flow_from_directory(train_dir, # Take images from 'train' folder\n",
    "                                                    target_size=image_shape[:2], \n",
    "                                                    color_mode='rgb',\n",
    "                                                    batch_size=batch_size, \n",
    "                                                    class_mode='binary', \n",
    "                                                    shuffle=True # Shuffle the images\n",
    "                                                    )\n",
    "train_set.class_indices    "
   ]
  },
  {
   "cell_type": "markdown",
   "metadata": {},
   "source": [
    "### Validation set"
   ]
  },
  {
   "cell_type": "code",
   "execution_count": 42,
   "metadata": {},
   "outputs": [
    {
     "name": "stdout",
     "output_type": "stream",
     "text": [
      "Found 420 images belonging to 2 classes.\n"
     ]
    },
    {
     "data": {
      "text/plain": [
       "{'healthy': 0, 'powdery_mildew': 1}"
      ]
     },
     "execution_count": 42,
     "metadata": {},
     "output_type": "execute_result"
    }
   ],
   "source": [
    "validation_set = ImageDataGenerator(rescale=1./255).flow_from_directory(val_dir,\n",
    "                                                                        target_size=image_shape[:2],\n",
    "                                                                        color_mode='rgb',\n",
    "                                                                        batch_size=batch_size,\n",
    "                                                                        class_mode='binary',\n",
    "                                                                        shuffle=False\n",
    "                                                                        )\n",
    "\n",
    "validation_set.class_indices"
   ]
  },
  {
   "cell_type": "markdown",
   "metadata": {},
   "source": [
    "### Test set"
   ]
  },
  {
   "cell_type": "code",
   "execution_count": 43,
   "metadata": {},
   "outputs": [
    {
     "name": "stdout",
     "output_type": "stream",
     "text": [
      "Found 844 images belonging to 2 classes.\n"
     ]
    },
    {
     "data": {
      "text/plain": [
       "{'healthy': 0, 'powdery_mildew': 1}"
      ]
     },
     "execution_count": 43,
     "metadata": {},
     "output_type": "execute_result"
    }
   ],
   "source": [
    "test_set = ImageDataGenerator(rescale=1./255).flow_from_directory(test_dir,\n",
    "                                                                  target_size=image_shape[:2],\n",
    "                                                                  color_mode='rgb',\n",
    "                                                                  batch_size=batch_size,\n",
    "                                                                  class_mode='binary',\n",
    "                                                                  shuffle=False\n",
    "                                                                  )\n",
    "\n",
    "test_set.class_indices"
   ]
  },
  {
   "cell_type": "markdown",
   "metadata": {},
   "source": [
    "Save class_indices as a pkl file (do after i fix augmentation issue)"
   ]
  },
  {
   "cell_type": "code",
   "execution_count": 44,
   "metadata": {},
   "outputs": [],
   "source": [
    "# joblib.dump(value=train_set.class_indices,\n",
    "#             filename=f\"{file_path}/class_indices.pkl\")"
   ]
  },
  {
   "cell_type": "markdown",
   "metadata": {},
   "source": [
    "((I want to re-plot with augmented images but they haven't been augmented.... still the same no. as before))"
   ]
  },
  {
   "cell_type": "code",
   "execution_count": 45,
   "metadata": {},
   "outputs": [],
   "source": [
    "# # A dataframe is initialised to store the data\n",
    "# df_freq_aug = pd.DataFrame(columns=['Set', 'Label', 'Frequency'])\n",
    "\n",
    "# folders = ['train', 'validation', 'test']\n",
    "\n",
    "# # Iterate through folders, labels, and count the images present\n",
    "# for folder in folders:\n",
    "#     for label in labels:\n",
    "#         folder_path = os.path.join(data_dir, folder, label)\n",
    "#         num_images = len(os.listdir(folder_path))\n",
    "#         df_freq_aug = df_freq.append({'Set': folder, 'Label': label, 'Frequency': num_images}, ignore_index=True)\n",
    "#         print(f\"* {folder} - {label}: {num_images} images\")\n",
    "\n",
    "# # Plot label distribution\n",
    "# sns.set_style(\"whitegrid\")\n",
    "# plt.figure(figsize=(8,5))\n",
    "# sns.barplot(data=df_freq, x='Set', y='Frequency', hue='Label')\n",
    "# # plt.savefig(f'{file_path}/label_distrib_pre_augmentation.png', bbox_inches='tight', dpi=150)\n",
    "# plt.show()"
   ]
  },
  {
   "cell_type": "markdown",
   "metadata": {},
   "source": [
    "## Plot augmented images for each set (showing 3 sample images from each)"
   ]
  },
  {
   "cell_type": "markdown",
   "metadata": {},
   "source": [
    "### Train set"
   ]
  },
  {
   "cell_type": "code",
   "execution_count": null,
   "metadata": {},
   "outputs": [],
   "source": [
    "for _ in range(3):\n",
    "    img, label = train_set.next()\n",
    "    print(img.shape)  \n",
    "    plt.imshow(img[0])\n",
    "    plt.show()"
   ]
  },
  {
   "cell_type": "markdown",
   "metadata": {},
   "source": [
    "### Validation set"
   ]
  },
  {
   "cell_type": "code",
   "execution_count": null,
   "metadata": {},
   "outputs": [],
   "source": [
    "for _ in range(3):\n",
    "    img, label = validation_set.next()\n",
    "    print(img.shape)\n",
    "    plt.imshow(img[0])\n",
    "    plt.show()"
   ]
  },
  {
   "cell_type": "markdown",
   "metadata": {},
   "source": [
    "### Test set"
   ]
  },
  {
   "cell_type": "code",
   "execution_count": null,
   "metadata": {},
   "outputs": [],
   "source": [
    "for _ in range(3):\n",
    "    img, label = test_set.next()\n",
    "    print(img.shape)\n",
    "    plt.imshow(img[0])\n",
    "    plt.show()"
   ]
  },
  {
   "cell_type": "markdown",
   "metadata": {},
   "source": [
    "# Machine Learning Model Creation"
   ]
  },
  {
   "cell_type": "markdown",
   "metadata": {},
   "source": [
    "Import model packages"
   ]
  },
  {
   "cell_type": "code",
   "execution_count": 49,
   "metadata": {},
   "outputs": [],
   "source": [
    "from tensorflow.keras.models import Sequential\n",
    "from tensorflow.keras.layers import Activation, Dropout, Flatten, Dense, Conv2D, MaxPooling3D"
   ]
  },
  {
   "cell_type": "markdown",
   "metadata": {},
   "source": [
    "Create model"
   ]
  },
  {
   "cell_type": "code",
   "execution_count": 76,
   "metadata": {},
   "outputs": [],
   "source": [
    "from tensorflow.keras.models import Sequential\n",
    "from tensorflow.keras.layers import Conv2D, MaxPooling2D, Flatten, Dense, Dropout\n",
    "\n",
    "def create_model():\n",
    "    model = Sequential()\n",
    "\n",
    "    # input layer\n",
    "    model.add(Conv2D(filters=32, kernel_size=(3,3), input_shape=image_shape, activation='relu',))\n",
    "    model.add(MaxPooling2D(pool_size=(2,2)))\n",
    "\n",
    "    # convolution layers\n",
    "    model.add(Conv2D(filters=128, kernel_size=(3,3), activation='relu'))\n",
    "    model.add(MaxPooling2D(pool_size=(2,2)))\n",
    "\n",
    "    model.add(Conv2D(filters=64, kernel_size=(3,3), activation='relu'))\n",
    "    model.add(MaxPooling2D(pool_size=(2,2)))\n",
    "\n",
    "    model.add(Flatten())\n",
    "    model.add(Dense(128, activation = 'relu'))\n",
    "\n",
    "    model.add(Dropout(0.5))\n",
    "\n",
    "    # output\n",
    "    model.add(Dense(1, activation = 'sigmoid'))\n",
    "\n",
    "    model.compile(loss='binary_crossentropy',\n",
    "                optimizer='Nadam',\n",
    "                metrics=['accuracy'])\n",
    "\n",
    "    return model"
   ]
  },
  {
   "cell_type": "markdown",
   "metadata": {},
   "source": [
    "Show a summary of the model"
   ]
  },
  {
   "cell_type": "code",
   "execution_count": 80,
   "metadata": {},
   "outputs": [
    {
     "name": "stdout",
     "output_type": "stream",
     "text": [
      "Model: \"sequential_15\"\n",
      "_________________________________________________________________\n",
      "Layer (type)                 Output Shape              Param #   \n",
      "=================================================================\n",
      "conv2d_45 (Conv2D)           (None, 78, 78, 32)        896       \n",
      "_________________________________________________________________\n",
      "max_pooling2d_45 (MaxPooling (None, 39, 39, 32)        0         \n",
      "_________________________________________________________________\n",
      "conv2d_46 (Conv2D)           (None, 37, 37, 128)       36992     \n",
      "_________________________________________________________________\n",
      "max_pooling2d_46 (MaxPooling (None, 18, 18, 128)       0         \n",
      "_________________________________________________________________\n",
      "conv2d_47 (Conv2D)           (None, 16, 16, 64)        73792     \n",
      "_________________________________________________________________\n",
      "max_pooling2d_47 (MaxPooling (None, 8, 8, 64)          0         \n",
      "_________________________________________________________________\n",
      "flatten_15 (Flatten)         (None, 4096)              0         \n",
      "_________________________________________________________________\n",
      "dense_30 (Dense)             (None, 128)               524416    \n",
      "_________________________________________________________________\n",
      "dropout_15 (Dropout)         (None, 128)               0         \n",
      "_________________________________________________________________\n",
      "dense_31 (Dense)             (None, 1)                 129       \n",
      "=================================================================\n",
      "Total params: 636,225\n",
      "Trainable params: 636,225\n",
      "Non-trainable params: 0\n",
      "_________________________________________________________________\n"
     ]
    }
   ],
   "source": [
    "create_model().summary()"
   ]
  },
  {
   "cell_type": "markdown",
   "metadata": {},
   "source": [
    "## Early stopping"
   ]
  },
  {
   "cell_type": "markdown",
   "metadata": {},
   "source": [
    "Early stopping is included to stop the model once it starts to overfit"
   ]
  },
  {
   "cell_type": "code",
   "execution_count": 57,
   "metadata": {},
   "outputs": [],
   "source": [
    "from tensorflow.keras.callbacks import EarlyStopping\n",
    "early_stop = EarlyStopping(monitor='val_loss', patience=3)"
   ]
  },
  {
   "cell_type": "markdown",
   "metadata": {},
   "source": [
    "## Fit model for training"
   ]
  },
  {
   "cell_type": "code",
   "execution_count": 84,
   "metadata": {},
   "outputs": [
    {
     "name": "stdout",
     "output_type": "stream",
     "text": [
      "Epoch 1/40\n",
      " 2/92 [..............................] - ETA: 35s - loss: 0.6881 - accuracy: 0.5781 "
     ]
    },
    {
     "name": "stdout",
     "output_type": "stream",
     "text": [
      "92/92 [==============================] - 19s 197ms/step - loss: 0.6518 - accuracy: 0.6444 - val_loss: 0.5763 - val_accuracy: 0.8000\n",
      "Epoch 2/40\n",
      "92/92 [==============================] - 17s 186ms/step - loss: 0.5045 - accuracy: 0.7748 - val_loss: 0.4740 - val_accuracy: 0.7333\n",
      "Epoch 3/40\n",
      "92/92 [==============================] - 17s 189ms/step - loss: 0.3992 - accuracy: 0.8213 - val_loss: 0.3080 - val_accuracy: 0.8548\n",
      "Epoch 4/40\n",
      "92/92 [==============================] - 25s 276ms/step - loss: 0.3632 - accuracy: 0.8387 - val_loss: 0.4744 - val_accuracy: 0.7524\n",
      "Epoch 5/40\n",
      "92/92 [==============================] - 20s 218ms/step - loss: 0.3229 - accuracy: 0.8573 - val_loss: 0.2184 - val_accuracy: 0.9167\n",
      "Epoch 6/40\n",
      "92/92 [==============================] - 22s 240ms/step - loss: 0.2941 - accuracy: 0.8818 - val_loss: 0.2677 - val_accuracy: 0.8738\n",
      "Epoch 7/40\n",
      "92/92 [==============================] - 25s 273ms/step - loss: 0.2574 - accuracy: 0.9001 - val_loss: 0.1684 - val_accuracy: 0.9310\n",
      "Epoch 8/40\n",
      "92/92 [==============================] - 17s 184ms/step - loss: 0.2256 - accuracy: 0.9110 - val_loss: 0.1964 - val_accuracy: 0.9095\n",
      "Epoch 9/40\n",
      "92/92 [==============================] - 17s 183ms/step - loss: 0.1952 - accuracy: 0.9290 - val_loss: 0.1518 - val_accuracy: 0.9619\n",
      "Epoch 10/40\n",
      "92/92 [==============================] - 24s 263ms/step - loss: 0.1698 - accuracy: 0.9392 - val_loss: 0.0951 - val_accuracy: 0.9786\n",
      "Epoch 11/40\n",
      "92/92 [==============================] - 17s 186ms/step - loss: 0.1632 - accuracy: 0.9412 - val_loss: 0.0835 - val_accuracy: 0.9738\n",
      "Epoch 12/40\n",
      "92/92 [==============================] - 17s 185ms/step - loss: 0.1412 - accuracy: 0.9511 - val_loss: 0.0611 - val_accuracy: 0.9810\n",
      "Epoch 13/40\n",
      "92/92 [==============================] - 17s 186ms/step - loss: 0.1440 - accuracy: 0.9497 - val_loss: 0.0558 - val_accuracy: 0.9833\n",
      "Epoch 14/40\n",
      "92/92 [==============================] - 17s 184ms/step - loss: 0.1033 - accuracy: 0.9671 - val_loss: 0.3492 - val_accuracy: 0.8762\n",
      "Epoch 15/40\n",
      "92/92 [==============================] - 25s 271ms/step - loss: 0.1130 - accuracy: 0.9599 - val_loss: 0.0594 - val_accuracy: 0.9810\n",
      "Epoch 16/40\n",
      "92/92 [==============================] - 17s 188ms/step - loss: 0.0983 - accuracy: 0.9664 - val_loss: 0.0380 - val_accuracy: 0.9857\n",
      "Epoch 17/40\n",
      "92/92 [==============================] - 17s 190ms/step - loss: 0.0979 - accuracy: 0.9657 - val_loss: 0.0319 - val_accuracy: 0.9905\n",
      "Epoch 18/40\n",
      "92/92 [==============================] - 17s 189ms/step - loss: 0.0848 - accuracy: 0.9742 - val_loss: 0.0256 - val_accuracy: 0.9952\n",
      "Epoch 19/40\n",
      "92/92 [==============================] - 17s 188ms/step - loss: 0.1175 - accuracy: 0.9592 - val_loss: 0.0378 - val_accuracy: 0.9929\n",
      "Epoch 20/40\n",
      "92/92 [==============================] - 18s 191ms/step - loss: 0.0616 - accuracy: 0.9844 - val_loss: 0.0226 - val_accuracy: 0.9952\n",
      "Epoch 21/40\n",
      "92/92 [==============================] - 18s 191ms/step - loss: 0.0741 - accuracy: 0.9769 - val_loss: 0.0329 - val_accuracy: 0.9905\n",
      "Epoch 22/40\n",
      "92/92 [==============================] - 18s 191ms/step - loss: 0.0639 - accuracy: 0.9783 - val_loss: 0.0147 - val_accuracy: 1.0000\n",
      "Epoch 23/40\n",
      "92/92 [==============================] - 17s 190ms/step - loss: 0.0737 - accuracy: 0.9742 - val_loss: 0.0186 - val_accuracy: 0.9976\n",
      "Epoch 24/40\n",
      "92/92 [==============================] - 18s 191ms/step - loss: 0.0572 - accuracy: 0.9813 - val_loss: 0.0169 - val_accuracy: 0.9952\n",
      "Epoch 25/40\n",
      "92/92 [==============================] - 18s 191ms/step - loss: 0.0495 - accuracy: 0.9851 - val_loss: 0.0091 - val_accuracy: 1.0000\n",
      "Epoch 26/40\n",
      "92/92 [==============================] - 18s 191ms/step - loss: 0.0485 - accuracy: 0.9868 - val_loss: 0.0109 - val_accuracy: 0.9976\n",
      "Epoch 27/40\n",
      "92/92 [==============================] - 18s 191ms/step - loss: 0.0480 - accuracy: 0.9854 - val_loss: 0.0099 - val_accuracy: 1.0000\n",
      "Epoch 28/40\n",
      "92/92 [==============================] - 18s 192ms/step - loss: 0.0459 - accuracy: 0.9851 - val_loss: 0.0065 - val_accuracy: 1.0000\n",
      "Epoch 29/40\n",
      "92/92 [==============================] - 18s 192ms/step - loss: 0.0334 - accuracy: 0.9905 - val_loss: 0.0071 - val_accuracy: 1.0000\n",
      "Epoch 30/40\n",
      "92/92 [==============================] - 18s 191ms/step - loss: 0.0614 - accuracy: 0.9776 - val_loss: 0.0112 - val_accuracy: 0.9976\n",
      "Epoch 31/40\n",
      "92/92 [==============================] - 16s 178ms/step - loss: 0.0334 - accuracy: 0.9932 - val_loss: 0.0054 - val_accuracy: 1.0000\n",
      "Epoch 32/40\n",
      "92/92 [==============================] - 17s 180ms/step - loss: 0.0310 - accuracy: 0.9912 - val_loss: 0.0102 - val_accuracy: 0.9976\n",
      "Epoch 33/40\n",
      "92/92 [==============================] - 23s 255ms/step - loss: 0.0386 - accuracy: 0.9868 - val_loss: 0.0154 - val_accuracy: 0.9929\n",
      "Epoch 34/40\n",
      "92/92 [==============================] - 18s 198ms/step - loss: 0.0344 - accuracy: 0.9885 - val_loss: 0.0072 - val_accuracy: 1.0000\n"
     ]
    },
    {
     "data": {
      "text/plain": [
       "<keras.callbacks.History at 0x7f9ba88491c0>"
      ]
     },
     "execution_count": 84,
     "metadata": {},
     "output_type": "execute_result"
    }
   ],
   "source": [
    "model = create_model()\n",
    "model.fit(train_set, epochs=40, \n",
    "        steps_per_epoch=len(train_set.classes) // batch_size,\n",
    "        validation_data=validation_set,\n",
    "        callbacks=[early_stop],\n",
    "        verbose=1\n",
    "        )"
   ]
  },
  {
   "cell_type": "markdown",
   "metadata": {},
   "source": [
    "### Save the model"
   ]
  },
  {
   "cell_type": "code",
   "execution_count": 86,
   "metadata": {},
   "outputs": [],
   "source": [
    "model.save('outputs/v1/malaria_detector_model.h5')"
   ]
  },
  {
   "cell_type": "markdown",
   "metadata": {},
   "source": [
    "# Model performance"
   ]
  },
  {
   "cell_type": "markdown",
   "metadata": {},
   "source": [
    "## Model learning curve"
   ]
  },
  {
   "cell_type": "code",
   "execution_count": 85,
   "metadata": {},
   "outputs": [
    {
     "data": {
      "image/png": "[encoded data removed]",
      "text/plain": [
       "<Figure size 640x480 with 1 Axes>"
      ]
     },
     "metadata": {},
     "output_type": "display_data"
    },
    {
     "name": "stdout",
     "output_type": "stream",
     "text": [
      "\n",
      "\n"
     ]
    },
    {
     "data": {
      "image/png": "[encoded data removed]",
      "text/plain": [
       "<Figure size 640x480 with 1 Axes>"
      ]
     },
     "metadata": {},
     "output_type": "display_data"
    }
   ],
   "source": [
    "losses = pd.DataFrame(model.history.history)\n",
    "\n",
    "sns.set_style(\"dark\")\n",
    "losses[['loss','val_loss']].plot(style='.-')\n",
    "plt.title(\"Loss\")\n",
    "plt.savefig(f'{file_path}/model_training_losses.png', bbox_inches='tight', dpi=150)\n",
    "plt.show()\n",
    "\n",
    "print(\"\\n\")\n",
    "\n",
    "losses[['accuracy','val_accuracy']].plot(style='.-')\n",
    "plt.title(\"Accuracy\")\n",
    "plt.savefig(f'{file_path}/model_training_acc.png', bbox_inches='tight', dpi=150)\n",
    "plt.show()"
   ]
  },
  {
   "cell_type": "code",
   "execution_count": 91,
   "metadata": {},
   "outputs": [
    {
     "ename": "KeyError",
     "evalue": "'val_loss'",
     "output_type": "error",
     "traceback": [
      "\u001b[0;31m---------------------------------------------------------------------------\u001b[0m",
      "\u001b[0;31mKeyError\u001b[0m                                  Traceback (most recent call last)",
      "\u001b[1;32m/workspace/mildew-detection/jupyter_notebooks/Modelling_and_Evaluation.ipynb Cell 62\u001b[0m line \u001b[0;36m7\n\u001b[1;32m      <a href='vscode-notebook-cell://caketaster-mildewdetect-r94d8fx043z.ws-us110.gitpod.io/workspace/mildew-detection/jupyter_notebooks/Modelling_and_Evaluation.ipynb#Y131sdnNjb2RlLXJlbW90ZQ%3D%3D?line=1'>2</a>\u001b[0m \u001b[39mfrom\u001b[39;00m \u001b[39mplotly\u001b[39;00m\u001b[39m.\u001b[39;00m\u001b[39msubplots\u001b[39;00m \u001b[39mimport\u001b[39;00m make_subplots\n\u001b[1;32m      <a href='vscode-notebook-cell://caketaster-mildewdetect-r94d8fx043z.ws-us110.gitpod.io/workspace/mildew-detection/jupyter_notebooks/Modelling_and_Evaluation.ipynb#Y131sdnNjb2RlLXJlbW90ZQ%3D%3D?line=3'>4</a>\u001b[0m fig \u001b[39m=\u001b[39m make_subplots(specs\u001b[39m=\u001b[39m[[{\u001b[39m\"\u001b[39m\u001b[39msecondary_y\u001b[39m\u001b[39m\"\u001b[39m: \u001b[39mTrue\u001b[39;00m}]])\n\u001b[1;32m      <a href='vscode-notebook-cell://caketaster-mildewdetect-r94d8fx043z.ws-us110.gitpod.io/workspace/mildew-detection/jupyter_notebooks/Modelling_and_Evaluation.ipynb#Y131sdnNjb2RlLXJlbW90ZQ%3D%3D?line=5'>6</a>\u001b[0m fig\u001b[39m.\u001b[39madd_trace(\n\u001b[0;32m----> <a href='vscode-notebook-cell://caketaster-mildewdetect-r94d8fx043z.ws-us110.gitpod.io/workspace/mildew-detection/jupyter_notebooks/Modelling_and_Evaluation.ipynb#Y131sdnNjb2RlLXJlbW90ZQ%3D%3D?line=6'>7</a>\u001b[0m     go\u001b[39m.\u001b[39mScatter( y\u001b[39m=\u001b[39mmodel\u001b[39m.\u001b[39;49mhistory\u001b[39m.\u001b[39;49mhistory[\u001b[39m'\u001b[39;49m\u001b[39mval_loss\u001b[39;49m\u001b[39m'\u001b[39;49m], name\u001b[39m=\u001b[39m\u001b[39m\"\u001b[39m\u001b[39mval_loss\u001b[39m\u001b[39m\"\u001b[39m),\n\u001b[1;32m      <a href='vscode-notebook-cell://caketaster-mildewdetect-r94d8fx043z.ws-us110.gitpod.io/workspace/mildew-detection/jupyter_notebooks/Modelling_and_Evaluation.ipynb#Y131sdnNjb2RlLXJlbW90ZQ%3D%3D?line=7'>8</a>\u001b[0m     secondary_y\u001b[39m=\u001b[39m\u001b[39mFalse\u001b[39;00m,\n\u001b[1;32m      <a href='vscode-notebook-cell://caketaster-mildewdetect-r94d8fx043z.ws-us110.gitpod.io/workspace/mildew-detection/jupyter_notebooks/Modelling_and_Evaluation.ipynb#Y131sdnNjb2RlLXJlbW90ZQ%3D%3D?line=8'>9</a>\u001b[0m )\n\u001b[1;32m     <a href='vscode-notebook-cell://caketaster-mildewdetect-r94d8fx043z.ws-us110.gitpod.io/workspace/mildew-detection/jupyter_notebooks/Modelling_and_Evaluation.ipynb#Y131sdnNjb2RlLXJlbW90ZQ%3D%3D?line=9'>10</a>\u001b[0m fig\u001b[39m.\u001b[39madd_trace(\n\u001b[1;32m     <a href='vscode-notebook-cell://caketaster-mildewdetect-r94d8fx043z.ws-us110.gitpod.io/workspace/mildew-detection/jupyter_notebooks/Modelling_and_Evaluation.ipynb#Y131sdnNjb2RlLXJlbW90ZQ%3D%3D?line=10'>11</a>\u001b[0m     go\u001b[39m.\u001b[39mScatter( y\u001b[39m=\u001b[39mmodel\u001b[39m.\u001b[39mhistory\u001b[39m.\u001b[39mhistory[\u001b[39m'\u001b[39m\u001b[39mloss\u001b[39m\u001b[39m'\u001b[39m], name\u001b[39m=\u001b[39m\u001b[39m\"\u001b[39m\u001b[39mloss\u001b[39m\u001b[39m\"\u001b[39m),\n\u001b[1;32m     <a href='vscode-notebook-cell://caketaster-mildewdetect-r94d8fx043z.ws-us110.gitpod.io/workspace/mildew-detection/jupyter_notebooks/Modelling_and_Evaluation.ipynb#Y131sdnNjb2RlLXJlbW90ZQ%3D%3D?line=11'>12</a>\u001b[0m     secondary_y\u001b[39m=\u001b[39m\u001b[39mFalse\u001b[39;00m,\n\u001b[1;32m     <a href='vscode-notebook-cell://caketaster-mildewdetect-r94d8fx043z.ws-us110.gitpod.io/workspace/mildew-detection/jupyter_notebooks/Modelling_and_Evaluation.ipynb#Y131sdnNjb2RlLXJlbW90ZQ%3D%3D?line=12'>13</a>\u001b[0m )\n\u001b[1;32m     <a href='vscode-notebook-cell://caketaster-mildewdetect-r94d8fx043z.ws-us110.gitpod.io/workspace/mildew-detection/jupyter_notebooks/Modelling_and_Evaluation.ipynb#Y131sdnNjb2RlLXJlbW90ZQ%3D%3D?line=13'>14</a>\u001b[0m fig\u001b[39m.\u001b[39madd_trace(\n\u001b[1;32m     <a href='vscode-notebook-cell://caketaster-mildewdetect-r94d8fx043z.ws-us110.gitpod.io/workspace/mildew-detection/jupyter_notebooks/Modelling_and_Evaluation.ipynb#Y131sdnNjb2RlLXJlbW90ZQ%3D%3D?line=14'>15</a>\u001b[0m     go\u001b[39m.\u001b[39mScatter( y\u001b[39m=\u001b[39mmodel\u001b[39m.\u001b[39mhistory\u001b[39m.\u001b[39mhistory[\u001b[39m'\u001b[39m\u001b[39mval_accuracy\u001b[39m\u001b[39m'\u001b[39m], name\u001b[39m=\u001b[39m\u001b[39m\"\u001b[39m\u001b[39mval accuracy\u001b[39m\u001b[39m\"\u001b[39m),\n\u001b[1;32m     <a href='vscode-notebook-cell://caketaster-mildewdetect-r94d8fx043z.ws-us110.gitpod.io/workspace/mildew-detection/jupyter_notebooks/Modelling_and_Evaluation.ipynb#Y131sdnNjb2RlLXJlbW90ZQ%3D%3D?line=15'>16</a>\u001b[0m     secondary_y\u001b[39m=\u001b[39m\u001b[39mTrue\u001b[39;00m,\n\u001b[1;32m     <a href='vscode-notebook-cell://caketaster-mildewdetect-r94d8fx043z.ws-us110.gitpod.io/workspace/mildew-detection/jupyter_notebooks/Modelling_and_Evaluation.ipynb#Y131sdnNjb2RlLXJlbW90ZQ%3D%3D?line=16'>17</a>\u001b[0m )\n",
      "\u001b[0;31mKeyError\u001b[0m: 'val_loss'"
     ]
    }
   ],
   "source": [
    "import plotly.graph_objects as go\n",
    "from plotly.subplots import make_subplots\n",
    "\n",
    "fig = make_subplots(specs=[[{\"secondary_y\": True}]])\n",
    "\n",
    "fig.add_trace(\n",
    "    go.Scatter( y=model.history.history['val_loss'], name=\"val_loss\"),\n",
    "    secondary_y=False,\n",
    ")\n",
    "fig.add_trace(\n",
    "    go.Scatter( y=model.history.history['loss'], name=\"loss\"),\n",
    "    secondary_y=False,\n",
    ")\n",
    "fig.add_trace(\n",
    "    go.Scatter( y=model.history.history['val_accuracy'], name=\"val accuracy\"),\n",
    "    secondary_y=True,\n",
    ")\n",
    "fig.add_trace(\n",
    "    go.Scatter( y=model.history.history['accuracy'], name=\"accuracy\"),\n",
    "    secondary_y=True,\n",
    ")\n",
    "\n",
    "fig.update_layout(\n",
    "    title_text=\"Loss/Accuracy of LSTM Model\"\n",
    ")\n",
    "\n",
    "fig.update_xaxes(title_text=\"Epoch\")\n",
    "\n",
    "fig.update_yaxes(title_text=\"<b>primary</b> Loss\", secondary_y=False)\n",
    "fig.update_yaxes(title_text=\"<b>secondary</b> Accuracy\", secondary_y=True)\n",
    "\n",
    "fig.update_layout(\n",
    "    autosize=False,\n",
    "    width=800, \n",
    "    height=500, \n",
    "    )\n",
    "\n",
    "fig.show()\n",
    "# fig.write_image(f'{file_path}/model_history.png')"
   ]
  },
  {
   "cell_type": "markdown",
   "metadata": {},
   "source": [
    "## Model evaluation"
   ]
  },
  {
   "cell_type": "markdown",
   "metadata": {},
   "source": [
    "Load saved model"
   ]
  },
  {
   "cell_type": "code",
   "execution_count": 87,
   "metadata": {},
   "outputs": [],
   "source": [
    "from keras.models import load_model\n",
    "model = load_model('outputs/v1/malaria_detector_model.h5')"
   ]
  },
  {
   "cell_type": "markdown",
   "metadata": {},
   "source": [
    "Check model performance on test set"
   ]
  },
  {
   "cell_type": "code",
   "execution_count": 88,
   "metadata": {},
   "outputs": [
    {
     "name": "stdout",
     "output_type": "stream",
     "text": [
      "27/27 [==============================] - 2s 85ms/step - loss: 0.0249 - accuracy: 0.9929\n"
     ]
    }
   ],
   "source": [
    "evaluation = model.evaluate(test_set)"
   ]
  },
  {
   "cell_type": "markdown",
   "metadata": {},
   "source": [
    "Save evaluation pkl file"
   ]
  },
  {
   "cell_type": "code",
   "execution_count": 89,
   "metadata": {},
   "outputs": [
    {
     "data": {
      "text/plain": [
       "['outputs/v1/evaluation.pkl']"
      ]
     },
     "execution_count": 89,
     "metadata": {},
     "output_type": "execute_result"
    }
   ],
   "source": [
    "joblib.dump(value=evaluation, filename=f\"outputs/v1/evaluation.pkl\")"
   ]
  }
 ],
 "metadata": {
  "kernelspec": {
   "display_name": "Python 3",
   "language": "python",
   "name": "python3"
  },
  "language_info": {
   "codemirror_mode": {
    "name": "ipython",
    "version": 3
   },
   "file_extension": ".py",
   "mimetype": "text/x-python",
   "name": "python",
   "nbconvert_exporter": "python",
   "pygments_lexer": "ipython3",
   "version": "3.8.12"
  }
 },
 "nbformat": 4,
 "nbformat_minor": 2
}
