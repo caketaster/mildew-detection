{
 "cells": [
  {
   "cell_type": "markdown",
   "metadata": {},
   "source": [
    "# Modelling and Evaluation Part 2\n",
    "\n",
    "## Objectives\n",
    "\n",
    "- Create a Sigmoid output model to predict if a cherry leaf is infected with powdery mildew, which is the primary Business Requirement\n",
    "- A Softmax model has been created already with an accuracy of ___, the goal is to see if a different Sigmoid model can outperform it\n",
    "\n",
    "## Inputs\n",
    "\n",
    "- inputs/cherry_leaves_raw_dataset/cherry-leaves/train\n",
    "- inputs/cherry_leaves_raw_dataset/cherry-leaves/validation\n",
    "- inputs/cherry_leaves_raw_dataset/cherry-leaves/test\n",
    "Each folder has 2 subfolders: 'healthy' and 'powdery_mildew'\n",
    "- image_shape pkl [pickle] file\n",
    "\n",
    "\n",
    "## Outputs\n",
    "\n",
    "- Image distribution plot, train vs validation vs test\n",
    "- Class_indices.pkl\n",
    "- Machine learning model creation and training (mildew_detection_model)\n",
    "- evaluation.pkl\n",
    "- Plotting model performance, model_training_acc.png, model_training_losses.png\n",
    "- validation_set_confusion_matrix.png, test_set_confusion_matrix.png\n",
    "- Prediction on selected image files"
   ]
  },
  {
   "cell_type": "markdown",
   "metadata": {},
   "source": [
    "## Install dependencies"
   ]
  },
  {
   "cell_type": "code",
   "execution_count": 1,
   "metadata": {},
   "outputs": [
    {
     "name": "stdout",
     "output_type": "stream",
     "text": [
      "Requirement already satisfied: numpy==1.19.2 in /home/gitpod/.pyenv/versions/3.8.12/lib/python3.8/site-packages (from -r /workspace/mildew-detection/requirements.txt (line 1)) (1.19.2)\n",
      "Requirement already satisfied: pandas==1.1.2 in /home/gitpod/.pyenv/versions/3.8.12/lib/python3.8/site-packages (from -r /workspace/mildew-detection/requirements.txt (line 2)) (1.1.2)\n",
      "Requirement already satisfied: matplotlib==3.3.1 in /home/gitpod/.pyenv/versions/3.8.12/lib/python3.8/site-packages (from -r /workspace/mildew-detection/requirements.txt (line 3)) (3.3.1)\n",
      "Requirement already satisfied: seaborn==0.11.0 in /home/gitpod/.pyenv/versions/3.8.12/lib/python3.8/site-packages (from -r /workspace/mildew-detection/requirements.txt (line 4)) (0.11.0)\n",
      "Requirement already satisfied: plotly==4.12.0 in /home/gitpod/.pyenv/versions/3.8.12/lib/python3.8/site-packages (from -r /workspace/mildew-detection/requirements.txt (line 5)) (4.12.0)\n",
      "Requirement already satisfied: streamlit==0.85.0 in /home/gitpod/.pyenv/versions/3.8.12/lib/python3.8/site-packages (from -r /workspace/mildew-detection/requirements.txt (line 7)) (0.85.0)\n",
      "Requirement already satisfied: scikit-learn==0.24.2 in /home/gitpod/.pyenv/versions/3.8.12/lib/python3.8/site-packages (from -r /workspace/mildew-detection/requirements.txt (line 9)) (0.24.2)\n",
      "Requirement already satisfied: tensorflow-cpu==2.6.0 in /home/gitpod/.pyenv/versions/3.8.12/lib/python3.8/site-packages (from -r /workspace/mildew-detection/requirements.txt (line 10)) (2.6.0)\n",
      "Requirement already satisfied: keras==2.6.0 in /home/gitpod/.pyenv/versions/3.8.12/lib/python3.8/site-packages (from -r /workspace/mildew-detection/requirements.txt (line 11)) (2.6.0)\n",
      "Requirement already satisfied: protobuf==3.20 in /home/gitpod/.pyenv/versions/3.8.12/lib/python3.8/site-packages (from -r /workspace/mildew-detection/requirements.txt (line 12)) (3.20.0)\n",
      "Requirement already satisfied: altair<5 in /home/gitpod/.pyenv/versions/3.8.12/lib/python3.8/site-packages (from -r /workspace/mildew-detection/requirements.txt (line 13)) (4.2.2)\n",
      "Requirement already satisfied: python-dateutil>=2.7.3 in /home/gitpod/.pyenv/versions/3.8.12/lib/python3.8/site-packages (from pandas==1.1.2->-r /workspace/mildew-detection/requirements.txt (line 2)) (2.9.0.post0)\n",
      "Requirement already satisfied: pytz>=2017.2 in /home/gitpod/.pyenv/versions/3.8.12/lib/python3.8/site-packages (from pandas==1.1.2->-r /workspace/mildew-detection/requirements.txt (line 2)) (2024.1)\n",
      "Requirement already satisfied: pyparsing!=2.0.4,!=2.1.2,!=2.1.6,>=2.0.3 in /home/gitpod/.pyenv/versions/3.8.12/lib/python3.8/site-packages (from matplotlib==3.3.1->-r /workspace/mildew-detection/requirements.txt (line 3)) (3.1.2)\n",
      "Requirement already satisfied: pillow>=6.2.0 in /home/gitpod/.pyenv/versions/3.8.12/lib/python3.8/site-packages (from matplotlib==3.3.1->-r /workspace/mildew-detection/requirements.txt (line 3)) (10.2.0)\n",
      "Requirement already satisfied: certifi>=2020.06.20 in /home/gitpod/.pyenv/versions/3.8.12/lib/python3.8/site-packages (from matplotlib==3.3.1->-r /workspace/mildew-detection/requirements.txt (line 3)) (2024.2.2)\n",
      "Requirement already satisfied: kiwisolver>=1.0.1 in /home/gitpod/.pyenv/versions/3.8.12/lib/python3.8/site-packages (from matplotlib==3.3.1->-r /workspace/mildew-detection/requirements.txt (line 3)) (1.4.5)\n",
      "Requirement already satisfied: cycler>=0.10 in /home/gitpod/.pyenv/versions/3.8.12/lib/python3.8/site-packages (from matplotlib==3.3.1->-r /workspace/mildew-detection/requirements.txt (line 3)) (0.12.1)\n",
      "Requirement already satisfied: scipy>=1.0 in /home/gitpod/.pyenv/versions/3.8.12/lib/python3.8/site-packages (from seaborn==0.11.0->-r /workspace/mildew-detection/requirements.txt (line 4)) (1.9.3)\n",
      "Requirement already satisfied: retrying>=1.3.3 in /home/gitpod/.pyenv/versions/3.8.12/lib/python3.8/site-packages (from plotly==4.12.0->-r /workspace/mildew-detection/requirements.txt (line 5)) (1.3.4)\n",
      "Requirement already satisfied: six in /home/gitpod/.pyenv/versions/3.8.12/lib/python3.8/site-packages (from plotly==4.12.0->-r /workspace/mildew-detection/requirements.txt (line 5)) (1.15.0)\n",
      "Requirement already satisfied: click<8.0,>=7.0 in /home/gitpod/.pyenv/versions/3.8.12/lib/python3.8/site-packages (from streamlit==0.85.0->-r /workspace/mildew-detection/requirements.txt (line 7)) (7.1.2)\n",
      "Requirement already satisfied: packaging in /home/gitpod/.pyenv/versions/3.8.12/lib/python3.8/site-packages (from streamlit==0.85.0->-r /workspace/mildew-detection/requirements.txt (line 7)) (23.2)\n",
      "Requirement already satisfied: gitpython in /home/gitpod/.pyenv/versions/3.8.12/lib/python3.8/site-packages (from streamlit==0.85.0->-r /workspace/mildew-detection/requirements.txt (line 7)) (3.1.42)\n",
      "Requirement already satisfied: toml in /home/gitpod/.pyenv/versions/3.8.12/lib/python3.8/site-packages (from streamlit==0.85.0->-r /workspace/mildew-detection/requirements.txt (line 7)) (0.10.2)\n",
      "Requirement already satisfied: tornado>=5.0 in /home/gitpod/.pyenv/versions/3.8.12/lib/python3.8/site-packages (from streamlit==0.85.0->-r /workspace/mildew-detection/requirements.txt (line 7)) (6.4)\n",
      "Requirement already satisfied: validators in /home/gitpod/.pyenv/versions/3.8.12/lib/python3.8/site-packages (from streamlit==0.85.0->-r /workspace/mildew-detection/requirements.txt (line 7)) (0.22.0)\n",
      "Requirement already satisfied: base58 in /home/gitpod/.pyenv/versions/3.8.12/lib/python3.8/site-packages (from streamlit==0.85.0->-r /workspace/mildew-detection/requirements.txt (line 7)) (2.1.1)\n",
      "Requirement already satisfied: blinker in /home/gitpod/.pyenv/versions/3.8.12/lib/python3.8/site-packages (from streamlit==0.85.0->-r /workspace/mildew-detection/requirements.txt (line 7)) (1.7.0)\n",
      "Requirement already satisfied: tzlocal in /home/gitpod/.pyenv/versions/3.8.12/lib/python3.8/site-packages (from streamlit==0.85.0->-r /workspace/mildew-detection/requirements.txt (line 7)) (5.2)\n",
      "Requirement already satisfied: watchdog in /home/gitpod/.pyenv/versions/3.8.12/lib/python3.8/site-packages (from streamlit==0.85.0->-r /workspace/mildew-detection/requirements.txt (line 7)) (4.0.0)\n",
      "Requirement already satisfied: astor in /home/gitpod/.pyenv/versions/3.8.12/lib/python3.8/site-packages (from streamlit==0.85.0->-r /workspace/mildew-detection/requirements.txt (line 7)) (0.8.1)\n",
      "Requirement already satisfied: pyarrow in /home/gitpod/.pyenv/versions/3.8.12/lib/python3.8/site-packages (from streamlit==0.85.0->-r /workspace/mildew-detection/requirements.txt (line 7)) (15.0.1)\n",
      "Requirement already satisfied: cachetools>=4.0 in /home/gitpod/.pyenv/versions/3.8.12/lib/python3.8/site-packages (from streamlit==0.85.0->-r /workspace/mildew-detection/requirements.txt (line 7)) (5.3.3)\n",
      "Requirement already satisfied: requests in /home/gitpod/.pyenv/versions/3.8.12/lib/python3.8/site-packages (from streamlit==0.85.0->-r /workspace/mildew-detection/requirements.txt (line 7)) (2.31.0)\n",
      "Requirement already satisfied: attrs in /home/gitpod/.pyenv/versions/3.8.12/lib/python3.8/site-packages (from streamlit==0.85.0->-r /workspace/mildew-detection/requirements.txt (line 7)) (23.2.0)\n",
      "Requirement already satisfied: pydeck>=0.1.dev5 in /home/gitpod/.pyenv/versions/3.8.12/lib/python3.8/site-packages (from streamlit==0.85.0->-r /workspace/mildew-detection/requirements.txt (line 7)) (0.8.1b0)\n",
      "Requirement already satisfied: joblib>=0.11 in /home/gitpod/.pyenv/versions/3.8.12/lib/python3.8/site-packages (from scikit-learn==0.24.2->-r /workspace/mildew-detection/requirements.txt (line 9)) (1.3.2)\n",
      "Requirement already satisfied: threadpoolctl>=2.0.0 in /home/gitpod/.pyenv/versions/3.8.12/lib/python3.8/site-packages (from scikit-learn==0.24.2->-r /workspace/mildew-detection/requirements.txt (line 9)) (3.3.0)\n",
      "Requirement already satisfied: tensorboard~=2.6 in /home/gitpod/.pyenv/versions/3.8.12/lib/python3.8/site-packages (from tensorflow-cpu==2.6.0->-r /workspace/mildew-detection/requirements.txt (line 10)) (2.14.0)\n",
      "Requirement already satisfied: opt-einsum~=3.3.0 in /home/gitpod/.pyenv/versions/3.8.12/lib/python3.8/site-packages (from tensorflow-cpu==2.6.0->-r /workspace/mildew-detection/requirements.txt (line 10)) (3.3.0)\n",
      "Requirement already satisfied: astunparse~=1.6.3 in /home/gitpod/.pyenv/versions/3.8.12/lib/python3.8/site-packages (from tensorflow-cpu==2.6.0->-r /workspace/mildew-detection/requirements.txt (line 10)) (1.6.3)\n",
      "Requirement already satisfied: grpcio<2.0,>=1.37.0 in /home/gitpod/.pyenv/versions/3.8.12/lib/python3.8/site-packages (from tensorflow-cpu==2.6.0->-r /workspace/mildew-detection/requirements.txt (line 10)) (1.62.0)\n",
      "Requirement already satisfied: tensorflow-estimator~=2.6 in /home/gitpod/.pyenv/versions/3.8.12/lib/python3.8/site-packages (from tensorflow-cpu==2.6.0->-r /workspace/mildew-detection/requirements.txt (line 10)) (2.15.0)\n",
      "Requirement already satisfied: flatbuffers~=1.12.0 in /home/gitpod/.pyenv/versions/3.8.12/lib/python3.8/site-packages (from tensorflow-cpu==2.6.0->-r /workspace/mildew-detection/requirements.txt (line 10)) (1.12)\n",
      "Requirement already satisfied: wrapt~=1.12.1 in /home/gitpod/.pyenv/versions/3.8.12/lib/python3.8/site-packages (from tensorflow-cpu==2.6.0->-r /workspace/mildew-detection/requirements.txt (line 10)) (1.12.1)\n",
      "Requirement already satisfied: typing-extensions~=3.7.4 in /home/gitpod/.pyenv/versions/3.8.12/lib/python3.8/site-packages (from tensorflow-cpu==2.6.0->-r /workspace/mildew-detection/requirements.txt (line 10)) (3.7.4.3)\n",
      "Requirement already satisfied: clang~=5.0 in /home/gitpod/.pyenv/versions/3.8.12/lib/python3.8/site-packages (from tensorflow-cpu==2.6.0->-r /workspace/mildew-detection/requirements.txt (line 10)) (5.0)\n",
      "Requirement already satisfied: h5py~=3.1.0 in /home/gitpod/.pyenv/versions/3.8.12/lib/python3.8/site-packages (from tensorflow-cpu==2.6.0->-r /workspace/mildew-detection/requirements.txt (line 10)) (3.1.0)\n",
      "Requirement already satisfied: wheel~=0.35 in /home/gitpod/.pyenv/versions/3.8.12/lib/python3.8/site-packages (from tensorflow-cpu==2.6.0->-r /workspace/mildew-detection/requirements.txt (line 10)) (0.42.0)\n",
      "Requirement already satisfied: keras-preprocessing~=1.1.2 in /home/gitpod/.pyenv/versions/3.8.12/lib/python3.8/site-packages (from tensorflow-cpu==2.6.0->-r /workspace/mildew-detection/requirements.txt (line 10)) (1.1.2)\n",
      "Requirement already satisfied: absl-py~=0.10 in /home/gitpod/.pyenv/versions/3.8.12/lib/python3.8/site-packages (from tensorflow-cpu==2.6.0->-r /workspace/mildew-detection/requirements.txt (line 10)) (0.15.0)\n",
      "Requirement already satisfied: gast==0.4.0 in /home/gitpod/.pyenv/versions/3.8.12/lib/python3.8/site-packages (from tensorflow-cpu==2.6.0->-r /workspace/mildew-detection/requirements.txt (line 10)) (0.4.0)\n",
      "Requirement already satisfied: google-pasta~=0.2 in /home/gitpod/.pyenv/versions/3.8.12/lib/python3.8/site-packages (from tensorflow-cpu==2.6.0->-r /workspace/mildew-detection/requirements.txt (line 10)) (0.2.0)\n",
      "Requirement already satisfied: termcolor~=1.1.0 in /home/gitpod/.pyenv/versions/3.8.12/lib/python3.8/site-packages (from tensorflow-cpu==2.6.0->-r /workspace/mildew-detection/requirements.txt (line 10)) (1.1.0)\n",
      "Requirement already satisfied: jinja2 in /home/gitpod/.pyenv/versions/3.8.12/lib/python3.8/site-packages (from altair<5->-r /workspace/mildew-detection/requirements.txt (line 13)) (3.1.3)\n",
      "Requirement already satisfied: entrypoints in /home/gitpod/.pyenv/versions/3.8.12/lib/python3.8/site-packages (from altair<5->-r /workspace/mildew-detection/requirements.txt (line 13)) (0.4)\n",
      "Requirement already satisfied: jsonschema>=3.0 in /home/gitpod/.pyenv/versions/3.8.12/lib/python3.8/site-packages (from altair<5->-r /workspace/mildew-detection/requirements.txt (line 13)) (4.21.1)\n",
      "Requirement already satisfied: toolz in /home/gitpod/.pyenv/versions/3.8.12/lib/python3.8/site-packages (from altair<5->-r /workspace/mildew-detection/requirements.txt (line 13)) (0.12.1)\n",
      "Requirement already satisfied: pkgutil-resolve-name>=1.3.10 in /home/gitpod/.pyenv/versions/3.8.12/lib/python3.8/site-packages (from jsonschema>=3.0->altair<5->-r /workspace/mildew-detection/requirements.txt (line 13)) (1.3.10)\n",
      "Requirement already satisfied: referencing>=0.28.4 in /home/gitpod/.pyenv/versions/3.8.12/lib/python3.8/site-packages (from jsonschema>=3.0->altair<5->-r /workspace/mildew-detection/requirements.txt (line 13)) (0.33.0)\n",
      "Requirement already satisfied: rpds-py>=0.7.1 in /home/gitpod/.pyenv/versions/3.8.12/lib/python3.8/site-packages (from jsonschema>=3.0->altair<5->-r /workspace/mildew-detection/requirements.txt (line 13)) (0.18.0)\n",
      "Requirement already satisfied: importlib-resources>=1.4.0 in /home/gitpod/.pyenv/versions/3.8.12/lib/python3.8/site-packages (from jsonschema>=3.0->altair<5->-r /workspace/mildew-detection/requirements.txt (line 13)) (6.1.3)\n",
      "Requirement already satisfied: jsonschema-specifications>=2023.03.6 in /home/gitpod/.pyenv/versions/3.8.12/lib/python3.8/site-packages (from jsonschema>=3.0->altair<5->-r /workspace/mildew-detection/requirements.txt (line 13)) (2023.12.1)\n",
      "Requirement already satisfied: zipp>=3.1.0 in /home/gitpod/.pyenv/versions/3.8.12/lib/python3.8/site-packages (from importlib-resources>=1.4.0->jsonschema>=3.0->altair<5->-r /workspace/mildew-detection/requirements.txt (line 13)) (3.17.0)\n",
      "Requirement already satisfied: MarkupSafe>=2.0 in /home/gitpod/.pyenv/versions/3.8.12/lib/python3.8/site-packages (from jinja2->altair<5->-r /workspace/mildew-detection/requirements.txt (line 13)) (2.1.5)\n",
      "Requirement already satisfied: google-auth<3,>=1.6.3 in /home/gitpod/.pyenv/versions/3.8.12/lib/python3.8/site-packages (from tensorboard~=2.6->tensorflow-cpu==2.6.0->-r /workspace/mildew-detection/requirements.txt (line 10)) (2.28.1)\n",
      "Requirement already satisfied: markdown>=2.6.8 in /home/gitpod/.pyenv/versions/3.8.12/lib/python3.8/site-packages (from tensorboard~=2.6->tensorflow-cpu==2.6.0->-r /workspace/mildew-detection/requirements.txt (line 10)) (3.5.2)\n",
      "Requirement already satisfied: google-auth-oauthlib<1.1,>=0.5 in /home/gitpod/.pyenv/versions/3.8.12/lib/python3.8/site-packages (from tensorboard~=2.6->tensorflow-cpu==2.6.0->-r /workspace/mildew-detection/requirements.txt (line 10)) (1.0.0)\n",
      "Requirement already satisfied: setuptools>=41.0.0 in /home/gitpod/.pyenv/versions/3.8.12/lib/python3.8/site-packages (from tensorboard~=2.6->tensorflow-cpu==2.6.0->-r /workspace/mildew-detection/requirements.txt (line 10)) (56.0.0)\n",
      "Requirement already satisfied: werkzeug>=1.0.1 in /home/gitpod/.pyenv/versions/3.8.12/lib/python3.8/site-packages (from tensorboard~=2.6->tensorflow-cpu==2.6.0->-r /workspace/mildew-detection/requirements.txt (line 10)) (3.0.1)\n",
      "Requirement already satisfied: tensorboard-data-server<0.8.0,>=0.7.0 in /home/gitpod/.pyenv/versions/3.8.12/lib/python3.8/site-packages (from tensorboard~=2.6->tensorflow-cpu==2.6.0->-r /workspace/mildew-detection/requirements.txt (line 10)) (0.7.2)\n",
      "Requirement already satisfied: pyasn1-modules>=0.2.1 in /home/gitpod/.pyenv/versions/3.8.12/lib/python3.8/site-packages (from google-auth<3,>=1.6.3->tensorboard~=2.6->tensorflow-cpu==2.6.0->-r /workspace/mildew-detection/requirements.txt (line 10)) (0.3.0)\n",
      "Requirement already satisfied: rsa<5,>=3.1.4 in /home/gitpod/.pyenv/versions/3.8.12/lib/python3.8/site-packages (from google-auth<3,>=1.6.3->tensorboard~=2.6->tensorflow-cpu==2.6.0->-r /workspace/mildew-detection/requirements.txt (line 10)) (4.9)\n",
      "Requirement already satisfied: requests-oauthlib>=0.7.0 in /home/gitpod/.pyenv/versions/3.8.12/lib/python3.8/site-packages (from google-auth-oauthlib<1.1,>=0.5->tensorboard~=2.6->tensorflow-cpu==2.6.0->-r /workspace/mildew-detection/requirements.txt (line 10)) (1.3.1)\n",
      "Requirement already satisfied: importlib-metadata>=4.4 in /home/gitpod/.pyenv/versions/3.8.12/lib/python3.8/site-packages (from markdown>=2.6.8->tensorboard~=2.6->tensorflow-cpu==2.6.0->-r /workspace/mildew-detection/requirements.txt (line 10)) (7.0.1)\n",
      "Requirement already satisfied: pyasn1<0.6.0,>=0.4.6 in /home/gitpod/.pyenv/versions/3.8.12/lib/python3.8/site-packages (from pyasn1-modules>=0.2.1->google-auth<3,>=1.6.3->tensorboard~=2.6->tensorflow-cpu==2.6.0->-r /workspace/mildew-detection/requirements.txt (line 10)) (0.5.1)\n",
      "Requirement already satisfied: charset-normalizer<4,>=2 in /home/gitpod/.pyenv/versions/3.8.12/lib/python3.8/site-packages (from requests->streamlit==0.85.0->-r /workspace/mildew-detection/requirements.txt (line 7)) (3.3.2)\n",
      "Requirement already satisfied: idna<4,>=2.5 in /home/gitpod/.pyenv/versions/3.8.12/lib/python3.8/site-packages (from requests->streamlit==0.85.0->-r /workspace/mildew-detection/requirements.txt (line 7)) (3.6)\n",
      "Requirement already satisfied: urllib3<3,>=1.21.1 in /home/gitpod/.pyenv/versions/3.8.12/lib/python3.8/site-packages (from requests->streamlit==0.85.0->-r /workspace/mildew-detection/requirements.txt (line 7)) (2.2.1)\n",
      "Requirement already satisfied: oauthlib>=3.0.0 in /home/gitpod/.pyenv/versions/3.8.12/lib/python3.8/site-packages (from requests-oauthlib>=0.7.0->google-auth-oauthlib<1.1,>=0.5->tensorboard~=2.6->tensorflow-cpu==2.6.0->-r /workspace/mildew-detection/requirements.txt (line 10)) (3.2.2)\n",
      "Requirement already satisfied: gitdb<5,>=4.0.1 in /home/gitpod/.pyenv/versions/3.8.12/lib/python3.8/site-packages (from gitpython->streamlit==0.85.0->-r /workspace/mildew-detection/requirements.txt (line 7)) (4.0.11)\n",
      "Requirement already satisfied: smmap<6,>=3.0.1 in /home/gitpod/.pyenv/versions/3.8.12/lib/python3.8/site-packages (from gitdb<5,>=4.0.1->gitpython->streamlit==0.85.0->-r /workspace/mildew-detection/requirements.txt (line 7)) (5.0.1)\n",
      "Requirement already satisfied: backports.zoneinfo in /home/gitpod/.pyenv/versions/3.8.12/lib/python3.8/site-packages (from tzlocal->streamlit==0.85.0->-r /workspace/mildew-detection/requirements.txt (line 7)) (0.2.1)\n",
      "\u001b[33mWARNING: You are using pip version 21.1.1; however, version 24.0 is available.\n",
      "You should consider upgrading via the '/home/gitpod/.pyenv/versions/3.8.12/bin/python -m pip install --upgrade pip' command.\u001b[0m\n",
      "Note: you may need to restart the kernel to use updated packages.\n"
     ]
    }
   ],
   "source": [
    "pip install -r /workspace/mildew-detection/requirements.txt"
   ]
  },
  {
   "cell_type": "code",
   "execution_count": 2,
   "metadata": {},
   "outputs": [],
   "source": [
    "import os\n",
    "import pandas as pd\n",
    "import numpy as np\n",
    "import matplotlib.pyplot as plt\n",
    "import seaborn as sns\n",
    "from matplotlib.image import imread\n"
   ]
  },
  {
   "cell_type": "markdown",
   "metadata": {},
   "source": [
    "\n",
    "## Change working directory\n",
    "\n",
    "Change working directory from current to parent folder."
   ]
  },
  {
   "cell_type": "code",
   "execution_count": 3,
   "metadata": {},
   "outputs": [
    {
     "data": {
      "text/plain": [
       "'/workspace/mildew-detection/jupyter_notebooks'"
      ]
     },
     "execution_count": 3,
     "metadata": {},
     "output_type": "execute_result"
    }
   ],
   "source": [
    "import os\n",
    "current_dir = os.getcwd()\n",
    "current_dir"
   ]
  },
  {
   "cell_type": "code",
   "execution_count": 4,
   "metadata": {},
   "outputs": [
    {
     "name": "stdout",
     "output_type": "stream",
     "text": [
      "You set a new current directory.\n"
     ]
    }
   ],
   "source": [
    "os.chdir(\"/workspace/mildew-detection\")\n",
    "print(\"You set a new current directory.\")"
   ]
  },
  {
   "cell_type": "code",
   "execution_count": 5,
   "metadata": {},
   "outputs": [
    {
     "data": {
      "text/plain": [
       "'/workspace/mildew-detection'"
      ]
     },
     "execution_count": 5,
     "metadata": {},
     "output_type": "execute_result"
    }
   ],
   "source": [
    "current_dir = os.getcwd()\n",
    "current_dir"
   ]
  },
  {
   "cell_type": "markdown",
   "metadata": {},
   "source": [
    "## Set input directories"
   ]
  },
  {
   "cell_type": "code",
   "execution_count": 6,
   "metadata": {},
   "outputs": [],
   "source": [
    "data_dir = \"inputs/cherry_leaves_raw_dataset/cherry-leaves\"\n",
    "train_dir = data_dir + \"/train\"\n",
    "val_dir = data_dir + \"/validation\"\n",
    "test_dir = data_dir + \"/test\""
   ]
  },
  {
   "cell_type": "markdown",
   "metadata": {},
   "source": [
    "## Set output directories"
   ]
  },
  {
   "cell_type": "code",
   "execution_count": 7,
   "metadata": {},
   "outputs": [
    {
     "name": "stdout",
     "output_type": "stream",
     "text": [
      "This directory already exists, please create a new version if required.\n"
     ]
    }
   ],
   "source": [
    "version = \"v1\"\n",
    "file_path = f\"outputs/{version}\"\n",
    "if \"outputs\" in os.listdir(current_dir) and version in os.listdir(current_dir + \"/outputs\"):\n",
    "    print(\"This directory already exists, please create a new version if required.\")\n",
    "else:\n",
    "    os.makedirs(name=file_path)"
   ]
  },
  {
   "cell_type": "markdown",
   "metadata": {},
   "source": [
    "## Set label names"
   ]
  },
  {
   "cell_type": "code",
   "execution_count": 8,
   "metadata": {},
   "outputs": [
    {
     "name": "stdout",
     "output_type": "stream",
     "text": [
      "The image labels are  ['healthy', 'powdery_mildew']\n"
     ]
    }
   ],
   "source": [
    "labels = os.listdir(train_dir)\n",
    "print(\"The image labels are \", labels)"
   ]
  },
  {
   "cell_type": "markdown",
   "metadata": {},
   "source": [
    "Set image shape"
   ]
  },
  {
   "cell_type": "code",
   "execution_count": 9,
   "metadata": {},
   "outputs": [
    {
     "data": {
      "text/plain": [
       "(80, 80, 3)"
      ]
     },
     "execution_count": 9,
     "metadata": {},
     "output_type": "execute_result"
    }
   ],
   "source": [
    "import joblib\n",
    "version = 'v1'\n",
    "image_shape = joblib.load(filename=f\"outputs/{version}/image_shape.pkl\")\n",
    "image_shape"
   ]
  },
  {
   "cell_type": "markdown",
   "metadata": {},
   "source": [
    "## Image augmentation (Sigmoid)"
   ]
  },
  {
   "cell_type": "markdown",
   "metadata": {},
   "source": [
    "ImageDataGenerator will be used to augment the image pool as the data is loaded\n",
    "\n",
    "As class_mode is different when augmenting for Sigmoid vs Softmax, this needs to be run again in this notebook\n",
    "\n",
    "The ImageDataGenerator is imported and initialised"
   ]
  },
  {
   "cell_type": "code",
   "execution_count": 10,
   "metadata": {},
   "outputs": [],
   "source": [
    "from tensorflow.keras.preprocessing.image import ImageDataGenerator\n",
    "\n",
    "augmented_image_data = ImageDataGenerator(rotation_range=20,\n",
    "                                          width_shift_range=0.10,\n",
    "                                          height_shift_range=0.10,\n",
    "                                          shear_range=0.1,\n",
    "                                          zoom_range=0.1,\n",
    "                                          horizontal_flip=True,\n",
    "                                          vertical_flip=True,\n",
    "                                          fill_mode='nearest',\n",
    "                                          rescale=1./255\n",
    "                                          )"
   ]
  },
  {
   "cell_type": "markdown",
   "metadata": {},
   "source": [
    "And the image pool for each set is augmented to be used in the model"
   ]
  },
  {
   "cell_type": "markdown",
   "metadata": {},
   "source": [
    "### Train set"
   ]
  },
  {
   "cell_type": "code",
   "execution_count": 11,
   "metadata": {},
   "outputs": [
    {
     "name": "stdout",
     "output_type": "stream",
     "text": [
      "Found 2944 images belonging to 2 classes.\n"
     ]
    },
    {
     "data": {
      "text/plain": [
       "{'healthy': 0, 'powdery_mildew': 1}"
      ]
     },
     "execution_count": 11,
     "metadata": {},
     "output_type": "execute_result"
    }
   ],
   "source": [
    "batch_size = 32\n",
    "train_set_2 = augmented_image_data.flow_from_directory(train_dir, # Take images from 'train' folder\n",
    "                                                    target_size=image_shape[:2], \n",
    "                                                    color_mode='rgb',\n",
    "                                                    batch_size=batch_size, \n",
    "                                                    class_mode='binary', # sigmoid activation requires binary\n",
    "                                                    shuffle=True # Shuffle the images\n",
    "                                                    )\n",
    "train_set_2.class_indices  "
   ]
  },
  {
   "cell_type": "markdown",
   "metadata": {},
   "source": [
    "### Validation set"
   ]
  },
  {
   "cell_type": "code",
   "execution_count": 12,
   "metadata": {},
   "outputs": [
    {
     "name": "stdout",
     "output_type": "stream",
     "text": [
      "Found 420 images belonging to 2 classes.\n"
     ]
    },
    {
     "data": {
      "text/plain": [
       "{'healthy': 0, 'powdery_mildew': 1}"
      ]
     },
     "execution_count": 12,
     "metadata": {},
     "output_type": "execute_result"
    }
   ],
   "source": [
    "validation_set_2 = ImageDataGenerator(rescale=1./255).flow_from_directory(val_dir,\n",
    "                                                                        target_size=image_shape[:2],\n",
    "                                                                        color_mode='rgb',\n",
    "                                                                        batch_size=batch_size,\n",
    "                                                                        class_mode='binary',\n",
    "                                                                        shuffle=True\n",
    "                                                                        )\n",
    "validation_set_2.class_indices"
   ]
  },
  {
   "cell_type": "markdown",
   "metadata": {},
   "source": [
    "### Test set"
   ]
  },
  {
   "cell_type": "code",
   "execution_count": 13,
   "metadata": {},
   "outputs": [
    {
     "name": "stdout",
     "output_type": "stream",
     "text": [
      "Found 844 images belonging to 2 classes.\n"
     ]
    },
    {
     "data": {
      "text/plain": [
       "{'healthy': 0, 'powdery_mildew': 1}"
      ]
     },
     "execution_count": 13,
     "metadata": {},
     "output_type": "execute_result"
    }
   ],
   "source": [
    "test_set_2 = ImageDataGenerator(rescale=1./255).flow_from_directory(test_dir,\n",
    "                                                                  target_size=image_shape[:2],\n",
    "                                                                  color_mode='rgb',\n",
    "                                                                  batch_size=batch_size,\n",
    "                                                                  class_mode='binary',\n",
    "                                                                  shuffle=True\n",
    "                                                                  )\n",
    "test_set_2.class_indices"
   ]
  },
  {
   "cell_type": "markdown",
   "metadata": {},
   "source": [
    "Save train set class_indices as a pkl file "
   ]
  },
  {
   "cell_type": "code",
   "execution_count": 15,
   "metadata": {},
   "outputs": [
    {
     "data": {
      "text/plain": [
       "['outputs/v1/class_indices_2.pkl']"
      ]
     },
     "execution_count": 15,
     "metadata": {},
     "output_type": "execute_result"
    }
   ],
   "source": [
    "joblib.dump(value=train_set_2.class_indices,\n",
    "            filename=f\"{file_path}/class_indices_2.pkl\")"
   ]
  },
  {
   "cell_type": "markdown",
   "metadata": {},
   "source": [
    "## Plot augmented images for each set (showing 2 sample images from each)"
   ]
  },
  {
   "cell_type": "markdown",
   "metadata": {},
   "source": [
    "### Train set"
   ]
  },
  {
   "cell_type": "code",
   "execution_count": null,
   "metadata": {},
   "outputs": [],
   "source": [
    "for _ in range(2):\n",
    "    img, label = train_set_2.next()\n",
    "    print(img.shape)  \n",
    "    plt.imshow(img[0])\n",
    "    plt.show()"
   ]
  },
  {
   "cell_type": "markdown",
   "metadata": {},
   "source": [
    "### Validation set"
   ]
  },
  {
   "cell_type": "code",
   "execution_count": null,
   "metadata": {},
   "outputs": [],
   "source": [
    "for _ in range(2):\n",
    "    img, label = validation_set_2.next()\n",
    "    print(img.shape)\n",
    "    plt.imshow(img[0])\n",
    "    plt.show()"
   ]
  },
  {
   "cell_type": "markdown",
   "metadata": {},
   "source": [
    "### Test set"
   ]
  },
  {
   "cell_type": "code",
   "execution_count": null,
   "metadata": {},
   "outputs": [],
   "source": [
    "for _ in range(2):\n",
    "    img, label = test_set_2.next()\n",
    "    print(img.shape)\n",
    "    plt.imshow(img[0])\n",
    "    plt.show()"
   ]
  },
  {
   "cell_type": "markdown",
   "metadata": {},
   "source": [
    "## Create sigmoid output model"
   ]
  },
  {
   "cell_type": "code",
   "execution_count": 16,
   "metadata": {},
   "outputs": [],
   "source": [
    "import tensorflow as tf\n",
    "from tensorflow.keras.models import Sequential\n",
    "from tensorflow.keras.layers import Conv2D, MaxPooling2D, Flatten, Dense, Dropout\n",
    "from tensorflow.keras.optimizers import Nadam\n",
    "from tensorflow.keras.callbacks import LearningRateScheduler\n",
    "\n",
    "# Initial learning rate\n",
    "initial_learning_rate = 1e-3\n",
    "\n",
    "# Learning rate schedule function\n",
    "def lr_schedule(epoch, learning_rate):\n",
    "    if epoch < 8:\n",
    "        return learning_rate  # Initial learning rate for first 8 epochs\n",
    "    else:\n",
    "        return learning_rate * tf.math.exp(-0.1)  # Exponentially decay the learning rate each 8 epochs\n",
    "\n",
    "# learning rate scheduler callback\n",
    "lr_scheduler = LearningRateScheduler(lr_schedule)\n",
    "\n",
    "def create_model_sig(learning_rate=initial_learning_rate):\n",
    "    model = Sequential()\n",
    "\n",
    "    # input layer\n",
    "    model.add(Conv2D(filters=32, kernel_size=(3,3), input_shape=image_shape, activation='relu',))\n",
    "    model.add(MaxPooling2D(pool_size=(2,2)))\n",
    "\n",
    "    # convolution layers\n",
    "    model.add(Conv2D(filters=128, kernel_size=(3,3), activation='relu'))\n",
    "    model.add(MaxPooling2D(pool_size=(2,2)))\n",
    "\n",
    "    model.add(Conv2D(filters=64, kernel_size=(3,3), activation='relu'))\n",
    "    model.add(MaxPooling2D(pool_size=(2,2)))\n",
    "\n",
    "    model.add(Flatten())\n",
    "    model.add(Dense(128, activation = 'relu'))\n",
    "\n",
    "    model.add(Dropout(0.5))\n",
    "\n",
    "    # output\n",
    "    model.add(Dense(1, activation = 'sigmoid'))\n",
    "\n",
    "    model.compile(loss='binary_crossentropy',\n",
    "                optimizer=Nadam(learning_rate=learning_rate),\n",
    "                metrics=['accuracy'])\n",
    "\n",
    "    return model, lr_scheduler  # return the model and lr_scheduler callback\n"
   ]
  },
  {
   "cell_type": "markdown",
   "metadata": {},
   "source": [
    "Show a summary of the sigmoid model"
   ]
  },
  {
   "cell_type": "code",
   "execution_count": 17,
   "metadata": {},
   "outputs": [
    {
     "name": "stdout",
     "output_type": "stream",
     "text": [
      "Model: \"sequential\"\n",
      "_________________________________________________________________\n",
      "Layer (type)                 Output Shape              Param #   \n",
      "=================================================================\n",
      "conv2d (Conv2D)              (None, 78, 78, 32)        896       \n",
      "_________________________________________________________________\n",
      "max_pooling2d (MaxPooling2D) (None, 39, 39, 32)        0         \n",
      "_________________________________________________________________\n",
      "conv2d_1 (Conv2D)            (None, 37, 37, 128)       36992     \n",
      "_________________________________________________________________\n",
      "max_pooling2d_1 (MaxPooling2 (None, 18, 18, 128)       0         \n",
      "_________________________________________________________________\n",
      "conv2d_2 (Conv2D)            (None, 16, 16, 64)        73792     \n",
      "_________________________________________________________________\n",
      "max_pooling2d_2 (MaxPooling2 (None, 8, 8, 64)          0         \n",
      "_________________________________________________________________\n",
      "flatten (Flatten)            (None, 4096)              0         \n",
      "_________________________________________________________________\n",
      "dense (Dense)                (None, 128)               524416    \n",
      "_________________________________________________________________\n",
      "dropout (Dropout)            (None, 128)               0         \n",
      "_________________________________________________________________\n",
      "dense_1 (Dense)              (None, 1)                 129       \n",
      "=================================================================\n",
      "Total params: 636,225\n",
      "Trainable params: 636,225\n",
      "Non-trainable params: 0\n",
      "_________________________________________________________________\n"
     ]
    },
    {
     "name": "stderr",
     "output_type": "stream",
     "text": [
      "2024-03-27 08:48:44.690909: I tensorflow/core/platform/cpu_feature_guard.cc:142] This TensorFlow binary is optimized with oneAPI Deep Neural Network Library (oneDNN) to use the following CPU instructions in performance-critical operations:  AVX2 FMA\n",
      "To enable them in other operations, rebuild TensorFlow with the appropriate compiler flags.\n"
     ]
    }
   ],
   "source": [
    "model, _ = create_model_sig()\n",
    "model.summary()"
   ]
  },
  {
   "cell_type": "markdown",
   "metadata": {},
   "source": [
    "## Early stopping\n",
    "\n",
    "Early stopping is included to stop the model once it starts to overfit"
   ]
  },
  {
   "cell_type": "code",
   "execution_count": 18,
   "metadata": {},
   "outputs": [],
   "source": [
    "from tensorflow.keras.callbacks import EarlyStopping\n",
    "early_stop = EarlyStopping(monitor='val_loss', patience=5)"
   ]
  },
  {
   "cell_type": "markdown",
   "metadata": {},
   "source": [
    "## Fit model for training"
   ]
  },
  {
   "cell_type": "code",
   "execution_count": 19,
   "metadata": {},
   "outputs": [
    {
     "name": "stderr",
     "output_type": "stream",
     "text": [
      "2024-03-27 08:48:50.429312: I tensorflow/compiler/mlir/mlir_graph_optimization_pass.cc:185] None of the MLIR Optimization Passes are enabled (registered 2)\n"
     ]
    },
    {
     "name": "stdout",
     "output_type": "stream",
     "text": [
      "Epoch 1/40\n",
      "92/92 [==============================] - 20s 207ms/step - loss: 0.4062 - accuracy: 0.7993 - val_loss: 0.0895 - val_accuracy: 0.9595\n",
      "Epoch 2/40\n",
      "92/92 [==============================] - 18s 194ms/step - loss: 0.1055 - accuracy: 0.9613 - val_loss: 0.1919 - val_accuracy: 0.9143\n",
      "Epoch 3/40\n",
      "92/92 [==============================] - 18s 193ms/step - loss: 0.0820 - accuracy: 0.9721 - val_loss: 0.0076 - val_accuracy: 0.9976\n",
      "Epoch 4/40\n",
      "92/92 [==============================] - 18s 194ms/step - loss: 0.0703 - accuracy: 0.9776 - val_loss: 0.0073 - val_accuracy: 0.9976\n",
      "Epoch 5/40\n",
      "92/92 [==============================] - 18s 191ms/step - loss: 0.0274 - accuracy: 0.9901 - val_loss: 9.4734e-04 - val_accuracy: 1.0000\n",
      "Epoch 6/40\n",
      "92/92 [==============================] - 18s 192ms/step - loss: 0.0511 - accuracy: 0.9854 - val_loss: 0.0050 - val_accuracy: 0.9976\n",
      "Epoch 7/40\n",
      "92/92 [==============================] - 17s 189ms/step - loss: 0.0274 - accuracy: 0.9905 - val_loss: 0.0013 - val_accuracy: 1.0000\n",
      "Epoch 8/40\n",
      "92/92 [==============================] - 18s 192ms/step - loss: 0.1352 - accuracy: 0.9694 - val_loss: 0.0551 - val_accuracy: 0.9905\n",
      "Epoch 9/40\n",
      "92/92 [==============================] - 17s 190ms/step - loss: 0.0561 - accuracy: 0.9834 - val_loss: 0.0105 - val_accuracy: 0.9952\n",
      "Epoch 10/40\n",
      "92/92 [==============================] - 17s 188ms/step - loss: 0.0318 - accuracy: 0.9929 - val_loss: 0.0029 - val_accuracy: 1.0000\n"
     ]
    },
    {
     "data": {
      "text/plain": [
       "<keras.callbacks.History at 0x7f1b08383460>"
      ]
     },
     "execution_count": 19,
     "metadata": {},
     "output_type": "execute_result"
    }
   ],
   "source": [
    "model, lr_scheduler = create_model_sig()\n",
    "lr_scheduler = LearningRateScheduler(lr_schedule)\n",
    "\n",
    "model.fit(train_set_2, epochs=40, \n",
    "        steps_per_epoch=len(train_set_2.classes) // batch_size,\n",
    "        validation_data=validation_set_2,\n",
    "        callbacks=[early_stop, lr_scheduler],\n",
    "        verbose=1\n",
    "        )"
   ]
  },
  {
   "cell_type": "markdown",
   "metadata": {},
   "source": [
    "## Save the model"
   ]
  },
  {
   "cell_type": "code",
   "execution_count": 20,
   "metadata": {},
   "outputs": [],
   "source": [
    "model.save('outputs/v1/mildew_detection_model_2.h5')"
   ]
  },
  {
   "cell_type": "markdown",
   "metadata": {},
   "source": [
    "# Sigmoid model performance"
   ]
  },
  {
   "cell_type": "markdown",
   "metadata": {},
   "source": [
    "## Model learning curve"
   ]
  },
  {
   "cell_type": "code",
   "execution_count": 21,
   "metadata": {},
   "outputs": [
    {
     "data": {
      "image/png": "[encoded data removed]",
      "text/plain": [
       "<Figure size 640x480 with 1 Axes>"
      ]
     },
     "metadata": {},
     "output_type": "display_data"
    },
    {
     "name": "stdout",
     "output_type": "stream",
     "text": [
      "\n",
      "\n"
     ]
    },
    {
     "data": {
      "image/png": "[encoded data removed]",
      "text/plain": [
       "<Figure size 640x480 with 1 Axes>"
      ]
     },
     "metadata": {},
     "output_type": "display_data"
    }
   ],
   "source": [
    "losses = pd.DataFrame(model.history.history)\n",
    "\n",
    "sns.set_style(\"dark\")\n",
    "losses[['loss','val_loss']].plot(style='.-')\n",
    "plt.title(\"Loss\")\n",
    "plt.savefig(f'{file_path}/model_training_losses_sigmoid.png', bbox_inches='tight', dpi=150)\n",
    "plt.show()\n",
    "\n",
    "print(\"\\n\")\n",
    "\n",
    "losses[['accuracy','val_accuracy']].plot(style='.-')\n",
    "plt.title(\"Accuracy\")\n",
    "plt.savefig(f'{file_path}/model_training_acc_sigmoid.png', bbox_inches='tight', dpi=150)\n",
    "plt.show()"
   ]
  },
  {
   "cell_type": "markdown",
   "metadata": {},
   "source": [
    "## Confusion matrix: Validation set"
   ]
  },
  {
   "cell_type": "code",
   "execution_count": 33,
   "metadata": {},
   "outputs": [
    {
     "ename": "NameError",
     "evalue": "name 'test_set' is not defined",
     "output_type": "error",
     "traceback": [
      "\u001b[0;31m---------------------------------------------------------------------------\u001b[0m",
      "\u001b[0;31mNameError\u001b[0m                                 Traceback (most recent call last)",
      "\u001b[1;32m/workspace/mildew-detection/jupyter_notebooks/Modelling_and_Evaluation_2.ipynb Cell 50\u001b[0m line \u001b[0;36m3\n\u001b[1;32m      <a href='vscode-notebook-cell://caketaster-mildewdetect-r94d8fx043z.ws-us110.gitpod.io/workspace/mildew-detection/jupyter_notebooks/Modelling_and_Evaluation_2.ipynb#Y112sdnNjb2RlLXJlbW90ZQ%3D%3D?line=0'>1</a>\u001b[0m \u001b[39mfrom\u001b[39;00m \u001b[39msklearn\u001b[39;00m\u001b[39m.\u001b[39;00m\u001b[39mmetrics\u001b[39;00m \u001b[39mimport\u001b[39;00m confusion_matrix\n\u001b[0;32m----> <a href='vscode-notebook-cell://caketaster-mildewdetect-r94d8fx043z.ws-us110.gitpod.io/workspace/mildew-detection/jupyter_notebooks/Modelling_and_Evaluation_2.ipynb#Y112sdnNjb2RlLXJlbW90ZQ%3D%3D?line=2'>3</a>\u001b[0m y_correct \u001b[39m=\u001b[39m test_set\u001b[39m.\u001b[39mlabels\n\u001b[1;32m      <a href='vscode-notebook-cell://caketaster-mildewdetect-r94d8fx043z.ws-us110.gitpod.io/workspace/mildew-detection/jupyter_notebooks/Modelling_and_Evaluation_2.ipynb#Y112sdnNjb2RlLXJlbW90ZQ%3D%3D?line=3'>4</a>\u001b[0m con_mat \u001b[39m=\u001b[39m confusion_matrix(y_correct, y_predict)\n\u001b[1;32m      <a href='vscode-notebook-cell://caketaster-mildewdetect-r94d8fx043z.ws-us110.gitpod.io/workspace/mildew-detection/jupyter_notebooks/Modelling_and_Evaluation_2.ipynb#Y112sdnNjb2RlLXJlbW90ZQ%3D%3D?line=5'>6</a>\u001b[0m classes \u001b[39m=\u001b[39m \u001b[39mlist\u001b[39m(validation_set_2\u001b[39m.\u001b[39mclass_indices\u001b[39m.\u001b[39mkeys())\n",
      "\u001b[0;31mNameError\u001b[0m: name 'test_set' is not defined"
     ]
    }
   ],
   "source": [
    "# from sklearn.metrics import confusion_matrix\n",
    "\n",
    "# y_correct = test_set.labels # need to fix this\n",
    "# con_mat = confusion_matrix(y_correct, y_predict)\n",
    "\n",
    "# classes = list(validation_set_2.class_indices.keys())\n",
    "# length = len(classes)\n",
    "\n",
    "# # Swap bottom row figures (they're displaying backwards)\n",
    "# con_mat_swap = con_mat.copy()\n",
    "# con_mat_swap[1, 0], con_mat_swap[1, 1] = con_mat_swap[1, 1], con_mat_swap[1, 0]\n",
    "\n",
    "# # Plot confusion matrix\n",
    "# plt.figure(figsize=(7, 4))\n",
    "# sns.heatmap(con_mat_swap, annot=False, vmin=0, fmt='g', cmap='flare', cbar=False)\n",
    "# plt.xticks(np.arange(length) + 0.5, classes, rotation=0, fontsize=9)\n",
    "# plt.yticks(np.arange(length) + 0.2, classes, rotation=90, fontsize=9)\n",
    "# plt.xlabel(\"Predicted result\")\n",
    "# plt.ylabel(\"Actual result\")\n",
    "# plt.title(\"Validation set: Confusion Matrix (Sigmoid)\\n\")\n",
    "\n",
    "# # Add labels for each section\n",
    "# cm_labels = ['True Negative', 'False Positive', 'False Negative', 'True Positive']\n",
    "# for i in range(length):\n",
    "#     for j in range(length):\n",
    "#         plt.text(j + 0.5, i + 0.5, f'{cm_labels[i*2+j]}\\n{con_mat_swap[i, j]}', ha='center', va='center', fontsize=10, color='white')\n",
    "\n",
    "# plt.savefig(f'{file_path}/validation_set_confusion_matrix_sigmoid.png', bbox_inches='tight', dpi=150)\n",
    "\n",
    "# plt.show()"
   ]
  },
  {
   "cell_type": "markdown",
   "metadata": {},
   "source": [
    "## Model evaluation"
   ]
  },
  {
   "cell_type": "markdown",
   "metadata": {},
   "source": [
    "Load saved model"
   ]
  },
  {
   "cell_type": "code",
   "execution_count": 22,
   "metadata": {},
   "outputs": [],
   "source": [
    "from keras.models import load_model\n",
    "model = load_model('outputs/v1/mildew_detection_model_2.h5')"
   ]
  },
  {
   "cell_type": "markdown",
   "metadata": {},
   "source": [
    "Check model performance on test set"
   ]
  },
  {
   "cell_type": "code",
   "execution_count": 23,
   "metadata": {},
   "outputs": [
    {
     "name": "stdout",
     "output_type": "stream",
     "text": [
      "27/27 [==============================] - 3s 92ms/step - loss: 0.0082 - accuracy: 0.9988\n",
      "Model accuracy: 99.88%\n",
      "Model Loss: 0.0082%\n"
     ]
    }
   ],
   "source": [
    "evaluation = model.evaluate(test_set_2, batch_size=batch_size)\n",
    "print(\"Model accuracy: {:.2f}%\".format(evaluation[1] * 100))\n",
    "print(\"Model Loss: {:.4f}%\".format(evaluation[0]))"
   ]
  },
  {
   "cell_type": "markdown",
   "metadata": {},
   "source": [
    "The model performs with over ___% accuracy, easily meeting the business requirement of 97%"
   ]
  },
  {
   "cell_type": "markdown",
   "metadata": {},
   "source": [
    "## Confusion Matrix\n",
    "\n",
    "Create a confusion matrix for the test set"
   ]
  },
  {
   "cell_type": "code",
   "execution_count": null,
   "metadata": {},
   "outputs": [],
   "source": [
    "# from sklearn.metrics import confusion_matrix\n",
    "\n",
    "# con_mat = confusion_matrix(y_correct,y_predict)\n",
    "\n",
    "# classes = list(test_set_2.class_indices.keys()) \n",
    "# length = len(classes)\n",
    "\n",
    "# # Swap indices, as with validation set confusion matrix\n",
    "# con_mat_swap = con_mat.copy()\n",
    "# con_mat_swap[1, 0], con_mat_swap[1, 1] = con_mat_swap[1, 1], con_mat_swap[1, 0]\n",
    "\n",
    "# # Re-plot the confusion matrix\n",
    "# plt.figure(figsize=(7, 4))\n",
    "# sns.heatmap(con_mat_swap, annot=False, vmin=0, fmt='g', cmap='flare', cbar=False)\n",
    "# plt.xticks(np.arange(2) + 0.5, classes, rotation=0, fontsize=9)\n",
    "# plt.yticks(np.arange(2) + 0.2, classes, rotation=90, fontsize=9)\n",
    "# plt.xlabel(\"Predicted result\")\n",
    "# plt.ylabel(\"Actual result\")\n",
    "# plt.title(\"Test set: Confusion Matrix (Sigmoid)\\n\")\n",
    "\n",
    "# # Add labels for each section\n",
    "# cm_labels = ['True Negative', 'False Positive', 'False Negative', 'True Positive']\n",
    "# for i in range(length):\n",
    "#     for j in range(length):\n",
    "#         plt.text(j + 0.5, i + 0.5, f'{cm_labels[i*2+j]}\\n{con_mat_swap[i, j]}', ha='center', va='center', fontsize=10, color='white')\n",
    "\n",
    "# plt.savefig(f'{file_path}/test_set_confusion_matrix_sigmoid.png', bbox_inches='tight', dpi=150)\n",
    "\n",
    "# plt.show()"
   ]
  },
  {
   "cell_type": "markdown",
   "metadata": {},
   "source": [
    "Save evaluation pkl file"
   ]
  },
  {
   "cell_type": "code",
   "execution_count": 24,
   "metadata": {},
   "outputs": [
    {
     "data": {
      "text/plain": [
       "['outputs/v1/evaluation_sigmoid.pkl']"
      ]
     },
     "execution_count": 24,
     "metadata": {},
     "output_type": "execute_result"
    }
   ],
   "source": [
    "joblib.dump(value=evaluation, filename=f\"outputs/v1/evaluation_sigmoid.pkl\")"
   ]
  },
  {
   "cell_type": "markdown",
   "metadata": {},
   "source": [
    "## Predict on new data\n",
    "\n",
    "An image from the 'healthy' label is fed into the model to randomly check accuracy"
   ]
  },
  {
   "cell_type": "code",
   "execution_count": 25,
   "metadata": {},
   "outputs": [
    {
     "name": "stdout",
     "output_type": "stream",
     "text": [
      "Image shape: (80, 80), Image mode: RGB\n"
     ]
    },
    {
     "data": {
      "image/jpeg": "[encoded data removed]",
      "image/png": "[encoded data removed]",
      "text/plain": [
       "<PIL.Image.Image image mode=RGB size=80x80>"
      ]
     },
     "execution_count": 25,
     "metadata": {},
     "output_type": "execute_result"
    }
   ],
   "source": [
    "from tensorflow.keras.preprocessing import image\n",
    "import random\n",
    "\n",
    "label = labels[0]  # label '0' = 'healthy'\n",
    "image_files = os.listdir(test_dir + '/' + label)\n",
    "random_image_file = random.choice(image_files)\n",
    "\n",
    "pil_image = image.load_img(test_dir + '/' + label + '/' + random_image_file,\n",
    "                           target_size=image_shape, color_mode='rgb')\n",
    "print(f'Image shape: {pil_image.size}, Image mode: {pil_image.mode}')\n",
    "pil_image"
   ]
  },
  {
   "cell_type": "markdown",
   "metadata": {},
   "source": [
    "Convert image to an array for prediction"
   ]
  },
  {
   "cell_type": "code",
   "execution_count": 26,
   "metadata": {},
   "outputs": [
    {
     "name": "stdout",
     "output_type": "stream",
     "text": [
      "(1, 80, 80, 3)\n"
     ]
    }
   ],
   "source": [
    "my_image = image.img_to_array(pil_image)\n",
    "my_image = np.expand_dims(my_image, axis=0)/255\n",
    "print(my_image.shape)"
   ]
  },
  {
   "cell_type": "markdown",
   "metadata": {},
   "source": [
    "The prediction is run"
   ]
  },
  {
   "cell_type": "code",
   "execution_count": 28,
   "metadata": {},
   "outputs": [
    {
     "name": "stdout",
     "output_type": "stream",
     "text": [
      "0.9999703637622588\n",
      "healthy\n"
     ]
    }
   ],
   "source": [
    "prediction_probability = model.predict(my_image)[0, 0]\n",
    "\n",
    "target_map = {v: k for k, v in train_set_2.class_indices.items()}\n",
    "prediction_class = target_map[prediction_probability > 0.5]\n",
    "\n",
    "if prediction_class == target_map[0]:\n",
    "    prediction_probability = 1 - prediction_probability\n",
    "\n",
    "print(prediction_probability)\n",
    "print(prediction_class)"
   ]
  },
  {
   "cell_type": "markdown",
   "metadata": {},
   "source": [
    "The steps above are repeated for a random infected image as a second check"
   ]
  },
  {
   "cell_type": "code",
   "execution_count": 29,
   "metadata": {},
   "outputs": [
    {
     "name": "stdout",
     "output_type": "stream",
     "text": [
      "Image shape: (80, 80), Image mode: RGB\n"
     ]
    },
    {
     "data": {
      "image/jpeg": "[encoded data removed]",
      "image/png": "[encoded data removed]",
      "text/plain": [
       "<PIL.Image.Image image mode=RGB size=80x80>"
      ]
     },
     "execution_count": 29,
     "metadata": {},
     "output_type": "execute_result"
    }
   ],
   "source": [
    "from tensorflow.keras.preprocessing import image\n",
    "import random\n",
    "\n",
    "label = labels[1]  # label '1' = 'powdery_mildew'\n",
    "image_files = os.listdir(test_dir + '/' + label)\n",
    "random_image_file = random.choice(image_files)\n",
    "\n",
    "pil_image = image.load_img(test_dir + '/' + label + '/' + random_image_file,\n",
    "                           target_size=image_shape, color_mode='rgb')\n",
    "print(f'Image shape: {pil_image.size}, Image mode: {pil_image.mode}')\n",
    "pil_image"
   ]
  },
  {
   "cell_type": "code",
   "execution_count": 30,
   "metadata": {},
   "outputs": [
    {
     "name": "stdout",
     "output_type": "stream",
     "text": [
      "(1, 80, 80, 3)\n"
     ]
    }
   ],
   "source": [
    "my_image = image.img_to_array(pil_image)\n",
    "my_image = np.expand_dims(my_image, axis=0)/255\n",
    "print(my_image.shape)"
   ]
  },
  {
   "cell_type": "code",
   "execution_count": 31,
   "metadata": {},
   "outputs": [
    {
     "name": "stdout",
     "output_type": "stream",
     "text": [
      "0.999931\n",
      "powdery_mildew\n"
     ]
    }
   ],
   "source": [
    "prediction_probability = model.predict(my_image)[0, 0]\n",
    "\n",
    "target_map = {v: k for k, v in train_set_2.class_indices.items()}\n",
    "prediction_class = target_map[prediction_probability > 0.5]\n",
    "\n",
    "if prediction_class == target_map[0]:\n",
    "    prediction_probability = 1 - prediction_probability\n",
    "\n",
    "print(prediction_probability)\n",
    "print(prediction_class)"
   ]
  },
  {
   "cell_type": "markdown",
   "metadata": {},
   "source": [
    "Put sensitive datafiles into .gitignore"
   ]
  },
  {
   "cell_type": "code",
   "execution_count": null,
   "metadata": {},
   "outputs": [],
   "source": [
    "!cat .gitignore"
   ]
  },
  {
   "cell_type": "markdown",
   "metadata": {},
   "source": [
    "# Conclusions"
   ]
  },
  {
   "cell_type": "markdown",
   "metadata": {},
   "source": [
    "- A Sigmoid model was created and the parameters/hyperparameters tuned using different numbers of nodes, loss metrics, epochs and optimizers and emerged as extremely accurate (>99%). As seen in the confusion matrix, it correctly predicted every single image in the test set\n",
    "- A larger dataset, as well as further tuning of hyperparameters may help to refine accuracy somewhat, though the model already performs far above the required 97% - there's not a lot of room to improve further\n",
    "- Files were moved to .gitignore to fulfil Business Requirement 3 - not sharing official Farmy & Foods data"
   ]
  },
  {
   "cell_type": "markdown",
   "metadata": {},
   "source": [
    "## Next steps"
   ]
  },
  {
   "cell_type": "markdown",
   "metadata": {},
   "source": [
    "- A Streamlit Dashboard will be constructed to fulfil Business Requirement 2"
   ]
  }
 ],
 "metadata": {
  "kernelspec": {
   "display_name": "Python 3",
   "language": "python",
   "name": "python3"
  },
  "language_info": {
   "codemirror_mode": {
    "name": "ipython",
    "version": 3
   },
   "file_extension": ".py",
   "mimetype": "text/x-python",
   "name": "python",
   "nbconvert_exporter": "python",
   "pygments_lexer": "ipython3",
   "version": "3.8.12"
  }
 },
 "nbformat": 4,
 "nbformat_minor": 2
}
